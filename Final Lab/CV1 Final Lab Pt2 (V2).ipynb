{
 "cells": [
  {
   "cell_type": "markdown",
   "metadata": {
    "id": "d7PRKfXw99hy"
   },
   "source": [
    "<center><img src=\"https://editor.analyticsvidhya.com/uploads/46151Deep_Learning_Software_DE_1380x735px_1150x_.png\" width=50% ></center>\n",
    "\n",
    "# <center> Lab Project Part 2: Image Classification using Convolutional Neural Networks </center>\n",
    "<center> Computer Vision 1, University of Amsterdam </center>\n",
    "<center> Due 23:59, October 21, 2023 (Amsterdam time) </center>\n",
    "\n",
    "***\n",
    "\n",
    "<center>\n",
    "<b>TA's: Xiaoyan Xing, Vladimir Yugay, Luca Pantea</b>\n",
    "\n",
    "Student1 ID: \\\n",
    "Student1 Name:\n",
    "\n",
    "Student2 ID: \\\n",
    "Student2 Name:\n",
    "\n",
    "Student3 ID: \\\n",
    "Student3 Name:\n",
    "\n",
    "( Student4 ID: \\\n",
    "Student4 Name: )\n",
    "</center>"
   ]
  },
  {
   "cell_type": "markdown",
   "metadata": {
    "id": "u3TPoO70b2iE"
   },
   "source": [
    "# **Instructions**\n",
    "\n",
    "1. Students are expected to prepare a report covering both sections of this assignment. The report should include answers to all questions, written details on implementation approaches, the analysis of the results for different settings and visualizations to illustrate experiments with and performance of your implementation. Grading will primarily be based on the report (i.e. it should be self-contained as much as possible). If the report contains any faulty results or ambiguities, the TA's can take a look at your code to find out what happened.\n",
    "\n",
    "2. Do not just provide numbers without explanation, remember to follow the general guidelines and discuss different settings to show you understand the material and the processes at work.\n",
    "\n",
    "3. This part of the Final Lab contains an *optional* bonus challenge. See section 3 below.\n",
    "\n",
    "**Hint:** Having visual elements such as charts, graphs and plots are always useful for everyone. Keep this in mind while writing your reports.\n"
   ]
  },
  {
   "cell_type": "markdown",
   "metadata": {
    "id": "iY6wdmc299h1"
   },
   "source": [
    "# **General Guidelines**\n",
    "1. **Aim**:\n",
    "     - Able to understand Image Recognition/Classification using Convolutional Neural Networks.\n",
    "     - Get familiar with PyTorch, widely used Deep Learning framework\n",
    "2. **Prerequisites**:\n",
    "     - Familiarity with Python and relevant packages.\n",
    "     - Know the basics of feature descriptors (SIFT, HoG) and machine learning tools (K-means, SVM and etc.).\n",
    "3. **Guidelines**:\n",
    "    Students should work on the assignments in their assignment group for **two** weeks.\n",
    "\n",
    "    Any questions regarding the assignment content can be discussed on Piazza.\n",
    "    \n",
    "    Your source code and report must be handed in together in a zip file (**ID1_ID2_ID3_part2.zip**) before the deadline. Make sure your report follows these guidelines:\n",
    "    - *The maximum number of pages for this part is 10 (single-column, including tables and figures). Please express your thoughts concisely.*\n",
    "    - *Follow the given instructions and answer all given questions. **Briefly describe what you implemented for each question in the report**.*\n",
    "    - *Show you understand the algorithms and implementations: explain why certain settings produce certain results. When constructing graphs, tables and other figures, make your figures as informative as possible (choose relevant sample sizes, axes, etc.), to illustrate your arguments*\n",
    "    - *Tables and figures must be accompanied by a brief description. Do not forget to add a number, a title, and if applicable name and unit of variables in a table, name and unit of axes and legends in a figure.*\n",
    "\n",
    "4. The report should be handed in in **PDF-format**. Your code should be handed in in **.ipynb format** (Jupyter Notebook). This does not mean you have to make your project in a notebook, it just means it **should be submitted as a notebook**. This means that you can, for example, have separate python files in which you declare your classes/methods, but **_you will have to initialize/call these in the final notebook before you submit_**. Be sure to test whether all your functionality works as expected when ran in a notebook (**Before submission, go in the `Kernel` tab and press `Restart & Run All`**). If you use a Conda environment, be sure to include it in your submission.\n",
    "\n",
    "5. **Late submissions** are not allowed. Assignments that are submitted after the strict deadline will not be graded. In case of submission conflicts, TAs' system clock is taken as reference. We strongly recommend submitting well in advance, to avoid last minute system failure issues.\n",
    "\n",
    "6. **Plagiarism note**: Keep in mind that plagiarism (submitted materials which are not your work) is a serious crime and any misconduct shall be punished with the university regulations. This includes the use of ChatGPT and other generative AI tools.\n",
    "\n",
    "<!-- ### PyTorch versions\n",
    "we assume that you are using latest PyTorch version(>=1.4)\n",
    "\n",
    "### PyTorch Tutorial & Docs\n",
    "This tutorial aims to make you familiar with the programming environment that will be used throughout the course. If you have experience with PyTorch or other frameworks (TensorFlow, MXNet *etc.*), you can skip the tutorial exercises; otherwise, we suggest that you complete them all, as they are helpful for getting hands-on experience.\n",
    "\n",
    "**Anaconda Environment** We recommend installing \\textit{anaconda} for configuring \\textit{python} package dependencies, whereas it's also fine to use other environment managers as you like. The installation of anaconda can be found in [anaconda link](https://docs.anaconda.com/anaconda/install/).\n",
    "\n",
    "**Installation** The installation of PyTorch is available at [install link](https://pytorch.org/get-started/locally/) depending on your device and system.\n",
    "\n",
    "**Getting start** The 60-minute blitz can be found at [blitz](https://pytorch.org/tutorials/beginner/deep_learning_60min_blitz.html), and and examples are at [examples](https://pytorch.org/tutorials/beginner/pytorch_with_examples.html)\n",
    "\n",
    "**Documents** There might be potential unknown functions or classes, you shall look through the official documents website ([Docs](https://pytorch.org/docs/stable/index.html)) and figure them out by yourself. (***Think***:} What's the difference between *torch.nn.Conv2d* and *torch.nn.functional.conv2d*?)\n",
    "You can learn pytorch from the [tutorial link](https://pytorch.org/tutorials/). The Docs information can be searched at [Docs](https://pytorch.org/docs/stable/index.html). In this assignments, we wish you to form the basic capability of using one of the well-known   -->"
   ]
  },
  {
   "cell_type": "markdown",
   "metadata": {
    "id": "D2EILNe3JR1b"
   },
   "source": [
    "#  **Introduction**\n",
    "\n",
    "This part of the assignment makes use of Convolutional Neural Networks (CNN's). The previous part makes use of hand-crafted features like SIFT to represent images, then trains a classifier on top of them. In this way, learning is a two-step procedure with image representation and learning. The method used here instead *learns* the features jointly with the classification. Training CNNs roughly consists of three parts:\n",
    "1. Creating the network architecture\n",
    "\n",
    "2. Preprocessing the data\n",
    "\n",
    "3. Feeding the data to the network, and updating the parameters.\n",
    "\n",
    "Please follow the instructions and finish the below tasks. (**Note:**  you are allowed to change the provided code.)"
   ]
  },
  {
   "cell_type": "markdown",
   "metadata": {
    "id": "CXQBnhT499h2"
   },
   "source": [
    "# **Section 1: Image Classifiation on CIFAR-100**\n",
    "### 1.1 Install pytorch and run the given code\n",
    "\n",
    "First of all, you need to install PyTorch and relevant packages. In this part, we will use [CIFAR-100](https://www.cs.toronto.edu/~kriz/cifar.html) as the training and testing dataset."
   ]
  },
  {
   "cell_type": "code",
   "execution_count": 1,
   "metadata": {
    "id": "47K1Kzph99h3",
    "tags": []
   },
   "outputs": [],
   "source": [
    "#####################################################\n",
    "# referenced code: https://pytorch.org/tutorials/\n",
    "# referenced code: http://cs231n.stanford.edu/\n",
    "# referenced code: https://cs.stanford.edu/~acoates/stl10/\n",
    "######################################################\n",
    "import torch\n",
    "import torchvision\n",
    "import torchvision.transforms as transforms\n",
    "import torch.nn as nn\n",
    "import torch.nn.functional as F\n",
    "import matplotlib.pyplot as plt\n",
    "import numpy as np\n",
    "import torch.optim as optim\n",
    "from PIL import Image\n",
    "from tqdm.auto import tqdm\n",
    "\n",
    "from torch.utils.data import DataLoader, random_split, Dataset\n",
    "\n",
    "from lookahead import Lookahead\n",
    "from lion_pytorch import Lion"
   ]
  },
  {
   "cell_type": "code",
   "execution_count": 2,
   "metadata": {
    "id": "8AU03smp99h4",
    "tags": []
   },
   "outputs": [
    {
     "name": "stdout",
     "output_type": "stream",
     "text": [
      "Files already downloaded and verified\n"
     ]
    }
   ],
   "source": [
    "transform = transforms.Compose(\n",
    "    [transforms.ToTensor(),\n",
    "     transforms.Normalize((0.5, 0.5, 0.5), (0.5, 0.5, 0.5))])\n",
    "\n",
    "trainset = torchvision.datasets.CIFAR100(root='./data', train=True,\n",
    "                                        download=True, transform=transform)\n",
    "trainloader = torch.utils.data.DataLoader(trainset, batch_size=5,\n",
    "                                          shuffle=True, num_workers=2)\n",
    "\n",
    "testset = torchvision.datasets.CIFAR100(root='./data', train=False,\n",
    "                                       download=False, transform=transform)\n",
    "testloader = torch.utils.data.DataLoader(testset, batch_size=4,\n",
    "                                         shuffle=False, num_workers=2)\n",
    "\n",
    "classes = ('apple', 'aquarium_fish', 'baby','bear', 'beaver','bed','bee','beetle','bicycle','bottle', 'bowl','boy','bridge', 'bus','butterfly', 'camel','can','castle','caterpillar','cattle',\n",
    " 'chair','chimpanzee','clock','cloud', 'cockroach','couch', 'cra','crocodile', 'cup','dinosaur','dolphin', 'elephant','flatfish', 'forest', 'fox','girl', 'hamster', 'house','kangaroo','keyboard',\n",
    "'lamp', 'lawn_mower', 'leopard', 'lion','lizard','lobster', 'man','maple_tree','motorcycle', 'mountain', 'mouse','mushroom','oak_tree', 'orange','orchid', 'otter', 'palm_tree','pear', 'pickup_truck','pine_tree',\n",
    "'plain', 'plate', 'poppy','porcupine','possum','rabbit','raccoon','ray','road','rocket','rose','sea', 'seal', 'shark','shrew', 'skunk','skyscraper', 'snail','snake','spider',\n",
    "'squirrel', 'streetcar', 'sunflower','sweet_pepper', 'table','tank','telephone', 'television', 'tiger','tractor','train','trout', 'tulip', 'turtle','wardrobe', 'whale', 'willow_tree','wolf', 'woman','worm')"
   ]
  },
  {
   "cell_type": "markdown",
   "metadata": {
    "id": "qvNbVoMh99h5"
   },
   "source": [
    "####  **` Q1.1: Test dataloader and show the images of each class  of CIFAR-100 (3-pts)`**  \n",
    "You need to run and modify the given code and **show** the example images of CIFAR-100, **describe** the classes and images of CIFAR-100. (Please visualize at least one picture for the classes of labels from 0 to 4.) (3-*pts*)"
   ]
  },
  {
   "cell_type": "code",
   "execution_count": 3,
   "metadata": {
    "id": "7hhMU6z999h6",
    "tags": []
   },
   "outputs": [],
   "source": [
    "def imshow(img):\n",
    "    img = img / 2 + 0.5     # unnormalize\n",
    "    npimg = img.numpy()\n",
    "    plt.imshow(np.transpose(npimg, (1, 2, 0)))\n",
    "    plt.show()"
   ]
  },
  {
   "cell_type": "code",
   "execution_count": 4,
   "metadata": {
    "id": "7iPwTYDB99h7",
    "tags": []
   },
   "outputs": [
    {
     "data": {
      "image/png": "[encoded data removed]",
      "text/plain": [
       "<Figure size 640x480 with 1 Axes>"
      ]
     },
     "metadata": {},
     "output_type": "display_data"
    },
    {
     "name": "stdout",
     "output_type": "stream",
     "text": [
      "chimpanzee  tank flatfish rabbit castle\n"
     ]
    }
   ],
   "source": [
    "# get some random training images\n",
    "dataiter = iter(trainloader)\n",
    "images, labels = next(dataiter)\n",
    "\n",
    "# show images\n",
    "imshow(torchvision.utils.make_grid(images))\n",
    "\n",
    "# print labels\n",
    "print(' '.join('%5s' % classes[labels[j]] for j in range(5)))"
   ]
  },
  {
   "cell_type": "code",
   "execution_count": 5,
   "metadata": {
    "tags": []
   },
   "outputs": [
    {
     "data": {
      "text/plain": [
       "torch.Size([3, 32, 32])"
      ]
     },
     "execution_count": 5,
     "metadata": {},
     "output_type": "execute_result"
    }
   ],
   "source": [
    "images[0].shape"
   ]
  },
  {
   "cell_type": "markdown",
   "metadata": {
    "id": "DZ6OkCV9LIM9"
   },
   "source": [
    "### 1.2 Architecture understanding\n",
    "\n",
    "In this section, we provide templates for two classes inheriting from the PyTorch superclass [*nn.Module*](https://pytorch.org/docs/stable/generated/torch.nn.Module.html) (the base class for all neural network modules). One is an ordinary two-layer network (*TwolayerNet*) with fully connected layers and ReLu, and the other is a Convolutional Network (*ConvNet*) utilizing the structure of [LeNet-5](https://ieeexplore.ieee.org/document/726791).\n",
    "\n",
    "**Note**: you are allowed to change the provided function definitions."
   ]
  },
  {
   "cell_type": "markdown",
   "metadata": {
    "id": "w6a1z2vK99h7"
   },
   "source": [
    "####  **`Q1.2: Architecture understanding. Implement architecture of TwolayerNet and ConvNet (4-pts).`**\n",
    "\n",
    "1. Complement the architecture of *TwolayerNet* class, and complement the architecture of *ConvNet* class using the structure of LeNet-5. (2-*pts*)\n",
    "2. Since you need to feed color images into these two networks, what's the kernel size of the first convolutional layer in *ConvNet*? and how many trainable parameters are there in \"F6\" layer (given the calculation process)? (2-*pts*)"
   ]
  },
  {
   "cell_type": "code",
   "execution_count": 6,
   "metadata": {
    "id": "ILrfnDDv99h8",
    "tags": []
   },
   "outputs": [],
   "source": [
    "class TwoLayerNet(nn.Module):\n",
    "    def __init__(self, input_size=3*32*32, hidden_size=2048, num_classes=100):\n",
    "        super(TwoLayerNet, self).__init__()\n",
    "        \n",
    "        self.fc1 = nn.Linear(input_size, hidden_size)\n",
    "        self.fc2 = nn.Linear(hidden_size, num_classes)\n",
    "        \n",
    "    def forward(self, x):\n",
    "        x = x.view(x.shape[0], -1)  # Flatten the input\n",
    "        x = F.relu(self.fc1(x))\n",
    "        scores = self.fc2(x)\n",
    "        return scores\n"
   ]
  },
  {
   "cell_type": "code",
   "execution_count": 7,
   "metadata": {
    "id": "5E2a9-lz99h8",
    "tags": []
   },
   "outputs": [],
   "source": [
    "class ConvNet(nn.Module):\n",
    "    def __init__(self):\n",
    "        super(ConvNet, self).__init__()\n",
    "        \n",
    "        # C1: Convolutional Layer\n",
    "        self.conv1 = nn.Conv2d(3, 6, 5)  # 3 channels (color image), 6 output channels, 5x5 kernel\n",
    "        \n",
    "        # S2: Average Pooling Layer\n",
    "        self.pool = nn.AvgPool2d(2, 2)\n",
    "        \n",
    "        # C3: Convolutional Layer\n",
    "        self.conv2 = nn.Conv2d(6, 16, 5)\n",
    "        \n",
    "        # S4: Average Pooling Layer\n",
    "        # No need to define another pooling layer as it's the same as S2\n",
    "        \n",
    "        # C5: Fully Connected Layer\n",
    "        self.fc1 = nn.Linear(16 * 5 * 5, 120)\n",
    "        \n",
    "        # F6: Fully Connected Layer\n",
    "        self.fc2 = nn.Linear(120, 84)\n",
    "        self.fc3 = nn.Linear(84, 100)  # Assume we have 10 classes, adjust this according to your dataset\n",
    "        \n",
    "    def forward(self, x):\n",
    "        x = self.pool(F.relu(self.conv1(x)))\n",
    "        x = self.pool(F.relu(self.conv2(x)))\n",
    "        x = x.view(-1, 16 * 5 * 5)\n",
    "        x = F.relu(self.fc1(x))\n",
    "        x = F.relu(self.fc2(x))\n",
    "        x = self.fc3(x)\n",
    "        return x"
   ]
  },
  {
   "cell_type": "markdown",
   "metadata": {
    "id": "aCP1tS7lL8hF"
   },
   "source": [
    "### 1.3 Preparation of training\n",
    "\n",
    "In above section, we use the *CIFAR-100* dataset class from *torchvision.utils* provided by PyTorch. Whereas in most cases, you need to prepare the dataset yourself. One of the ways is to create a *dataset* class yourself and then use the *DataLoader* to make it iterable. After preparing the training and testing data, you also need to define the transform function for data augmentation and optimizer for parameter updating."
   ]
  },
  {
   "cell_type": "markdown",
   "metadata": {
    "id": "1oyc8Ksd99h-"
   },
   "source": [
    "####  **` Q1.3: Preparation of training. Create the Dataloader class, define the transform function and the optimizer.(8-pts)`**  \n",
    "1. Complement the *CIFAR100\\_loader* (2-pts)\n",
    "2. Complement the *Transform* function and the *Optimizer* (2-pts)\n",
    "3. Train the *TwolayerNet* and *ConvNet* with *CIFAR100\\_loader*, *Transform* and *Optimizer* you implemented and compare the results (4-pts)"
   ]
  },
  {
   "cell_type": "markdown",
   "metadata": {
    "id": "QkImoAsU99h-"
   },
   "source": [
    "##### *` Complement the CIFAR100_loader class (2-pts)`*"
   ]
  },
  {
   "cell_type": "code",
   "execution_count": 8,
   "metadata": {
    "id": "G9Za4VSP99h_",
    "tags": []
   },
   "outputs": [],
   "source": [
    "###  suggested reference: https://pytorch.org/tutorials/\n",
    "# recipes/recipes/custom_dataset_transforms_loader.html?highlight=dataloader\n",
    "# functions to show an image\n",
    "\n",
    "class CIFAR100_loader(torch.utils.data.Dataset):\n",
    "    def __init__(self, root, train=True, transform=None):\n",
    "        '''CIFAR-100 dataset loader'''\n",
    "        self.root = root\n",
    "        self.train = train\n",
    "        self.transform = transform\n",
    "        \n",
    "        # Load the CIFAR-100 data\n",
    "        self.data = torchvision.datasets.CIFAR100(root=self.root, train=self.train, download=True)\n",
    "        \n",
    "    def __len__(self):\n",
    "        return len(self.data)\n",
    "    \n",
    "    def __getitem__(self, item):\n",
    "        img, target = self.data[item]\n",
    "        \n",
    "        if self.transform:\n",
    "            img = self.transform(img)\n",
    "            \n",
    "        return img, target"
   ]
  },
  {
   "cell_type": "markdown",
   "metadata": {
    "id": "mYKtNWW_99h_"
   },
   "source": [
    "##### *` Complement the Transform function and the Optimizer (2-pts)`*"
   ]
  },
  {
   "cell_type": "code",
   "execution_count": 9,
   "metadata": {
    "id": "E2yNqZpZ99h_",
    "tags": []
   },
   "outputs": [],
   "source": [
    "transform_train = transforms.Compose([\n",
    "    transforms.RandomResizedCrop(32, scale=(0.7, 1)), \n",
    "    transforms.RandomHorizontalFlip(),  \n",
    "    transforms.RandomVerticalFlip(p=0.2),  \n",
    "    transforms.ColorJitter(brightness=0.2, contrast=0.2, saturation=0.2, hue=0.1), \n",
    "    transforms.RandomAffine(degrees=10, translate=(0.1, 0.1)),  \n",
    "    transforms.RandomPerspective(distortion_scale=0.2, p=0.5, interpolation=3), \n",
    "    transforms.RandomGrayscale(p=0.2), \n",
    "    transforms.ToTensor(),\n",
    "    transforms.Normalize((0.5, 0.5, 0.5), (0.5, 0.5, 0.5)) \n",
    "])\n",
    "\n",
    "transform_test = transforms.Compose([transforms.ToTensor(),\n",
    "                                     transforms.Normalize((0.5, 0.5, 0.5), (0.5, 0.5, 0.5))])\n",
    "\n",
    "def get_optimizer(model, lr=1e-2):\n",
    "    optimizer = torch.optim.SGD(model.parameters(),\n",
    "                                lr=lr,\n",
    "                                weight_decay=1e-4,\n",
    "                                momentum=0.9)\n",
    "    return Lookahead(optimizer)"
   ]
  },
  {
   "cell_type": "markdown",
   "metadata": {
    "id": "EYpJN5Cb99h_"
   },
   "source": [
    "##### *` Train the TwolayerNet and ConvNet with CIFAR100_loader, transform and optimizer you implemented and compare the results (4-pts)`*"
   ]
  },
  {
   "cell_type": "code",
   "execution_count": 10,
   "metadata": {
    "id": "7FBozCDk99h-",
    "tags": []
   },
   "outputs": [],
   "source": [
    "def valid(net, testloader):\n",
    "    net.eval()\n",
    "    device = torch.device(\"cuda\" if torch.cuda.is_available() else \"cpu\")\n",
    "    correct = 0\n",
    "    total = 0\n",
    "    with torch.no_grad():\n",
    "        for data in testloader:\n",
    "            inputs, labels = data\n",
    "            inputs, labels = inputs.to(device), labels.to(device)\n",
    "            outputs = net(inputs)\n",
    "            _, predicted = torch.max(outputs.data, 1)\n",
    "            total += labels.size(0)\n",
    "            correct += (predicted == labels).sum().item()\n",
    "\n",
    "    accuracy = 100 * correct / total\n",
    "    print('Accuracy of the network on the 10000 test images: %d %%' % (accuracy))\n",
    "    return accuracy"
   ]
  },
  {
   "cell_type": "code",
   "execution_count": 11,
   "metadata": {
    "id": "zm7FuYwJ99h-",
    "tags": []
   },
   "outputs": [],
   "source": [
    "def valid_class(net, testloader, classes):\n",
    "    net.eval()\n",
    "    device = torch.device(\"cuda\" if torch.cuda.is_available() else \"cpu\")\n",
    "    class_correct = list(0. for _ in range(len(classes)))\n",
    "    class_total = list(0. for _ in range(len(classes)))\n",
    "    with torch.no_grad():\n",
    "        for data in testloader:\n",
    "            inputs, labels = data\n",
    "            inputs, labels = inputs.to(device), labels.to(device)\n",
    "            outputs = net(inputs)\n",
    "            _, predicted = torch.max(outputs, 1)\n",
    "            c = (predicted == labels).squeeze()\n",
    "            for i in range(len(labels)):\n",
    "                label = labels[i]\n",
    "                class_correct[label] += c[i].item()\n",
    "                class_total[label] += 1           \n",
    "\n",
    "    for i in range(len(classes)):\n",
    "        print('Accuracy of %5s : %2d %%' % (\n",
    "            classes[i], 100 * class_correct[i] / class_total[i]))"
   ]
  },
  {
   "cell_type": "code",
   "execution_count": 12,
   "metadata": {
    "id": "hNwBZvfX99h_",
    "tags": []
   },
   "outputs": [],
   "source": [
    "from torch.optim.lr_scheduler import OneCycleLR\n",
    "\n",
    "def train(net, train_loader, testloader, epochs=100):\n",
    "    # Determine the device to use\n",
    "    device = torch.device(\"cuda\" if torch.cuda.is_available() else \"cpu\")\n",
    "    print(f'Training on {device}')\n",
    "\n",
    "    net.to(device)\n",
    "\n",
    "    criterion = torch.nn.CrossEntropyLoss(label_smoothing=0.1)\n",
    "    optimizer = get_optimizer(net)\n",
    "\n",
    "    # Define the OneCycleLR scheduler\n",
    "    scheduler = OneCycleLR(optimizer, max_lr=0.02, pct_start=0.01, steps_per_epoch=len(train_loader), epochs=epochs)\n",
    "\n",
    "    net.train()\n",
    "    for epoch in tqdm(range(epochs)):\n",
    "        total = 0\n",
    "        correct = 0.0\n",
    "        running_loss = 0.0\n",
    "        for batch in tqdm(train_loader, leave=False):\n",
    "            # Get the inputs and labels\n",
    "            inputs, labels = batch\n",
    "            inputs, labels = inputs.to(device), labels.to(device)\n",
    "\n",
    "            # Zero the parameter gradients\n",
    "            optimizer.zero_grad()\n",
    "\n",
    "            # Forward pass\n",
    "            outputs = net(inputs)\n",
    "            \n",
    "            _, predicted = torch.max(outputs.data, 1)\n",
    "            total += labels.size(0)\n",
    "            correct += (predicted == labels).sum().item()\n",
    "\n",
    "            # Compute the loss\n",
    "            loss = criterion(outputs, labels)\n",
    "\n",
    "            # Backward pass\n",
    "            loss.backward()\n",
    "\n",
    "            # Update the parameters\n",
    "            optimizer.step()\n",
    "\n",
    "            scheduler.step()\n",
    "\n",
    "            # Print statistics\n",
    "            running_loss += loss.item()\n",
    "            \n",
    "        accuracy = 100 * correct / total\n",
    "\n",
    "        net.eval()\n",
    "        correct = 0\n",
    "        total = 0\n",
    "        with torch.no_grad():\n",
    "            for data in testloader:\n",
    "                inputs, labels = data\n",
    "                inputs, labels = inputs.to(device), labels.to(device)\n",
    "                outputs = net(inputs)\n",
    "                _, predicted = torch.max(outputs.data, 1)\n",
    "                total += labels.size(0)\n",
    "                correct += (predicted == labels).sum().item()\n",
    "    \n",
    "        test_accuracy = 100 * correct / total\n",
    "\n",
    "        \n",
    "        print(f\"Epoch {epoch + 1} || train accuracy: {accuracy}% || test sccuracy: {test_accuracy}%\")\n",
    "        net.train()\n",
    "        \n",
    "    print('Finished Training')"
   ]
  },
  {
   "cell_type": "markdown",
   "metadata": {
    "id": "lCDHGe9-3bng"
   },
   "source": [
    "*Initialize the datasets*"
   ]
  },
  {
   "cell_type": "code",
   "execution_count": 13,
   "metadata": {
    "id": "MvF76gJx3bnh",
    "tags": []
   },
   "outputs": [
    {
     "name": "stdout",
     "output_type": "stream",
     "text": [
      "Files already downloaded and verified\n",
      "Files already downloaded and verified\n"
     ]
    }
   ],
   "source": [
    "# Datasets\n",
    "train_set = CIFAR100_loader('./data', True, transform_train)\n",
    "test_set = CIFAR100_loader('./data', False, transform_test)\n",
    "\n",
    "# Initialize the dataloaders\n",
    "train_data_loader = DataLoader(train_set, batch_size=128, shuffle=True, num_workers=0)\n",
    "test_data_loader = DataLoader(test_set, batch_size=128, shuffle=False, num_workers=0)"
   ]
  },
  {
   "cell_type": "code",
   "execution_count": 14,
   "metadata": {},
   "outputs": [
    {
     "data": {
      "text/plain": [
       "tensor(-0.2617)"
      ]
     },
     "execution_count": 14,
     "metadata": {},
     "output_type": "execute_result"
    }
   ],
   "source": [
    "next(iter(train_data_loader))[0].mean()"
   ]
  },
  {
   "cell_type": "markdown",
   "metadata": {
    "id": "wxfxa_Rj8X5z"
   },
   "source": [
    "*Train the TwolayerNet network*"
   ]
  },
  {
   "cell_type": "code",
   "execution_count": 15,
   "metadata": {
    "id": "rd3ql4B27yEl",
    "tags": []
   },
   "outputs": [],
   "source": [
    "# net = TwoLayerNet()\n",
    "# train(net, train_data_loader, epochs=100, lr=0.001)\n",
    "# valid(net, test_data_loader)"
   ]
  },
  {
   "cell_type": "markdown",
   "metadata": {
    "id": "GySb8UWX8emz"
   },
   "source": [
    "*Train the ConvNet network*"
   ]
  },
  {
   "cell_type": "code",
   "execution_count": 16,
   "metadata": {
    "id": "4JL9by9A7yQb",
    "scrolled": true,
    "tags": []
   },
   "outputs": [],
   "source": [
    "# net = ConvNet()\n",
    "# train(net, train_data_loader, epochs=100, lr=0.001)\n",
    "# valid(net, test_data_loader)"
   ]
  },
  {
   "cell_type": "markdown",
   "metadata": {
    "id": "SQhUzRuQOOSm"
   },
   "source": [
    "### 1.4 Setting up the hyperparameters\n",
    "\n",
    "Some parameters must be set properly before the training of CNNs. These parameters shape the training procedure. They determine how many images are to be processed at each step, how much the weights of the network will be updated, how many iterations will the network run until convergence.  These parameters are called hyperparameters in the machine learning literature."
   ]
  },
  {
   "cell_type": "markdown",
   "metadata": {
    "id": "mhtGVNHIQ8kT"
   },
   "source": [
    "####  **` Q1.4: Setting up the hyperparameters (10-pts)`**  \n",
    "\n",
    "1. Play with ConvNet and TwolayerNet yourself, set up the hyperparameters, and reach the accuracy as high as you can.\n",
    "You can modify the *train*,  *Dataloader*, *transform* and *Optimizer* function as you like.\n",
    "2. You can also modify the architectures of these two Nets. *Let's add 2 more layers in TwolayerNet and ConvNet, and show the results. (You can decide the size of these layers and where to add them.) Will you get higher performances? explain why.*\n",
    "3.  Show the final results and described what you've done to improve the results. Describe and explain the influence of hyperparameters among *TwolayerNet* and *ConvNet*.\n",
    "4. Compare and explain the differences of these two networks regarding the architecture, performances, and learning rates.\n",
    "\n",
    "**Hint:** You can adjust the following parameters and other parameters not listed as you like: *Learning rate, Batch size, Number of epochs, Optimizer, Transform function, Weight decay etc.* You can also change the structure a bit, for instance, adding Batch Normalization layers.\n",
    "\n",
    "**Note:** Please do not use external well-defined networks and please do not add more than 3 additional (beyond the original network) convolutional layers."
   ]
  },
  {
   "cell_type": "markdown",
   "metadata": {
    "id": "p1Puiytn99h_"
   },
   "source": [
    "#### *`Play with convNet and TwolayerNet, set up the hyperparameters and reach the accuracy as high as you can`*"
   ]
  },
  {
   "cell_type": "code",
   "execution_count": 17,
   "metadata": {
    "id": "ROyqHC0199iA"
   },
   "outputs": [],
   "source": [
    "class TwoLayerNet(nn.Module):\n",
    "    def __init__(self, input_size=3*32*32, hidden_size=1024, num_classes=100):\n",
    "        super(TwoLayerNet, self).__init__()\n",
    "        \n",
    "        self.fc1 = nn.Linear(input_size, hidden_size)\n",
    "        self.fc2 = nn.Linear(hidden_size, 512)\n",
    "        self.fc3 = nn.Linear(512, 256)\n",
    "        self.fc4 = nn.Linear(256, num_classes)\n",
    "        \n",
    "    def forward(self, x):\n",
    "        x = x.view(x.shape[0], -1)  \n",
    "        x = F.relu(self.fc1(x))\n",
    "        x = F.relu(self.fc2(x))\n",
    "        x = F.relu(self.fc3(x))\n",
    "        scores = self.fc4(x)\n",
    "        return scores\n",
    "    \n",
    "    \n",
    "class ConvBlock(nn.Module):\n",
    "    def __init__(self, in_channels, out_channels, kernel_size, downsample=True):\n",
    "        super(ConvBlock, self).__init__()\n",
    "        \n",
    "        self.conv = nn.Conv2d(in_channels, out_channels, kernel_size, padding=kernel_size//2, bias=False)\n",
    "        self.bn = nn.BatchNorm2d(out_channels)\n",
    "        self.relu = nn.ReLU()\n",
    "        if downsample:\n",
    "            self.pool = nn.MaxPool2d(2)\n",
    "        else:\n",
    "            self.pool = nn.Identity()\n",
    "        \n",
    "        \n",
    "    def forward(self, x):\n",
    "        x = self.conv(x)\n",
    "        x = self.bn(x)\n",
    "        x = self.relu(x)\n",
    "        x = self.pool(x)\n",
    "        return x\n",
    "    \n",
    "    \n",
    "class ConvNet(nn.Module):\n",
    "    def __init__(self):\n",
    "        super(ConvNet, self).__init__()\n",
    "\n",
    "        self.conv1 = ConvBlock(3, 64, 5) \n",
    "        self.conv2 = ConvBlock(64, 128, 5)\n",
    "        self.conv3 = ConvBlock(128, 256, 3)\n",
    "        self.conv4 = ConvBlock(256, 512, 3)\n",
    "        self.conv5 = ConvBlock(512, 1024, 3, False)\n",
    "        self.avg_pool = nn.AdaptiveAvgPool2d((1, 1))\n",
    "        \n",
    "        self.fc1 = nn.Linear(1024, 512)\n",
    "        self.dropout = nn.Dropout(0.5)\n",
    "        self.fc2 = nn.Linear(512, 100)\n",
    "        \n",
    "    def forward(self, x):\n",
    "        x = self.conv1(x)\n",
    "        x = self.conv2(x)\n",
    "        x = self.conv3(x)\n",
    "        x = self.conv4(x)\n",
    "        x = self.conv5(x)\n",
    "        x = self.avg_pool(x)\n",
    "        x = x.squeeze(-1).squeeze(-1)\n",
    "        x = F.relu(self.fc1(x))\n",
    "        x = self.dropout(x)\n",
    "        x = self.fc2(x)\n",
    "        return x"
   ]
  },
  {
   "cell_type": "markdown",
   "metadata": {
    "id": "pqQ6-Krp99iA"
   },
   "source": [
    "#### *` Test the accuracy of ConvNet `*"
   ]
  },
  {
   "cell_type": "code",
   "execution_count": 18,
   "metadata": {
    "id": "ciidRXDn99iA",
    "scrolled": true
   },
   "outputs": [
    {
     "name": "stdout",
     "output_type": "stream",
     "text": [
      "Training on cuda\n"
     ]
    },
    {
     "data": {
      "application/vnd.jupyter.widget-view+json": {
       "model_id": "fd89f4e64df042d0abd74f8f44ff5ec2",
       "version_major": 2,
       "version_minor": 0
      },
      "text/plain": [
       "  0%|          | 0/100 [00:00<?, ?it/s]"
      ]
     },
     "metadata": {},
     "output_type": "display_data"
    },
    {
     "data": {
      "application/vnd.jupyter.widget-view+json": {
       "model_id": "",
       "version_major": 2,
       "version_minor": 0
      },
      "text/plain": [
       "  0%|          | 0/391 [00:00<?, ?it/s]"
      ]
     },
     "metadata": {},
     "output_type": "display_data"
    },
    {
     "name": "stderr",
     "output_type": "stream",
     "text": [
      "/home/kris/anaconda3/envs/uni/lib/python3.10/site-packages/torch/nn/modules/conv.py:456: UserWarning: Applied workaround for CuDNN issue, install nvrtc.so (Triggered internally at ../aten/src/ATen/native/cudnn/Conv_v8.cpp:80.)\n",
      "  return F.conv2d(input, weight, bias, self.stride,\n"
     ]
    },
    {
     "name": "stdout",
     "output_type": "stream",
     "text": [
      "Epoch 1 || train accuracy: 3.844% || test sccuracy: 10.1%\n"
     ]
    },
    {
     "data": {
      "application/vnd.jupyter.widget-view+json": {
       "model_id": "",
       "version_major": 2,
       "version_minor": 0
      },
      "text/plain": [
       "  0%|          | 0/391 [00:00<?, ?it/s]"
      ]
     },
     "metadata": {},
     "output_type": "display_data"
    },
    {
     "name": "stdout",
     "output_type": "stream",
     "text": [
      "Epoch 2 || train accuracy: 8.204% || test sccuracy: 14.53%\n"
     ]
    },
    {
     "data": {
      "application/vnd.jupyter.widget-view+json": {
       "model_id": "",
       "version_major": 2,
       "version_minor": 0
      },
      "text/plain": [
       "  0%|          | 0/391 [00:00<?, ?it/s]"
      ]
     },
     "metadata": {},
     "output_type": "display_data"
    },
    {
     "name": "stdout",
     "output_type": "stream",
     "text": [
      "Epoch 3 || train accuracy: 10.846% || test sccuracy: 18.22%\n"
     ]
    },
    {
     "data": {
      "application/vnd.jupyter.widget-view+json": {
       "model_id": "",
       "version_major": 2,
       "version_minor": 0
      },
      "text/plain": [
       "  0%|          | 0/391 [00:00<?, ?it/s]"
      ]
     },
     "metadata": {},
     "output_type": "display_data"
    },
    {
     "name": "stdout",
     "output_type": "stream",
     "text": [
      "Epoch 4 || train accuracy: 13.204% || test sccuracy: 19.99%\n"
     ]
    },
    {
     "data": {
      "application/vnd.jupyter.widget-view+json": {
       "model_id": "",
       "version_major": 2,
       "version_minor": 0
      },
      "text/plain": [
       "  0%|          | 0/391 [00:00<?, ?it/s]"
      ]
     },
     "metadata": {},
     "output_type": "display_data"
    },
    {
     "name": "stdout",
     "output_type": "stream",
     "text": [
      "Epoch 5 || train accuracy: 15.11% || test sccuracy: 22.05%\n"
     ]
    },
    {
     "data": {
      "application/vnd.jupyter.widget-view+json": {
       "model_id": "",
       "version_major": 2,
       "version_minor": 0
      },
      "text/plain": [
       "  0%|          | 0/391 [00:00<?, ?it/s]"
      ]
     },
     "metadata": {},
     "output_type": "display_data"
    },
    {
     "name": "stdout",
     "output_type": "stream",
     "text": [
      "Epoch 6 || train accuracy: 16.234% || test sccuracy: 26.29%\n"
     ]
    },
    {
     "data": {
      "application/vnd.jupyter.widget-view+json": {
       "model_id": "",
       "version_major": 2,
       "version_minor": 0
      },
      "text/plain": [
       "  0%|          | 0/391 [00:00<?, ?it/s]"
      ]
     },
     "metadata": {},
     "output_type": "display_data"
    },
    {
     "name": "stdout",
     "output_type": "stream",
     "text": [
      "Epoch 7 || train accuracy: 17.886% || test sccuracy: 27.03%\n"
     ]
    },
    {
     "data": {
      "application/vnd.jupyter.widget-view+json": {
       "model_id": "",
       "version_major": 2,
       "version_minor": 0
      },
      "text/plain": [
       "  0%|          | 0/391 [00:00<?, ?it/s]"
      ]
     },
     "metadata": {},
     "output_type": "display_data"
    },
    {
     "name": "stdout",
     "output_type": "stream",
     "text": [
      "Epoch 8 || train accuracy: 18.72% || test sccuracy: 28.03%\n"
     ]
    },
    {
     "data": {
      "application/vnd.jupyter.widget-view+json": {
       "model_id": "",
       "version_major": 2,
       "version_minor": 0
      },
      "text/plain": [
       "  0%|          | 0/391 [00:00<?, ?it/s]"
      ]
     },
     "metadata": {},
     "output_type": "display_data"
    },
    {
     "name": "stdout",
     "output_type": "stream",
     "text": [
      "Epoch 9 || train accuracy: 20.242% || test sccuracy: 30.21%\n"
     ]
    },
    {
     "data": {
      "application/vnd.jupyter.widget-view+json": {
       "model_id": "",
       "version_major": 2,
       "version_minor": 0
      },
      "text/plain": [
       "  0%|          | 0/391 [00:00<?, ?it/s]"
      ]
     },
     "metadata": {},
     "output_type": "display_data"
    },
    {
     "name": "stdout",
     "output_type": "stream",
     "text": [
      "Epoch 10 || train accuracy: 21.03% || test sccuracy: 30.34%\n"
     ]
    },
    {
     "data": {
      "application/vnd.jupyter.widget-view+json": {
       "model_id": "",
       "version_major": 2,
       "version_minor": 0
      },
      "text/plain": [
       "  0%|          | 0/391 [00:00<?, ?it/s]"
      ]
     },
     "metadata": {},
     "output_type": "display_data"
    },
    {
     "name": "stdout",
     "output_type": "stream",
     "text": [
      "Epoch 11 || train accuracy: 22.068% || test sccuracy: 31.45%\n"
     ]
    },
    {
     "data": {
      "application/vnd.jupyter.widget-view+json": {
       "model_id": "",
       "version_major": 2,
       "version_minor": 0
      },
      "text/plain": [
       "  0%|          | 0/391 [00:00<?, ?it/s]"
      ]
     },
     "metadata": {},
     "output_type": "display_data"
    },
    {
     "name": "stdout",
     "output_type": "stream",
     "text": [
      "Epoch 12 || train accuracy: 22.882% || test sccuracy: 36.09%\n"
     ]
    },
    {
     "data": {
      "application/vnd.jupyter.widget-view+json": {
       "model_id": "",
       "version_major": 2,
       "version_minor": 0
      },
      "text/plain": [
       "  0%|          | 0/391 [00:00<?, ?it/s]"
      ]
     },
     "metadata": {},
     "output_type": "display_data"
    },
    {
     "name": "stdout",
     "output_type": "stream",
     "text": [
      "Epoch 13 || train accuracy: 23.568% || test sccuracy: 36.07%\n"
     ]
    },
    {
     "data": {
      "application/vnd.jupyter.widget-view+json": {
       "model_id": "",
       "version_major": 2,
       "version_minor": 0
      },
      "text/plain": [
       "  0%|          | 0/391 [00:00<?, ?it/s]"
      ]
     },
     "metadata": {},
     "output_type": "display_data"
    },
    {
     "name": "stdout",
     "output_type": "stream",
     "text": [
      "Epoch 14 || train accuracy: 24.628% || test sccuracy: 37.02%\n"
     ]
    },
    {
     "data": {
      "application/vnd.jupyter.widget-view+json": {
       "model_id": "",
       "version_major": 2,
       "version_minor": 0
      },
      "text/plain": [
       "  0%|          | 0/391 [00:00<?, ?it/s]"
      ]
     },
     "metadata": {},
     "output_type": "display_data"
    },
    {
     "name": "stdout",
     "output_type": "stream",
     "text": [
      "Epoch 15 || train accuracy: 25.204% || test sccuracy: 34.66%\n"
     ]
    },
    {
     "data": {
      "application/vnd.jupyter.widget-view+json": {
       "model_id": "",
       "version_major": 2,
       "version_minor": 0
      },
      "text/plain": [
       "  0%|          | 0/391 [00:00<?, ?it/s]"
      ]
     },
     "metadata": {},
     "output_type": "display_data"
    },
    {
     "name": "stdout",
     "output_type": "stream",
     "text": [
      "Epoch 16 || train accuracy: 25.874% || test sccuracy: 36.43%\n"
     ]
    },
    {
     "data": {
      "application/vnd.jupyter.widget-view+json": {
       "model_id": "",
       "version_major": 2,
       "version_minor": 0
      },
      "text/plain": [
       "  0%|          | 0/391 [00:00<?, ?it/s]"
      ]
     },
     "metadata": {},
     "output_type": "display_data"
    },
    {
     "name": "stdout",
     "output_type": "stream",
     "text": [
      "Epoch 17 || train accuracy: 26.722% || test sccuracy: 37.27%\n"
     ]
    },
    {
     "data": {
      "application/vnd.jupyter.widget-view+json": {
       "model_id": "",
       "version_major": 2,
       "version_minor": 0
      },
      "text/plain": [
       "  0%|          | 0/391 [00:00<?, ?it/s]"
      ]
     },
     "metadata": {},
     "output_type": "display_data"
    },
    {
     "name": "stdout",
     "output_type": "stream",
     "text": [
      "Epoch 18 || train accuracy: 27.36% || test sccuracy: 41.36%\n"
     ]
    },
    {
     "data": {
      "application/vnd.jupyter.widget-view+json": {
       "model_id": "",
       "version_major": 2,
       "version_minor": 0
      },
      "text/plain": [
       "  0%|          | 0/391 [00:00<?, ?it/s]"
      ]
     },
     "metadata": {},
     "output_type": "display_data"
    },
    {
     "name": "stdout",
     "output_type": "stream",
     "text": [
      "Epoch 19 || train accuracy: 27.716% || test sccuracy: 41.28%\n"
     ]
    },
    {
     "data": {
      "application/vnd.jupyter.widget-view+json": {
       "model_id": "",
       "version_major": 2,
       "version_minor": 0
      },
      "text/plain": [
       "  0%|          | 0/391 [00:00<?, ?it/s]"
      ]
     },
     "metadata": {},
     "output_type": "display_data"
    },
    {
     "name": "stdout",
     "output_type": "stream",
     "text": [
      "Epoch 20 || train accuracy: 28.292% || test sccuracy: 40.86%\n"
     ]
    },
    {
     "data": {
      "application/vnd.jupyter.widget-view+json": {
       "model_id": "",
       "version_major": 2,
       "version_minor": 0
      },
      "text/plain": [
       "  0%|          | 0/391 [00:00<?, ?it/s]"
      ]
     },
     "metadata": {},
     "output_type": "display_data"
    },
    {
     "name": "stdout",
     "output_type": "stream",
     "text": [
      "Epoch 21 || train accuracy: 28.85% || test sccuracy: 42.92%\n"
     ]
    },
    {
     "data": {
      "application/vnd.jupyter.widget-view+json": {
       "model_id": "",
       "version_major": 2,
       "version_minor": 0
      },
      "text/plain": [
       "  0%|          | 0/391 [00:00<?, ?it/s]"
      ]
     },
     "metadata": {},
     "output_type": "display_data"
    },
    {
     "name": "stdout",
     "output_type": "stream",
     "text": [
      "Epoch 22 || train accuracy: 28.778% || test sccuracy: 39.72%\n"
     ]
    },
    {
     "data": {
      "application/vnd.jupyter.widget-view+json": {
       "model_id": "",
       "version_major": 2,
       "version_minor": 0
      },
      "text/plain": [
       "  0%|          | 0/391 [00:00<?, ?it/s]"
      ]
     },
     "metadata": {},
     "output_type": "display_data"
    },
    {
     "name": "stdout",
     "output_type": "stream",
     "text": [
      "Epoch 23 || train accuracy: 29.542% || test sccuracy: 42.49%\n"
     ]
    },
    {
     "data": {
      "application/vnd.jupyter.widget-view+json": {
       "model_id": "",
       "version_major": 2,
       "version_minor": 0
      },
      "text/plain": [
       "  0%|          | 0/391 [00:00<?, ?it/s]"
      ]
     },
     "metadata": {},
     "output_type": "display_data"
    },
    {
     "name": "stdout",
     "output_type": "stream",
     "text": [
      "Epoch 24 || train accuracy: 30.544% || test sccuracy: 44.06%\n"
     ]
    },
    {
     "data": {
      "application/vnd.jupyter.widget-view+json": {
       "model_id": "",
       "version_major": 2,
       "version_minor": 0
      },
      "text/plain": [
       "  0%|          | 0/391 [00:00<?, ?it/s]"
      ]
     },
     "metadata": {},
     "output_type": "display_data"
    },
    {
     "name": "stdout",
     "output_type": "stream",
     "text": [
      "Epoch 25 || train accuracy: 30.592% || test sccuracy: 43.64%\n"
     ]
    },
    {
     "data": {
      "application/vnd.jupyter.widget-view+json": {
       "model_id": "",
       "version_major": 2,
       "version_minor": 0
      },
      "text/plain": [
       "  0%|          | 0/391 [00:00<?, ?it/s]"
      ]
     },
     "metadata": {},
     "output_type": "display_data"
    },
    {
     "name": "stdout",
     "output_type": "stream",
     "text": [
      "Epoch 26 || train accuracy: 31.182% || test sccuracy: 43.66%\n"
     ]
    },
    {
     "data": {
      "application/vnd.jupyter.widget-view+json": {
       "model_id": "",
       "version_major": 2,
       "version_minor": 0
      },
      "text/plain": [
       "  0%|          | 0/391 [00:00<?, ?it/s]"
      ]
     },
     "metadata": {},
     "output_type": "display_data"
    },
    {
     "name": "stdout",
     "output_type": "stream",
     "text": [
      "Epoch 27 || train accuracy: 31.46% || test sccuracy: 42.33%\n"
     ]
    },
    {
     "data": {
      "application/vnd.jupyter.widget-view+json": {
       "model_id": "",
       "version_major": 2,
       "version_minor": 0
      },
      "text/plain": [
       "  0%|          | 0/391 [00:00<?, ?it/s]"
      ]
     },
     "metadata": {},
     "output_type": "display_data"
    },
    {
     "name": "stdout",
     "output_type": "stream",
     "text": [
      "Epoch 28 || train accuracy: 31.85% || test sccuracy: 43.89%\n"
     ]
    },
    {
     "data": {
      "application/vnd.jupyter.widget-view+json": {
       "model_id": "",
       "version_major": 2,
       "version_minor": 0
      },
      "text/plain": [
       "  0%|          | 0/391 [00:00<?, ?it/s]"
      ]
     },
     "metadata": {},
     "output_type": "display_data"
    },
    {
     "name": "stdout",
     "output_type": "stream",
     "text": [
      "Epoch 29 || train accuracy: 32.332% || test sccuracy: 45.34%\n"
     ]
    },
    {
     "data": {
      "application/vnd.jupyter.widget-view+json": {
       "model_id": "",
       "version_major": 2,
       "version_minor": 0
      },
      "text/plain": [
       "  0%|          | 0/391 [00:00<?, ?it/s]"
      ]
     },
     "metadata": {},
     "output_type": "display_data"
    },
    {
     "name": "stdout",
     "output_type": "stream",
     "text": [
      "Epoch 30 || train accuracy: 33.02% || test sccuracy: 47.47%\n"
     ]
    },
    {
     "data": {
      "application/vnd.jupyter.widget-view+json": {
       "model_id": "",
       "version_major": 2,
       "version_minor": 0
      },
      "text/plain": [
       "  0%|          | 0/391 [00:00<?, ?it/s]"
      ]
     },
     "metadata": {},
     "output_type": "display_data"
    },
    {
     "name": "stdout",
     "output_type": "stream",
     "text": [
      "Epoch 31 || train accuracy: 33.518% || test sccuracy: 47.8%\n"
     ]
    },
    {
     "data": {
      "application/vnd.jupyter.widget-view+json": {
       "model_id": "",
       "version_major": 2,
       "version_minor": 0
      },
      "text/plain": [
       "  0%|          | 0/391 [00:00<?, ?it/s]"
      ]
     },
     "metadata": {},
     "output_type": "display_data"
    },
    {
     "name": "stdout",
     "output_type": "stream",
     "text": [
      "Epoch 32 || train accuracy: 33.45% || test sccuracy: 45.4%\n"
     ]
    },
    {
     "data": {
      "application/vnd.jupyter.widget-view+json": {
       "model_id": "",
       "version_major": 2,
       "version_minor": 0
      },
      "text/plain": [
       "  0%|          | 0/391 [00:00<?, ?it/s]"
      ]
     },
     "metadata": {},
     "output_type": "display_data"
    },
    {
     "name": "stdout",
     "output_type": "stream",
     "text": [
      "Epoch 33 || train accuracy: 33.91% || test sccuracy: 47.8%\n"
     ]
    },
    {
     "data": {
      "application/vnd.jupyter.widget-view+json": {
       "model_id": "",
       "version_major": 2,
       "version_minor": 0
      },
      "text/plain": [
       "  0%|          | 0/391 [00:00<?, ?it/s]"
      ]
     },
     "metadata": {},
     "output_type": "display_data"
    },
    {
     "name": "stdout",
     "output_type": "stream",
     "text": [
      "Epoch 34 || train accuracy: 34.058% || test sccuracy: 46.49%\n"
     ]
    },
    {
     "data": {
      "application/vnd.jupyter.widget-view+json": {
       "model_id": "",
       "version_major": 2,
       "version_minor": 0
      },
      "text/plain": [
       "  0%|          | 0/391 [00:00<?, ?it/s]"
      ]
     },
     "metadata": {},
     "output_type": "display_data"
    },
    {
     "name": "stdout",
     "output_type": "stream",
     "text": [
      "Epoch 35 || train accuracy: 34.45% || test sccuracy: 46.89%\n"
     ]
    },
    {
     "data": {
      "application/vnd.jupyter.widget-view+json": {
       "model_id": "",
       "version_major": 2,
       "version_minor": 0
      },
      "text/plain": [
       "  0%|          | 0/391 [00:00<?, ?it/s]"
      ]
     },
     "metadata": {},
     "output_type": "display_data"
    },
    {
     "name": "stdout",
     "output_type": "stream",
     "text": [
      "Epoch 36 || train accuracy: 34.916% || test sccuracy: 49.27%\n"
     ]
    },
    {
     "data": {
      "application/vnd.jupyter.widget-view+json": {
       "model_id": "",
       "version_major": 2,
       "version_minor": 0
      },
      "text/plain": [
       "  0%|          | 0/391 [00:00<?, ?it/s]"
      ]
     },
     "metadata": {},
     "output_type": "display_data"
    },
    {
     "name": "stdout",
     "output_type": "stream",
     "text": [
      "Epoch 37 || train accuracy: 35.346% || test sccuracy: 48.94%\n"
     ]
    },
    {
     "data": {
      "application/vnd.jupyter.widget-view+json": {
       "model_id": "",
       "version_major": 2,
       "version_minor": 0
      },
      "text/plain": [
       "  0%|          | 0/391 [00:00<?, ?it/s]"
      ]
     },
     "metadata": {},
     "output_type": "display_data"
    },
    {
     "name": "stdout",
     "output_type": "stream",
     "text": [
      "Epoch 38 || train accuracy: 35.918% || test sccuracy: 49.46%\n"
     ]
    },
    {
     "data": {
      "application/vnd.jupyter.widget-view+json": {
       "model_id": "",
       "version_major": 2,
       "version_minor": 0
      },
      "text/plain": [
       "  0%|          | 0/391 [00:00<?, ?it/s]"
      ]
     },
     "metadata": {},
     "output_type": "display_data"
    },
    {
     "name": "stdout",
     "output_type": "stream",
     "text": [
      "Epoch 39 || train accuracy: 35.662% || test sccuracy: 49.93%\n"
     ]
    },
    {
     "data": {
      "application/vnd.jupyter.widget-view+json": {
       "model_id": "",
       "version_major": 2,
       "version_minor": 0
      },
      "text/plain": [
       "  0%|          | 0/391 [00:00<?, ?it/s]"
      ]
     },
     "metadata": {},
     "output_type": "display_data"
    },
    {
     "name": "stdout",
     "output_type": "stream",
     "text": [
      "Epoch 40 || train accuracy: 36.348% || test sccuracy: 48.82%\n"
     ]
    },
    {
     "data": {
      "application/vnd.jupyter.widget-view+json": {
       "model_id": "",
       "version_major": 2,
       "version_minor": 0
      },
      "text/plain": [
       "  0%|          | 0/391 [00:00<?, ?it/s]"
      ]
     },
     "metadata": {},
     "output_type": "display_data"
    },
    {
     "name": "stdout",
     "output_type": "stream",
     "text": [
      "Epoch 41 || train accuracy: 36.256% || test sccuracy: 47.6%\n"
     ]
    },
    {
     "data": {
      "application/vnd.jupyter.widget-view+json": {
       "model_id": "",
       "version_major": 2,
       "version_minor": 0
      },
      "text/plain": [
       "  0%|          | 0/391 [00:00<?, ?it/s]"
      ]
     },
     "metadata": {},
     "output_type": "display_data"
    },
    {
     "name": "stdout",
     "output_type": "stream",
     "text": [
      "Epoch 42 || train accuracy: 36.46% || test sccuracy: 50.15%\n"
     ]
    },
    {
     "data": {
      "application/vnd.jupyter.widget-view+json": {
       "model_id": "",
       "version_major": 2,
       "version_minor": 0
      },
      "text/plain": [
       "  0%|          | 0/391 [00:00<?, ?it/s]"
      ]
     },
     "metadata": {},
     "output_type": "display_data"
    },
    {
     "name": "stdout",
     "output_type": "stream",
     "text": [
      "Epoch 43 || train accuracy: 36.834% || test sccuracy: 51.41%\n"
     ]
    },
    {
     "data": {
      "application/vnd.jupyter.widget-view+json": {
       "model_id": "",
       "version_major": 2,
       "version_minor": 0
      },
      "text/plain": [
       "  0%|          | 0/391 [00:00<?, ?it/s]"
      ]
     },
     "metadata": {},
     "output_type": "display_data"
    },
    {
     "name": "stdout",
     "output_type": "stream",
     "text": [
      "Epoch 44 || train accuracy: 37.29% || test sccuracy: 50.96%\n"
     ]
    },
    {
     "data": {
      "application/vnd.jupyter.widget-view+json": {
       "model_id": "",
       "version_major": 2,
       "version_minor": 0
      },
      "text/plain": [
       "  0%|          | 0/391 [00:00<?, ?it/s]"
      ]
     },
     "metadata": {},
     "output_type": "display_data"
    },
    {
     "name": "stdout",
     "output_type": "stream",
     "text": [
      "Epoch 45 || train accuracy: 37.822% || test sccuracy: 51.61%\n"
     ]
    },
    {
     "data": {
      "application/vnd.jupyter.widget-view+json": {
       "model_id": "",
       "version_major": 2,
       "version_minor": 0
      },
      "text/plain": [
       "  0%|          | 0/391 [00:00<?, ?it/s]"
      ]
     },
     "metadata": {},
     "output_type": "display_data"
    },
    {
     "name": "stdout",
     "output_type": "stream",
     "text": [
      "Epoch 46 || train accuracy: 37.7% || test sccuracy: 49.92%\n"
     ]
    },
    {
     "data": {
      "application/vnd.jupyter.widget-view+json": {
       "model_id": "",
       "version_major": 2,
       "version_minor": 0
      },
      "text/plain": [
       "  0%|          | 0/391 [00:00<?, ?it/s]"
      ]
     },
     "metadata": {},
     "output_type": "display_data"
    },
    {
     "name": "stdout",
     "output_type": "stream",
     "text": [
      "Epoch 47 || train accuracy: 38.022% || test sccuracy: 49.49%\n"
     ]
    },
    {
     "data": {
      "application/vnd.jupyter.widget-view+json": {
       "model_id": "",
       "version_major": 2,
       "version_minor": 0
      },
      "text/plain": [
       "  0%|          | 0/391 [00:00<?, ?it/s]"
      ]
     },
     "metadata": {},
     "output_type": "display_data"
    },
    {
     "name": "stdout",
     "output_type": "stream",
     "text": [
      "Epoch 48 || train accuracy: 38.21% || test sccuracy: 52.81%\n"
     ]
    },
    {
     "data": {
      "application/vnd.jupyter.widget-view+json": {
       "model_id": "",
       "version_major": 2,
       "version_minor": 0
      },
      "text/plain": [
       "  0%|          | 0/391 [00:00<?, ?it/s]"
      ]
     },
     "metadata": {},
     "output_type": "display_data"
    },
    {
     "name": "stdout",
     "output_type": "stream",
     "text": [
      "Epoch 49 || train accuracy: 38.78% || test sccuracy: 53.84%\n"
     ]
    },
    {
     "data": {
      "application/vnd.jupyter.widget-view+json": {
       "model_id": "",
       "version_major": 2,
       "version_minor": 0
      },
      "text/plain": [
       "  0%|          | 0/391 [00:00<?, ?it/s]"
      ]
     },
     "metadata": {},
     "output_type": "display_data"
    },
    {
     "name": "stdout",
     "output_type": "stream",
     "text": [
      "Epoch 50 || train accuracy: 38.862% || test sccuracy: 52.18%\n"
     ]
    },
    {
     "data": {
      "application/vnd.jupyter.widget-view+json": {
       "model_id": "",
       "version_major": 2,
       "version_minor": 0
      },
      "text/plain": [
       "  0%|          | 0/391 [00:00<?, ?it/s]"
      ]
     },
     "metadata": {},
     "output_type": "display_data"
    },
    {
     "name": "stdout",
     "output_type": "stream",
     "text": [
      "Epoch 51 || train accuracy: 38.96% || test sccuracy: 51.42%\n"
     ]
    },
    {
     "data": {
      "application/vnd.jupyter.widget-view+json": {
       "model_id": "",
       "version_major": 2,
       "version_minor": 0
      },
      "text/plain": [
       "  0%|          | 0/391 [00:00<?, ?it/s]"
      ]
     },
     "metadata": {},
     "output_type": "display_data"
    },
    {
     "name": "stdout",
     "output_type": "stream",
     "text": [
      "Epoch 52 || train accuracy: 39.304% || test sccuracy: 51.12%\n"
     ]
    },
    {
     "data": {
      "application/vnd.jupyter.widget-view+json": {
       "model_id": "",
       "version_major": 2,
       "version_minor": 0
      },
      "text/plain": [
       "  0%|          | 0/391 [00:00<?, ?it/s]"
      ]
     },
     "metadata": {},
     "output_type": "display_data"
    },
    {
     "name": "stdout",
     "output_type": "stream",
     "text": [
      "Epoch 53 || train accuracy: 39.822% || test sccuracy: 51.72%\n"
     ]
    },
    {
     "data": {
      "application/vnd.jupyter.widget-view+json": {
       "model_id": "",
       "version_major": 2,
       "version_minor": 0
      },
      "text/plain": [
       "  0%|          | 0/391 [00:00<?, ?it/s]"
      ]
     },
     "metadata": {},
     "output_type": "display_data"
    },
    {
     "name": "stdout",
     "output_type": "stream",
     "text": [
      "Epoch 54 || train accuracy: 40.084% || test sccuracy: 54.0%\n"
     ]
    },
    {
     "data": {
      "application/vnd.jupyter.widget-view+json": {
       "model_id": "",
       "version_major": 2,
       "version_minor": 0
      },
      "text/plain": [
       "  0%|          | 0/391 [00:00<?, ?it/s]"
      ]
     },
     "metadata": {},
     "output_type": "display_data"
    },
    {
     "name": "stdout",
     "output_type": "stream",
     "text": [
      "Epoch 55 || train accuracy: 40.298% || test sccuracy: 53.89%\n"
     ]
    },
    {
     "data": {
      "application/vnd.jupyter.widget-view+json": {
       "model_id": "",
       "version_major": 2,
       "version_minor": 0
      },
      "text/plain": [
       "  0%|          | 0/391 [00:00<?, ?it/s]"
      ]
     },
     "metadata": {},
     "output_type": "display_data"
    },
    {
     "name": "stdout",
     "output_type": "stream",
     "text": [
      "Epoch 56 || train accuracy: 40.474% || test sccuracy: 54.15%\n"
     ]
    },
    {
     "data": {
      "application/vnd.jupyter.widget-view+json": {
       "model_id": "",
       "version_major": 2,
       "version_minor": 0
      },
      "text/plain": [
       "  0%|          | 0/391 [00:00<?, ?it/s]"
      ]
     },
     "metadata": {},
     "output_type": "display_data"
    },
    {
     "name": "stdout",
     "output_type": "stream",
     "text": [
      "Epoch 57 || train accuracy: 40.548% || test sccuracy: 53.98%\n"
     ]
    },
    {
     "data": {
      "application/vnd.jupyter.widget-view+json": {
       "model_id": "",
       "version_major": 2,
       "version_minor": 0
      },
      "text/plain": [
       "  0%|          | 0/391 [00:00<?, ?it/s]"
      ]
     },
     "metadata": {},
     "output_type": "display_data"
    },
    {
     "name": "stdout",
     "output_type": "stream",
     "text": [
      "Epoch 58 || train accuracy: 40.66% || test sccuracy: 54.15%\n"
     ]
    },
    {
     "data": {
      "application/vnd.jupyter.widget-view+json": {
       "model_id": "",
       "version_major": 2,
       "version_minor": 0
      },
      "text/plain": [
       "  0%|          | 0/391 [00:00<?, ?it/s]"
      ]
     },
     "metadata": {},
     "output_type": "display_data"
    },
    {
     "name": "stdout",
     "output_type": "stream",
     "text": [
      "Epoch 59 || train accuracy: 41.544% || test sccuracy: 52.73%\n"
     ]
    },
    {
     "data": {
      "application/vnd.jupyter.widget-view+json": {
       "model_id": "",
       "version_major": 2,
       "version_minor": 0
      },
      "text/plain": [
       "  0%|          | 0/391 [00:00<?, ?it/s]"
      ]
     },
     "metadata": {},
     "output_type": "display_data"
    },
    {
     "name": "stdout",
     "output_type": "stream",
     "text": [
      "Epoch 60 || train accuracy: 41.346% || test sccuracy: 55.0%\n"
     ]
    },
    {
     "data": {
      "application/vnd.jupyter.widget-view+json": {
       "model_id": "",
       "version_major": 2,
       "version_minor": 0
      },
      "text/plain": [
       "  0%|          | 0/391 [00:00<?, ?it/s]"
      ]
     },
     "metadata": {},
     "output_type": "display_data"
    },
    {
     "name": "stdout",
     "output_type": "stream",
     "text": [
      "Epoch 61 || train accuracy: 41.444% || test sccuracy: 55.57%\n"
     ]
    },
    {
     "data": {
      "application/vnd.jupyter.widget-view+json": {
       "model_id": "",
       "version_major": 2,
       "version_minor": 0
      },
      "text/plain": [
       "  0%|          | 0/391 [00:00<?, ?it/s]"
      ]
     },
     "metadata": {},
     "output_type": "display_data"
    },
    {
     "name": "stdout",
     "output_type": "stream",
     "text": [
      "Epoch 62 || train accuracy: 41.84% || test sccuracy: 55.28%\n"
     ]
    },
    {
     "data": {
      "application/vnd.jupyter.widget-view+json": {
       "model_id": "",
       "version_major": 2,
       "version_minor": 0
      },
      "text/plain": [
       "  0%|          | 0/391 [00:00<?, ?it/s]"
      ]
     },
     "metadata": {},
     "output_type": "display_data"
    },
    {
     "name": "stdout",
     "output_type": "stream",
     "text": [
      "Epoch 63 || train accuracy: 41.924% || test sccuracy: 55.05%\n"
     ]
    },
    {
     "data": {
      "application/vnd.jupyter.widget-view+json": {
       "model_id": "",
       "version_major": 2,
       "version_minor": 0
      },
      "text/plain": [
       "  0%|          | 0/391 [00:00<?, ?it/s]"
      ]
     },
     "metadata": {},
     "output_type": "display_data"
    },
    {
     "name": "stdout",
     "output_type": "stream",
     "text": [
      "Epoch 64 || train accuracy: 42.47% || test sccuracy: 54.67%\n"
     ]
    },
    {
     "data": {
      "application/vnd.jupyter.widget-view+json": {
       "model_id": "",
       "version_major": 2,
       "version_minor": 0
      },
      "text/plain": [
       "  0%|          | 0/391 [00:00<?, ?it/s]"
      ]
     },
     "metadata": {},
     "output_type": "display_data"
    },
    {
     "name": "stdout",
     "output_type": "stream",
     "text": [
      "Epoch 65 || train accuracy: 42.502% || test sccuracy: 54.76%\n"
     ]
    },
    {
     "data": {
      "application/vnd.jupyter.widget-view+json": {
       "model_id": "",
       "version_major": 2,
       "version_minor": 0
      },
      "text/plain": [
       "  0%|          | 0/391 [00:00<?, ?it/s]"
      ]
     },
     "metadata": {},
     "output_type": "display_data"
    },
    {
     "name": "stdout",
     "output_type": "stream",
     "text": [
      "Epoch 66 || train accuracy: 42.77% || test sccuracy: 56.45%\n"
     ]
    },
    {
     "data": {
      "application/vnd.jupyter.widget-view+json": {
       "model_id": "",
       "version_major": 2,
       "version_minor": 0
      },
      "text/plain": [
       "  0%|          | 0/391 [00:00<?, ?it/s]"
      ]
     },
     "metadata": {},
     "output_type": "display_data"
    },
    {
     "name": "stdout",
     "output_type": "stream",
     "text": [
      "Epoch 67 || train accuracy: 42.946% || test sccuracy: 56.08%\n"
     ]
    },
    {
     "data": {
      "application/vnd.jupyter.widget-view+json": {
       "model_id": "",
       "version_major": 2,
       "version_minor": 0
      },
      "text/plain": [
       "  0%|          | 0/391 [00:00<?, ?it/s]"
      ]
     },
     "metadata": {},
     "output_type": "display_data"
    },
    {
     "name": "stdout",
     "output_type": "stream",
     "text": [
      "Epoch 68 || train accuracy: 43.238% || test sccuracy: 56.78%\n"
     ]
    },
    {
     "data": {
      "application/vnd.jupyter.widget-view+json": {
       "model_id": "",
       "version_major": 2,
       "version_minor": 0
      },
      "text/plain": [
       "  0%|          | 0/391 [00:00<?, ?it/s]"
      ]
     },
     "metadata": {},
     "output_type": "display_data"
    },
    {
     "name": "stdout",
     "output_type": "stream",
     "text": [
      "Epoch 69 || train accuracy: 43.306% || test sccuracy: 56.55%\n"
     ]
    },
    {
     "data": {
      "application/vnd.jupyter.widget-view+json": {
       "model_id": "",
       "version_major": 2,
       "version_minor": 0
      },
      "text/plain": [
       "  0%|          | 0/391 [00:00<?, ?it/s]"
      ]
     },
     "metadata": {},
     "output_type": "display_data"
    },
    {
     "name": "stdout",
     "output_type": "stream",
     "text": [
      "Epoch 70 || train accuracy: 43.716% || test sccuracy: 56.3%\n"
     ]
    },
    {
     "data": {
      "application/vnd.jupyter.widget-view+json": {
       "model_id": "",
       "version_major": 2,
       "version_minor": 0
      },
      "text/plain": [
       "  0%|          | 0/391 [00:00<?, ?it/s]"
      ]
     },
     "metadata": {},
     "output_type": "display_data"
    },
    {
     "name": "stdout",
     "output_type": "stream",
     "text": [
      "Epoch 71 || train accuracy: 43.846% || test sccuracy: 57.16%\n"
     ]
    },
    {
     "data": {
      "application/vnd.jupyter.widget-view+json": {
       "model_id": "",
       "version_major": 2,
       "version_minor": 0
      },
      "text/plain": [
       "  0%|          | 0/391 [00:00<?, ?it/s]"
      ]
     },
     "metadata": {},
     "output_type": "display_data"
    },
    {
     "name": "stdout",
     "output_type": "stream",
     "text": [
      "Epoch 72 || train accuracy: 44.18% || test sccuracy: 57.31%\n"
     ]
    },
    {
     "data": {
      "application/vnd.jupyter.widget-view+json": {
       "model_id": "",
       "version_major": 2,
       "version_minor": 0
      },
      "text/plain": [
       "  0%|          | 0/391 [00:00<?, ?it/s]"
      ]
     },
     "metadata": {},
     "output_type": "display_data"
    },
    {
     "name": "stdout",
     "output_type": "stream",
     "text": [
      "Epoch 73 || train accuracy: 44.374% || test sccuracy: 56.92%\n"
     ]
    },
    {
     "data": {
      "application/vnd.jupyter.widget-view+json": {
       "model_id": "",
       "version_major": 2,
       "version_minor": 0
      },
      "text/plain": [
       "  0%|          | 0/391 [00:00<?, ?it/s]"
      ]
     },
     "metadata": {},
     "output_type": "display_data"
    },
    {
     "name": "stdout",
     "output_type": "stream",
     "text": [
      "Epoch 74 || train accuracy: 44.756% || test sccuracy: 57.32%\n"
     ]
    },
    {
     "data": {
      "application/vnd.jupyter.widget-view+json": {
       "model_id": "",
       "version_major": 2,
       "version_minor": 0
      },
      "text/plain": [
       "  0%|          | 0/391 [00:00<?, ?it/s]"
      ]
     },
     "metadata": {},
     "output_type": "display_data"
    },
    {
     "name": "stdout",
     "output_type": "stream",
     "text": [
      "Epoch 75 || train accuracy: 44.992% || test sccuracy: 57.37%\n"
     ]
    },
    {
     "data": {
      "application/vnd.jupyter.widget-view+json": {
       "model_id": "",
       "version_major": 2,
       "version_minor": 0
      },
      "text/plain": [
       "  0%|          | 0/391 [00:00<?, ?it/s]"
      ]
     },
     "metadata": {},
     "output_type": "display_data"
    },
    {
     "name": "stdout",
     "output_type": "stream",
     "text": [
      "Epoch 76 || train accuracy: 45.042% || test sccuracy: 57.73%\n"
     ]
    },
    {
     "data": {
      "application/vnd.jupyter.widget-view+json": {
       "model_id": "",
       "version_major": 2,
       "version_minor": 0
      },
      "text/plain": [
       "  0%|          | 0/391 [00:00<?, ?it/s]"
      ]
     },
     "metadata": {},
     "output_type": "display_data"
    },
    {
     "name": "stdout",
     "output_type": "stream",
     "text": [
      "Epoch 77 || train accuracy: 45.224% || test sccuracy: 57.89%\n"
     ]
    },
    {
     "data": {
      "application/vnd.jupyter.widget-view+json": {
       "model_id": "",
       "version_major": 2,
       "version_minor": 0
      },
      "text/plain": [
       "  0%|          | 0/391 [00:00<?, ?it/s]"
      ]
     },
     "metadata": {},
     "output_type": "display_data"
    },
    {
     "name": "stdout",
     "output_type": "stream",
     "text": [
      "Epoch 78 || train accuracy: 45.368% || test sccuracy: 58.38%\n"
     ]
    },
    {
     "data": {
      "application/vnd.jupyter.widget-view+json": {
       "model_id": "",
       "version_major": 2,
       "version_minor": 0
      },
      "text/plain": [
       "  0%|          | 0/391 [00:00<?, ?it/s]"
      ]
     },
     "metadata": {},
     "output_type": "display_data"
    },
    {
     "name": "stdout",
     "output_type": "stream",
     "text": [
      "Epoch 79 || train accuracy: 45.506% || test sccuracy: 57.94%\n"
     ]
    },
    {
     "data": {
      "application/vnd.jupyter.widget-view+json": {
       "model_id": "",
       "version_major": 2,
       "version_minor": 0
      },
      "text/plain": [
       "  0%|          | 0/391 [00:00<?, ?it/s]"
      ]
     },
     "metadata": {},
     "output_type": "display_data"
    },
    {
     "name": "stdout",
     "output_type": "stream",
     "text": [
      "Epoch 80 || train accuracy: 45.572% || test sccuracy: 57.94%\n"
     ]
    },
    {
     "data": {
      "application/vnd.jupyter.widget-view+json": {
       "model_id": "",
       "version_major": 2,
       "version_minor": 0
      },
      "text/plain": [
       "  0%|          | 0/391 [00:00<?, ?it/s]"
      ]
     },
     "metadata": {},
     "output_type": "display_data"
    },
    {
     "name": "stdout",
     "output_type": "stream",
     "text": [
      "Epoch 81 || train accuracy: 45.786% || test sccuracy: 57.94%\n"
     ]
    },
    {
     "data": {
      "application/vnd.jupyter.widget-view+json": {
       "model_id": "",
       "version_major": 2,
       "version_minor": 0
      },
      "text/plain": [
       "  0%|          | 0/391 [00:00<?, ?it/s]"
      ]
     },
     "metadata": {},
     "output_type": "display_data"
    },
    {
     "name": "stdout",
     "output_type": "stream",
     "text": [
      "Epoch 82 || train accuracy: 45.86% || test sccuracy: 58.46%\n"
     ]
    },
    {
     "data": {
      "application/vnd.jupyter.widget-view+json": {
       "model_id": "",
       "version_major": 2,
       "version_minor": 0
      },
      "text/plain": [
       "  0%|          | 0/391 [00:00<?, ?it/s]"
      ]
     },
     "metadata": {},
     "output_type": "display_data"
    },
    {
     "name": "stdout",
     "output_type": "stream",
     "text": [
      "Epoch 83 || train accuracy: 46.118% || test sccuracy: 58.63%\n"
     ]
    },
    {
     "data": {
      "application/vnd.jupyter.widget-view+json": {
       "model_id": "",
       "version_major": 2,
       "version_minor": 0
      },
      "text/plain": [
       "  0%|          | 0/391 [00:00<?, ?it/s]"
      ]
     },
     "metadata": {},
     "output_type": "display_data"
    },
    {
     "name": "stdout",
     "output_type": "stream",
     "text": [
      "Epoch 84 || train accuracy: 46.522% || test sccuracy: 58.81%\n"
     ]
    },
    {
     "data": {
      "application/vnd.jupyter.widget-view+json": {
       "model_id": "",
       "version_major": 2,
       "version_minor": 0
      },
      "text/plain": [
       "  0%|          | 0/391 [00:00<?, ?it/s]"
      ]
     },
     "metadata": {},
     "output_type": "display_data"
    },
    {
     "name": "stdout",
     "output_type": "stream",
     "text": [
      "Epoch 85 || train accuracy: 46.4% || test sccuracy: 58.95%\n"
     ]
    },
    {
     "data": {
      "application/vnd.jupyter.widget-view+json": {
       "model_id": "",
       "version_major": 2,
       "version_minor": 0
      },
      "text/plain": [
       "  0%|          | 0/391 [00:00<?, ?it/s]"
      ]
     },
     "metadata": {},
     "output_type": "display_data"
    },
    {
     "name": "stdout",
     "output_type": "stream",
     "text": [
      "Epoch 86 || train accuracy: 47.04% || test sccuracy: 58.73%\n"
     ]
    },
    {
     "data": {
      "application/vnd.jupyter.widget-view+json": {
       "model_id": "",
       "version_major": 2,
       "version_minor": 0
      },
      "text/plain": [
       "  0%|          | 0/391 [00:00<?, ?it/s]"
      ]
     },
     "metadata": {},
     "output_type": "display_data"
    },
    {
     "name": "stdout",
     "output_type": "stream",
     "text": [
      "Epoch 87 || train accuracy: 47.018% || test sccuracy: 59.09%\n"
     ]
    },
    {
     "data": {
      "application/vnd.jupyter.widget-view+json": {
       "model_id": "",
       "version_major": 2,
       "version_minor": 0
      },
      "text/plain": [
       "  0%|          | 0/391 [00:00<?, ?it/s]"
      ]
     },
     "metadata": {},
     "output_type": "display_data"
    },
    {
     "name": "stdout",
     "output_type": "stream",
     "text": [
      "Epoch 88 || train accuracy: 47.07% || test sccuracy: 59.34%\n"
     ]
    },
    {
     "data": {
      "application/vnd.jupyter.widget-view+json": {
       "model_id": "",
       "version_major": 2,
       "version_minor": 0
      },
      "text/plain": [
       "  0%|          | 0/391 [00:00<?, ?it/s]"
      ]
     },
     "metadata": {},
     "output_type": "display_data"
    },
    {
     "name": "stdout",
     "output_type": "stream",
     "text": [
      "Epoch 89 || train accuracy: 47.616% || test sccuracy: 59.18%\n"
     ]
    },
    {
     "data": {
      "application/vnd.jupyter.widget-view+json": {
       "model_id": "",
       "version_major": 2,
       "version_minor": 0
      },
      "text/plain": [
       "  0%|          | 0/391 [00:00<?, ?it/s]"
      ]
     },
     "metadata": {},
     "output_type": "display_data"
    },
    {
     "name": "stdout",
     "output_type": "stream",
     "text": [
      "Epoch 90 || train accuracy: 47.422% || test sccuracy: 59.42%\n"
     ]
    },
    {
     "data": {
      "application/vnd.jupyter.widget-view+json": {
       "model_id": "",
       "version_major": 2,
       "version_minor": 0
      },
      "text/plain": [
       "  0%|          | 0/391 [00:00<?, ?it/s]"
      ]
     },
     "metadata": {},
     "output_type": "display_data"
    },
    {
     "name": "stdout",
     "output_type": "stream",
     "text": [
      "Epoch 91 || train accuracy: 47.644% || test sccuracy: 59.16%\n"
     ]
    },
    {
     "data": {
      "application/vnd.jupyter.widget-view+json": {
       "model_id": "",
       "version_major": 2,
       "version_minor": 0
      },
      "text/plain": [
       "  0%|          | 0/391 [00:00<?, ?it/s]"
      ]
     },
     "metadata": {},
     "output_type": "display_data"
    },
    {
     "name": "stdout",
     "output_type": "stream",
     "text": [
      "Epoch 92 || train accuracy: 47.794% || test sccuracy: 59.45%\n"
     ]
    },
    {
     "data": {
      "application/vnd.jupyter.widget-view+json": {
       "model_id": "",
       "version_major": 2,
       "version_minor": 0
      },
      "text/plain": [
       "  0%|          | 0/391 [00:00<?, ?it/s]"
      ]
     },
     "metadata": {},
     "output_type": "display_data"
    },
    {
     "name": "stdout",
     "output_type": "stream",
     "text": [
      "Epoch 93 || train accuracy: 47.882% || test sccuracy: 59.23%\n"
     ]
    },
    {
     "data": {
      "application/vnd.jupyter.widget-view+json": {
       "model_id": "",
       "version_major": 2,
       "version_minor": 0
      },
      "text/plain": [
       "  0%|          | 0/391 [00:00<?, ?it/s]"
      ]
     },
     "metadata": {},
     "output_type": "display_data"
    },
    {
     "name": "stdout",
     "output_type": "stream",
     "text": [
      "Epoch 94 || train accuracy: 47.898% || test sccuracy: 59.29%\n"
     ]
    },
    {
     "data": {
      "application/vnd.jupyter.widget-view+json": {
       "model_id": "",
       "version_major": 2,
       "version_minor": 0
      },
      "text/plain": [
       "  0%|          | 0/391 [00:00<?, ?it/s]"
      ]
     },
     "metadata": {},
     "output_type": "display_data"
    },
    {
     "name": "stdout",
     "output_type": "stream",
     "text": [
      "Epoch 95 || train accuracy: 48.004% || test sccuracy: 59.5%\n"
     ]
    },
    {
     "data": {
      "application/vnd.jupyter.widget-view+json": {
       "model_id": "",
       "version_major": 2,
       "version_minor": 0
      },
      "text/plain": [
       "  0%|          | 0/391 [00:00<?, ?it/s]"
      ]
     },
     "metadata": {},
     "output_type": "display_data"
    },
    {
     "name": "stdout",
     "output_type": "stream",
     "text": [
      "Epoch 96 || train accuracy: 48.184% || test sccuracy: 59.39%\n"
     ]
    },
    {
     "data": {
      "application/vnd.jupyter.widget-view+json": {
       "model_id": "",
       "version_major": 2,
       "version_minor": 0
      },
      "text/plain": [
       "  0%|          | 0/391 [00:00<?, ?it/s]"
      ]
     },
     "metadata": {},
     "output_type": "display_data"
    },
    {
     "name": "stdout",
     "output_type": "stream",
     "text": [
      "Epoch 97 || train accuracy: 47.836% || test sccuracy: 59.27%\n"
     ]
    },
    {
     "data": {
      "application/vnd.jupyter.widget-view+json": {
       "model_id": "",
       "version_major": 2,
       "version_minor": 0
      },
      "text/plain": [
       "  0%|          | 0/391 [00:00<?, ?it/s]"
      ]
     },
     "metadata": {},
     "output_type": "display_data"
    },
    {
     "name": "stdout",
     "output_type": "stream",
     "text": [
      "Epoch 98 || train accuracy: 47.934% || test sccuracy: 59.23%\n"
     ]
    },
    {
     "data": {
      "application/vnd.jupyter.widget-view+json": {
       "model_id": "",
       "version_major": 2,
       "version_minor": 0
      },
      "text/plain": [
       "  0%|          | 0/391 [00:00<?, ?it/s]"
      ]
     },
     "metadata": {},
     "output_type": "display_data"
    },
    {
     "name": "stdout",
     "output_type": "stream",
     "text": [
      "Epoch 99 || train accuracy: 48.226% || test sccuracy: 59.42%\n"
     ]
    },
    {
     "data": {
      "application/vnd.jupyter.widget-view+json": {
       "model_id": "",
       "version_major": 2,
       "version_minor": 0
      },
      "text/plain": [
       "  0%|          | 0/391 [00:00<?, ?it/s]"
      ]
     },
     "metadata": {},
     "output_type": "display_data"
    },
    {
     "name": "stdout",
     "output_type": "stream",
     "text": [
      "Epoch 100 || train accuracy: 47.934% || test sccuracy: 59.18%\n",
      "Finished Training\n",
      "Accuracy of the network on the 10000 test images: 59 %\n"
     ]
    },
    {
     "data": {
      "text/plain": [
       "59.18"
      ]
     },
     "execution_count": 18,
     "metadata": {},
     "output_type": "execute_result"
    }
   ],
   "source": [
    "net = ConvNet()\n",
    "train(net, train_data_loader, test_data_loader, epochs=100)\n",
    "valid(net, test_data_loader)"
   ]
  },
  {
   "cell_type": "code",
   "execution_count": 19,
   "metadata": {},
   "outputs": [
    {
     "name": "stdout",
     "output_type": "stream",
     "text": [
      "Accuracy of apple : 83 %\n",
      "Accuracy of aquarium_fish : 76 %\n",
      "Accuracy of  baby : 42 %\n",
      "Accuracy of  bear : 29 %\n",
      "Accuracy of beaver : 45 %\n",
      "Accuracy of   bed : 67 %\n",
      "Accuracy of   bee : 65 %\n",
      "Accuracy of beetle : 66 %\n",
      "Accuracy of bicycle : 76 %\n",
      "Accuracy of bottle : 66 %\n",
      "Accuracy of  bowl : 41 %\n",
      "Accuracy of   boy : 37 %\n",
      "Accuracy of bridge : 71 %\n",
      "Accuracy of   bus : 39 %\n",
      "Accuracy of butterfly : 68 %\n",
      "Accuracy of camel : 53 %\n",
      "Accuracy of   can : 71 %\n",
      "Accuracy of castle : 78 %\n",
      "Accuracy of caterpillar : 53 %\n",
      "Accuracy of cattle : 53 %\n",
      "Accuracy of chair : 84 %\n",
      "Accuracy of chimpanzee : 80 %\n",
      "Accuracy of clock : 66 %\n",
      "Accuracy of cloud : 58 %\n",
      "Accuracy of cockroach : 76 %\n",
      "Accuracy of couch : 36 %\n",
      "Accuracy of   cra : 60 %\n",
      "Accuracy of crocodile : 36 %\n",
      "Accuracy of   cup : 65 %\n",
      "Accuracy of dinosaur : 64 %\n",
      "Accuracy of dolphin : 48 %\n",
      "Accuracy of elephant : 57 %\n",
      "Accuracy of flatfish : 51 %\n",
      "Accuracy of forest : 60 %\n",
      "Accuracy of   fox : 54 %\n",
      "Accuracy of  girl : 25 %\n",
      "Accuracy of hamster : 56 %\n",
      "Accuracy of house : 57 %\n",
      "Accuracy of kangaroo : 43 %\n",
      "Accuracy of keyboard : 80 %\n",
      "Accuracy of  lamp : 54 %\n",
      "Accuracy of lawn_mower : 73 %\n",
      "Accuracy of leopard : 72 %\n",
      "Accuracy of  lion : 56 %\n",
      "Accuracy of lizard : 32 %\n",
      "Accuracy of lobster : 43 %\n",
      "Accuracy of   man : 36 %\n",
      "Accuracy of maple_tree : 50 %\n",
      "Accuracy of motorcycle : 90 %\n",
      "Accuracy of mountain : 75 %\n",
      "Accuracy of mouse : 32 %\n",
      "Accuracy of mushroom : 64 %\n",
      "Accuracy of oak_tree : 85 %\n",
      "Accuracy of orange : 80 %\n",
      "Accuracy of orchid : 73 %\n",
      "Accuracy of otter : 15 %\n",
      "Accuracy of palm_tree : 86 %\n",
      "Accuracy of  pear : 66 %\n",
      "Accuracy of pickup_truck : 65 %\n",
      "Accuracy of pine_tree : 48 %\n",
      "Accuracy of plain : 76 %\n",
      "Accuracy of plate : 65 %\n",
      "Accuracy of poppy : 65 %\n",
      "Accuracy of porcupine : 55 %\n",
      "Accuracy of possum : 37 %\n",
      "Accuracy of rabbit : 25 %\n",
      "Accuracy of raccoon : 67 %\n",
      "Accuracy of   ray : 48 %\n",
      "Accuracy of  road : 91 %\n",
      "Accuracy of rocket : 78 %\n",
      "Accuracy of  rose : 64 %\n",
      "Accuracy of   sea : 75 %\n",
      "Accuracy of  seal : 26 %\n",
      "Accuracy of shark : 44 %\n",
      "Accuracy of shrew : 47 %\n",
      "Accuracy of skunk : 82 %\n",
      "Accuracy of skyscraper : 84 %\n",
      "Accuracy of snail : 47 %\n",
      "Accuracy of snake : 61 %\n",
      "Accuracy of spider : 65 %\n",
      "Accuracy of squirrel : 19 %\n",
      "Accuracy of streetcar : 72 %\n",
      "Accuracy of sunflower : 89 %\n",
      "Accuracy of sweet_pepper : 51 %\n",
      "Accuracy of table : 47 %\n",
      "Accuracy of  tank : 68 %\n",
      "Accuracy of telephone : 67 %\n",
      "Accuracy of television : 73 %\n",
      "Accuracy of tiger : 62 %\n",
      "Accuracy of tractor : 69 %\n",
      "Accuracy of train : 68 %\n",
      "Accuracy of trout : 66 %\n",
      "Accuracy of tulip : 44 %\n",
      "Accuracy of turtle : 40 %\n",
      "Accuracy of wardrobe : 90 %\n",
      "Accuracy of whale : 63 %\n",
      "Accuracy of willow_tree : 38 %\n",
      "Accuracy of  wolf : 59 %\n",
      "Accuracy of woman : 31 %\n",
      "Accuracy of  worm : 70 %\n"
     ]
    }
   ],
   "source": [
    "valid_class(net, test_data_loader, classes)"
   ]
  },
  {
   "cell_type": "code",
   "execution_count": 20,
   "metadata": {},
   "outputs": [],
   "source": [
    "torch.save(net.state_dict(), \"best.pt\")"
   ]
  },
  {
   "cell_type": "code",
   "execution_count": 21,
   "metadata": {},
   "outputs": [],
   "source": [
    "# net = TwoLayerNet()\n",
    "# train(net, train_data_loader, epochs=100, lr=0.001)\n",
    "# valid(net, test_data_loader)"
   ]
  },
  {
   "cell_type": "code",
   "execution_count": null,
   "metadata": {},
   "outputs": [],
   "source": []
  },
  {
   "cell_type": "markdown",
   "metadata": {
    "id": "mlAIR45199iA"
   },
   "source": [
    "#### *`Test the accuracy of TwolayerNet`*"
   ]
  },
  {
   "cell_type": "markdown",
   "metadata": {
    "id": "3XX8c2fb99iA"
   },
   "source": [
    "## **Section 2:  Finetuning the ConvNet**\n",
    "### 2.1 STL-10 DATASET\n",
    "> The above networks are trained on CIFAR-100, which\n",
    "contains the images of 100 different object categories, each of which has $32\\times32 \\times3$ dimensions.\n",
    "The dataset we use throughout this section is a subset of [STL-10](https://cs.stanford.edu/~acoates/stl10/)\n",
    "with higher resolution and different object classes. So, there is a discrepancy between the previous dataset (CIFAR-100) and the new dataset (STL-10). One solution would be to train the whole network from scratch. However, the number of parameters is too large to be trained properly with such few images. Another way is to use the pre-trained network (on CIFAR-100) and then finetune the network on the new dataset (STL-10) (*e.g.*, use the same architectures in all layers except the output layer, as the number of output classes changes (from 100 to 5)).\n"
   ]
  },
  {
   "cell_type": "code",
   "execution_count": 22,
   "metadata": {},
   "outputs": [
    {
     "name": "stdout",
     "output_type": "stream",
     "text": [
      "Looking in indexes: https://pypi.org/simple, https://pypi.ngc.nvidia.com\n",
      "Requirement already satisfied: imageio in /home/kris/anaconda3/envs/uni/lib/python3.10/site-packages (2.31.5)\n",
      "Requirement already satisfied: numpy in /home/kris/anaconda3/envs/uni/lib/python3.10/site-packages (from imageio) (1.24.1)\n",
      "Requirement already satisfied: pillow>=8.3.2 in /home/kris/anaconda3/envs/uni/lib/python3.10/site-packages (from imageio) (9.3.0)\n",
      "Note: you may need to restart the kernel to use updated packages.\n"
     ]
    }
   ],
   "source": [
    "pip install imageio"
   ]
  },
  {
   "cell_type": "code",
   "execution_count": null,
   "metadata": {
    "id": "XR1xyOW_sib8"
   },
   "outputs": [],
   "source": [
    "# Use the following code if necessary\n",
    "# referenced code: https://cs.stanford.edu/~acoates/stl10/\n",
    "\n",
    "from __future__ import print_function\n",
    "\n",
    "import sys\n",
    "import os, sys, tarfile, errno\n",
    "import numpy as np\n",
    "import matplotlib.pyplot as plt\n",
    "\n",
    "if sys.version_info >= (3, 0, 0):\n",
    "    import urllib.request as urllib\n",
    "else:\n",
    "    import urllib\n",
    "\n",
    "try:\n",
    "    from imageio import imsave\n",
    "except:\n",
    "    from scipy.misc import imsave\n",
    "\n",
    "print(sys.version_info)\n",
    "\n",
    "# image shape\n",
    "HEIGHT = 96\n",
    "WIDTH = 96\n",
    "DEPTH = 3\n",
    "\n",
    "# size of a single image in bytes\n",
    "SIZE = HEIGHT * WIDTH * DEPTH\n",
    "\n",
    "# path to the directory with the data\n",
    "DATA_DIR = './data'\n",
    "\n",
    "# url of the binary data\n",
    "DATA_URL = 'http://ai.stanford.edu/~acoates/stl10/stl10_binary.tar.gz'\n",
    "\n",
    "# path to the binary train file with image data\n",
    "DATA_PATH = './data/stl10_binary/train_X.bin'\n",
    "\n",
    "# path to the binary train file with labels\n",
    "LABEL_PATH = './data/stl10_binary/train_y.bin'\n",
    "\n",
    "def read_labels(path_to_labels):\n",
    "    \"\"\"\n",
    "    :param path_to_labels: path to the binary file containing labels from the STL-10 dataset\n",
    "    :return: an array containing the labels\n",
    "    \"\"\"\n",
    "    with open(path_to_labels, 'rb') as f:\n",
    "        labels = np.fromfile(f, dtype=np.uint8)\n",
    "        return labels\n",
    "\n",
    "\n",
    "def read_all_images(path_to_data):\n",
    "    \"\"\"\n",
    "    :param path_to_data: the file containing the binary images from the STL-10 dataset\n",
    "    :return: an array containing all the images\n",
    "    \"\"\"\n",
    "\n",
    "    with open(path_to_data, 'rb') as f:\n",
    "        # read whole file in uint8 chunks\n",
    "        everything = np.fromfile(f, dtype=np.uint8)\n",
    "\n",
    "        # We force the data into 3x96x96 chunks, since the\n",
    "        # images are stored in \"column-major order\", meaning\n",
    "        # that \"the first 96*96 values are the red channel,\n",
    "        # the next 96*96 are green, and the last are blue.\"\n",
    "        # The -1 is since the size of the pictures depends\n",
    "        # on the input file, and this way numpy determines\n",
    "        # the size on its own.\n",
    "\n",
    "        images = np.reshape(everything, (-1, 3, 96, 96))\n",
    "\n",
    "        # Now transpose the images into a standard image format\n",
    "        # readable by, for example, matplotlib.imshow\n",
    "        # You might want to comment this line or reverse the shuffle\n",
    "        # if you will use a learning algorithm like CNN, since they like\n",
    "        # their channels separated.\n",
    "        images = np.transpose(images, (0, 3, 2, 1))\n",
    "        return images\n",
    "\n",
    "\n",
    "def read_single_image(image_file):\n",
    "    \"\"\"\n",
    "    CAREFUL! - this method uses a file as input instead of the path - so the\n",
    "    position of the reader will be remembered outside of context of this method.\n",
    "    :param image_file: the open file containing the images\n",
    "    :return: a single image\n",
    "    \"\"\"\n",
    "    # read a single image, count determines the number of uint8's to read\n",
    "    image = np.fromfile(image_file, dtype=np.uint8, count=SIZE)\n",
    "    # force into image matrix\n",
    "    image = np.reshape(image, (3, 96, 96))\n",
    "    # transpose to standard format\n",
    "    # You might want to comment this line or reverse the shuffle\n",
    "    # if you will use a learning algorithm like CNN, since they like\n",
    "    # their channels separated.\n",
    "    image = np.transpose(image, (2, 1, 0))\n",
    "    return image\n",
    "\n",
    "\n",
    "def plot_image(image):\n",
    "    \"\"\"\n",
    "    :param image: the image to be plotted in a 3-D matrix format\n",
    "    :return: None\n",
    "    \"\"\"\n",
    "    plt.imshow(image)\n",
    "    plt.show()\n",
    "\n",
    "def save_image(image, name):\n",
    "    imsave(\"%s.png\" % name, image, format=\"png\")\n",
    "\n",
    "def download_and_extract():\n",
    "    \"\"\"\n",
    "    Download and extract the STL-10 dataset\n",
    "    :return: None\n",
    "    \"\"\"\n",
    "    dest_directory = DATA_DIR\n",
    "    if not os.path.exists(dest_directory):\n",
    "        os.makedirs(dest_directory)\n",
    "    filename = DATA_URL.split('/')[-1]\n",
    "    filepath = os.path.join(dest_directory, filename)\n",
    "    if not os.path.exists(filepath):\n",
    "        def _progress(count, block_size, total_size):\n",
    "            sys.stdout.write('\\rDownloading %s %.2f%%' % (filename,\n",
    "                float(count * block_size) / float(total_size) * 100.0))\n",
    "            sys.stdout.flush()\n",
    "        filepath, _ = urllib.urlretrieve(DATA_URL, filepath, reporthook=_progress)\n",
    "        print('Downloaded', filename)\n",
    "        tarfile.open(filepath, 'r:gz').extractall(dest_directory)\n",
    "\n",
    "def save_images(images, labels):\n",
    "    print(\"Saving images to disk\")\n",
    "    i = 0\n",
    "    for image in images:\n",
    "        label = labels[i]\n",
    "        directory = './img/' + str(label) + '/'\n",
    "        try:\n",
    "            os.makedirs(directory, exist_ok=True)\n",
    "        except OSError as exc:\n",
    "            if exc.errno == errno.EEXIST:\n",
    "                pass\n",
    "        filename = directory + str(i)\n",
    "        print(filename)\n",
    "        save_image(image, filename)\n",
    "        i = i + 1\n"
   ]
  },
  {
   "cell_type": "code",
   "execution_count": 28,
   "metadata": {
    "id": "uU0aikuks2Lp",
    "scrolled": true
   },
   "outputs": [
    {
     "data": {
      "image/png": "[encoded data removed]",
      "text/plain": [
       "<Figure size 640x480 with 1 Axes>"
      ]
     },
     "metadata": {},
     "output_type": "display_data"
    },
    {
     "name": "stdout",
     "output_type": "stream",
     "text": [
      "(5000, 96, 96, 3)\n",
      "(5000,)\n",
      "Saving images to disk\n",
      "./img/2/0\n",
      "./img/6/1\n",
      "./img/2/2\n",
      "./img/7/3\n",
      "./img/4/4\n",
      "./img/10/5\n",
      "./img/8/6\n",
      "./img/5/7\n",
      "./img/6/8\n",
      "./img/9/9\n",
      "./img/1/10\n",
      "./img/7/11\n",
      "./img/1/12\n",
      "./img/9/13\n",
      "./img/8/14\n",
      "./img/7/15\n",
      "./img/5/16\n",
      "./img/7/17\n",
      "./img/3/18\n",
      "./img/3/19\n",
      "./img/2/20\n",
      "./img/2/21\n",
      "./img/7/22\n",
      "./img/3/23\n",
      "./img/2/24\n",
      "./img/9/25\n",
      "./img/6/26\n",
      "./img/2/27\n",
      "./img/6/28\n",
      "./img/6/29\n",
      "./img/1/30\n",
      "./img/1/31\n",
      "./img/1/32\n",
      "./img/2/33\n",
      "./img/4/34\n",
      "./img/7/35\n",
      "./img/8/36\n",
      "./img/3/37\n",
      "./img/2/38\n",
      "./img/4/39\n",
      "./img/2/40\n",
      "./img/7/41\n",
      "./img/2/42\n",
      "./img/4/43\n",
      "./img/8/44\n",
      "./img/5/45\n",
      "./img/4/46\n",
      "./img/1/47\n",
      "./img/7/48\n",
      "./img/8/49\n",
      "./img/7/50\n",
      "./img/6/51\n",
      "./img/9/52\n",
      "./img/1/53\n",
      "./img/7/54\n",
      "./img/2/55\n",
      "./img/4/56\n",
      "./img/7/57\n",
      "./img/9/58\n",
      "./img/3/59\n",
      "./img/3/60\n",
      "./img/10/61\n",
      "./img/10/62\n",
      "./img/6/63\n",
      "./img/2/64\n",
      "./img/8/65\n",
      "./img/9/66\n",
      "./img/8/67\n",
      "./img/9/68\n",
      "./img/9/69\n",
      "./img/10/70\n",
      "./img/1/71\n",
      "./img/6/72\n",
      "./img/1/73\n",
      "./img/3/74\n",
      "./img/6/75\n",
      "./img/6/76\n",
      "./img/8/77\n",
      "./img/9/78\n",
      "./img/10/79\n",
      "./img/6/80\n",
      "./img/1/81\n",
      "./img/9/82\n",
      "./img/4/83\n",
      "./img/3/84\n",
      "./img/10/85\n",
      "./img/7/86\n",
      "./img/6/87\n",
      "./img/9/88\n",
      "./img/4/89\n",
      "./img/8/90\n",
      "./img/10/91\n",
      "./img/7/92\n",
      "./img/7/93\n",
      "./img/7/94\n",
      "./img/2/95\n",
      "./img/1/96\n",
      "./img/6/97\n",
      "./img/1/98\n",
      "./img/6/99\n",
      "./img/3/100\n",
      "./img/8/101\n",
      "./img/2/102\n",
      "./img/1/103\n",
      "./img/1/104\n",
      "./img/9/105\n",
      "./img/1/106\n",
      "./img/5/107\n",
      "./img/3/108\n",
      "./img/5/109\n",
      "./img/4/110\n",
      "./img/3/111\n",
      "./img/5/112\n",
      "./img/6/113\n",
      "./img/2/114\n",
      "./img/3/115\n",
      "./img/5/116\n",
      "./img/5/117\n",
      "./img/10/118\n",
      "./img/1/119\n",
      "./img/6/120\n",
      "./img/3/121\n",
      "./img/6/122\n",
      "./img/8/123\n",
      "./img/1/124\n",
      "./img/6/125\n",
      "./img/4/126\n",
      "./img/4/127\n",
      "./img/7/128\n",
      "./img/4/129\n",
      "./img/7/130\n",
      "./img/5/131\n",
      "./img/9/132\n",
      "./img/4/133\n",
      "./img/2/134\n",
      "./img/4/135\n",
      "./img/8/136\n",
      "./img/5/137\n",
      "./img/7/138\n",
      "./img/1/139\n",
      "./img/10/140\n",
      "./img/6/141\n",
      "./img/3/142\n",
      "./img/10/143\n",
      "./img/3/144\n",
      "./img/9/145\n",
      "./img/9/146\n",
      "./img/7/147\n",
      "./img/2/148\n",
      "./img/10/149\n",
      "./img/9/150\n",
      "./img/3/151\n",
      "./img/1/152\n",
      "./img/2/153\n",
      "./img/3/154\n",
      "./img/8/155\n",
      "./img/6/156\n",
      "./img/8/157\n",
      "./img/9/158\n",
      "./img/8/159\n",
      "./img/3/160\n",
      "./img/3/161\n",
      "./img/8/162\n",
      "./img/9/163\n",
      "./img/9/164\n",
      "./img/10/165\n",
      "./img/3/166\n",
      "./img/8/167\n",
      "./img/5/168\n",
      "./img/4/169\n",
      "./img/6/170\n",
      "./img/7/171\n",
      "./img/8/172\n",
      "./img/2/173\n",
      "./img/7/174\n",
      "./img/10/175\n",
      "./img/2/176\n",
      "./img/10/177\n",
      "./img/3/178\n",
      "./img/8/179\n",
      "./img/10/180\n",
      "./img/5/181\n",
      "./img/2/182\n",
      "./img/1/183\n",
      "./img/5/184\n",
      "./img/5/185\n",
      "./img/3/186\n",
      "./img/5/187\n",
      "./img/5/188\n",
      "./img/7/189\n",
      "./img/8/190\n",
      "./img/4/191\n",
      "./img/4/192\n",
      "./img/2/193\n",
      "./img/4/194\n",
      "./img/6/195\n",
      "./img/5/196\n",
      "./img/3/197\n",
      "./img/1/198\n",
      "./img/8/199\n",
      "./img/1/200\n",
      "./img/5/201\n",
      "./img/8/202\n",
      "./img/1/203\n",
      "./img/8/204\n",
      "./img/10/205\n",
      "./img/1/206\n",
      "./img/8/207\n",
      "./img/2/208\n",
      "./img/5/209\n",
      "./img/3/210\n",
      "./img/8/211\n",
      "./img/7/212\n",
      "./img/9/213\n",
      "./img/6/214\n",
      "./img/6/215\n",
      "./img/3/216\n",
      "./img/7/217\n",
      "./img/10/218\n",
      "./img/8/219\n",
      "./img/6/220\n",
      "./img/6/221\n",
      "./img/10/222\n",
      "./img/2/223\n",
      "./img/5/224\n",
      "./img/9/225\n",
      "./img/9/226\n",
      "./img/6/227\n",
      "./img/6/228\n",
      "./img/7/229\n",
      "./img/10/230\n",
      "./img/4/231\n",
      "./img/5/232\n",
      "./img/5/233\n",
      "./img/3/234\n",
      "./img/6/235\n",
      "./img/1/236\n",
      "./img/5/237\n",
      "./img/7/238\n",
      "./img/2/239\n",
      "./img/8/240\n",
      "./img/1/241\n",
      "./img/4/242\n",
      "./img/9/243\n",
      "./img/2/244\n",
      "./img/3/245\n",
      "./img/1/246\n",
      "./img/9/247\n",
      "./img/6/248\n",
      "./img/2/249\n",
      "./img/8/250\n",
      "./img/5/251\n",
      "./img/10/252\n",
      "./img/10/253\n",
      "./img/5/254\n",
      "./img/2/255\n",
      "./img/2/256\n",
      "./img/1/257\n",
      "./img/5/258\n",
      "./img/3/259\n",
      "./img/9/260\n",
      "./img/10/261\n",
      "./img/1/262\n",
      "./img/8/263\n",
      "./img/7/264\n",
      "./img/5/265\n",
      "./img/9/266\n",
      "./img/9/267\n",
      "./img/8/268\n",
      "./img/5/269\n",
      "./img/6/270\n",
      "./img/7/271\n",
      "./img/5/272\n",
      "./img/9/273\n",
      "./img/9/274\n",
      "./img/7/275\n",
      "./img/6/276\n",
      "./img/2/277\n",
      "./img/5/278\n",
      "./img/8/279\n",
      "./img/4/280\n",
      "./img/2/281\n",
      "./img/8/282\n",
      "./img/8/283\n",
      "./img/5/284\n",
      "./img/8/285\n",
      "./img/3/286\n",
      "./img/3/287\n",
      "./img/5/288\n",
      "./img/2/289\n",
      "./img/4/290\n",
      "./img/7/291\n",
      "./img/2/292\n",
      "./img/5/293\n",
      "./img/7/294\n",
      "./img/8/295\n",
      "./img/1/296\n",
      "./img/5/297\n",
      "./img/6/298\n",
      "./img/9/299\n",
      "./img/1/300\n",
      "./img/3/301\n",
      "./img/4/302\n",
      "./img/3/303\n",
      "./img/3/304\n",
      "./img/6/305\n",
      "./img/10/306\n",
      "./img/3/307\n",
      "./img/7/308\n",
      "./img/4/309\n",
      "./img/2/310\n",
      "./img/9/311\n",
      "./img/8/312\n",
      "./img/6/313\n",
      "./img/9/314\n",
      "./img/6/315\n",
      "./img/6/316\n",
      "./img/6/317\n",
      "./img/7/318\n",
      "./img/10/319\n",
      "./img/9/320\n",
      "./img/2/321\n",
      "./img/6/322\n",
      "./img/5/323\n",
      "./img/1/324\n",
      "./img/4/325\n",
      "./img/4/326\n",
      "./img/4/327\n",
      "./img/1/328\n",
      "./img/6/329\n",
      "./img/1/330\n",
      "./img/10/331\n",
      "./img/3/332\n",
      "./img/1/333\n",
      "./img/7/334\n",
      "./img/2/335\n",
      "./img/3/336\n",
      "./img/5/337\n",
      "./img/8/338\n",
      "./img/2/339\n",
      "./img/1/340\n",
      "./img/9/341\n",
      "./img/9/342\n",
      "./img/1/343\n",
      "./img/1/344\n",
      "./img/4/345\n",
      "./img/9/346\n",
      "./img/4/347\n",
      "./img/1/348\n",
      "./img/4/349\n",
      "./img/9/350\n",
      "./img/3/351\n",
      "./img/7/352\n",
      "./img/8/353\n",
      "./img/1/354\n",
      "./img/9/355\n",
      "./img/9/356\n",
      "./img/7/357\n",
      "./img/7/358\n",
      "./img/5/359\n",
      "./img/7/360\n",
      "./img/10/361\n",
      "./img/5/362\n",
      "./img/8/363\n",
      "./img/9/364\n",
      "./img/6/365\n",
      "./img/6/366\n",
      "./img/8/367\n",
      "./img/1/368\n",
      "./img/2/369\n",
      "./img/9/370\n",
      "./img/9/371\n",
      "./img/2/372\n",
      "./img/2/373\n",
      "./img/3/374\n",
      "./img/9/375\n",
      "./img/5/376\n",
      "./img/4/377\n",
      "./img/6/378\n",
      "./img/8/379\n",
      "./img/2/380\n",
      "./img/10/381\n",
      "./img/5/382\n",
      "./img/6/383\n",
      "./img/2/384\n",
      "./img/7/385\n",
      "./img/7/386\n",
      "./img/7/387\n",
      "./img/5/388\n",
      "./img/8/389\n",
      "./img/7/390\n",
      "./img/1/391\n",
      "./img/9/392\n",
      "./img/6/393\n",
      "./img/5/394\n",
      "./img/9/395\n",
      "./img/10/396\n",
      "./img/1/397\n",
      "./img/3/398\n",
      "./img/7/399\n",
      "./img/3/400\n",
      "./img/8/401\n",
      "./img/5/402\n",
      "./img/10/403\n",
      "./img/8/404\n",
      "./img/7/405\n",
      "./img/4/406\n",
      "./img/6/407\n",
      "./img/1/408\n",
      "./img/6/409\n",
      "./img/5/410\n",
      "./img/8/411\n",
      "./img/1/412\n",
      "./img/8/413\n",
      "./img/10/414\n",
      "./img/7/415\n",
      "./img/2/416\n",
      "./img/9/417\n",
      "./img/3/418\n",
      "./img/3/419\n",
      "./img/3/420\n",
      "./img/2/421\n",
      "./img/1/422\n",
      "./img/10/423\n",
      "./img/6/424\n",
      "./img/2/425\n",
      "./img/10/426\n",
      "./img/3/427\n",
      "./img/8/428\n",
      "./img/3/429\n",
      "./img/1/430\n",
      "./img/10/431\n",
      "./img/2/432\n",
      "./img/7/433\n",
      "./img/5/434\n",
      "./img/6/435\n",
      "./img/6/436\n",
      "./img/1/437\n",
      "./img/7/438\n",
      "./img/3/439\n",
      "./img/8/440\n",
      "./img/3/441\n",
      "./img/4/442\n",
      "./img/3/443\n",
      "./img/1/444\n",
      "./img/6/445\n",
      "./img/9/446\n",
      "./img/8/447\n",
      "./img/9/448\n",
      "./img/9/449\n",
      "./img/6/450\n",
      "./img/6/451\n",
      "./img/6/452\n",
      "./img/9/453\n",
      "./img/8/454\n",
      "./img/4/455\n",
      "./img/10/456\n",
      "./img/2/457\n",
      "./img/10/458\n",
      "./img/2/459\n",
      "./img/1/460\n",
      "./img/7/461\n",
      "./img/4/462\n",
      "./img/7/463\n",
      "./img/2/464\n",
      "./img/7/465\n",
      "./img/1/466\n",
      "./img/6/467\n",
      "./img/3/468\n",
      "./img/8/469\n",
      "./img/8/470\n",
      "./img/2/471\n",
      "./img/9/472\n",
      "./img/7/473\n",
      "./img/8/474\n",
      "./img/7/475\n",
      "./img/4/476\n",
      "./img/8/477\n",
      "./img/1/478\n",
      "./img/10/479\n",
      "./img/2/480\n",
      "./img/9/481\n",
      "./img/6/482\n",
      "./img/9/483\n",
      "./img/9/484\n",
      "./img/10/485\n",
      "./img/5/486\n",
      "./img/1/487\n",
      "./img/10/488\n",
      "./img/2/489\n",
      "./img/6/490\n",
      "./img/3/491\n",
      "./img/5/492\n",
      "./img/4/493\n",
      "./img/8/494\n",
      "./img/6/495\n",
      "./img/2/496\n",
      "./img/7/497\n",
      "./img/3/498\n",
      "./img/5/499\n",
      "./img/6/500\n",
      "./img/9/501\n",
      "./img/3/502\n",
      "./img/3/503\n",
      "./img/10/504\n",
      "./img/4/505\n",
      "./img/4/506\n",
      "./img/8/507\n",
      "./img/6/508\n",
      "./img/3/509\n",
      "./img/4/510\n",
      "./img/9/511\n",
      "./img/3/512\n",
      "./img/3/513\n",
      "./img/10/514\n",
      "./img/10/515\n",
      "./img/1/516\n",
      "./img/4/517\n",
      "./img/10/518\n",
      "./img/10/519\n",
      "./img/6/520\n",
      "./img/3/521\n",
      "./img/1/522\n",
      "./img/6/523\n",
      "./img/2/524\n",
      "./img/10/525\n",
      "./img/6/526\n",
      "./img/4/527\n",
      "./img/7/528\n",
      "./img/4/529\n",
      "./img/9/530\n",
      "./img/2/531\n",
      "./img/4/532\n",
      "./img/9/533\n",
      "./img/5/534\n",
      "./img/6/535\n",
      "./img/9/536\n",
      "./img/9/537\n",
      "./img/7/538\n",
      "./img/10/539\n",
      "./img/8/540\n",
      "./img/2/541\n",
      "./img/10/542\n",
      "./img/3/543\n",
      "./img/5/544\n",
      "./img/2/545\n",
      "./img/2/546\n",
      "./img/7/547\n",
      "./img/3/548\n",
      "./img/7/549\n",
      "./img/8/550\n",
      "./img/7/551\n",
      "./img/8/552\n",
      "./img/1/553\n",
      "./img/2/554\n",
      "./img/2/555\n",
      "./img/5/556\n",
      "./img/2/557\n",
      "./img/1/558\n",
      "./img/10/559\n",
      "./img/9/560\n",
      "./img/8/561\n",
      "./img/1/562\n",
      "./img/3/563\n",
      "./img/3/564\n",
      "./img/10/565\n",
      "./img/8/566\n",
      "./img/2/567\n",
      "./img/2/568\n",
      "./img/6/569\n",
      "./img/7/570\n",
      "./img/10/571\n",
      "./img/6/572\n",
      "./img/10/573\n",
      "./img/1/574\n",
      "./img/10/575\n",
      "./img/3/576\n",
      "./img/1/577\n",
      "./img/5/578\n",
      "./img/1/579\n",
      "./img/6/580\n",
      "./img/3/581\n",
      "./img/8/582\n",
      "./img/4/583\n",
      "./img/4/584\n",
      "./img/1/585\n",
      "./img/9/586\n",
      "./img/9/587\n",
      "./img/4/588\n",
      "./img/7/589\n",
      "./img/1/590\n",
      "./img/3/591\n",
      "./img/1/592\n",
      "./img/8/593\n",
      "./img/4/594\n",
      "./img/3/595\n",
      "./img/2/596\n",
      "./img/4/597\n",
      "./img/3/598\n",
      "./img/4/599\n",
      "./img/9/600\n",
      "./img/6/601\n",
      "./img/7/602\n",
      "./img/7/603\n",
      "./img/6/604\n",
      "./img/7/605\n",
      "./img/1/606\n",
      "./img/9/607\n",
      "./img/5/608\n",
      "./img/10/609\n",
      "./img/3/610\n",
      "./img/9/611\n",
      "./img/10/612\n",
      "./img/10/613\n",
      "./img/2/614\n",
      "./img/1/615\n",
      "./img/2/616\n",
      "./img/6/617\n",
      "./img/6/618\n",
      "./img/5/619\n",
      "./img/5/620\n",
      "./img/4/621\n",
      "./img/1/622\n",
      "./img/5/623\n",
      "./img/6/624\n",
      "./img/7/625\n",
      "./img/5/626\n",
      "./img/3/627\n",
      "./img/2/628\n",
      "./img/3/629\n",
      "./img/10/630\n",
      "./img/1/631\n",
      "./img/7/632\n",
      "./img/8/633\n",
      "./img/8/634\n",
      "./img/6/635\n",
      "./img/2/636\n",
      "./img/3/637\n",
      "./img/4/638\n",
      "./img/7/639\n",
      "./img/2/640\n",
      "./img/2/641\n",
      "./img/7/642\n",
      "./img/1/643\n",
      "./img/10/644\n",
      "./img/5/645\n",
      "./img/1/646\n",
      "./img/10/647\n",
      "./img/3/648\n",
      "./img/2/649\n",
      "./img/2/650\n",
      "./img/1/651\n",
      "./img/9/652\n",
      "./img/7/653\n",
      "./img/10/654\n",
      "./img/6/655\n",
      "./img/2/656\n",
      "./img/4/657\n",
      "./img/5/658\n",
      "./img/5/659\n",
      "./img/10/660\n",
      "./img/2/661\n",
      "./img/10/662\n",
      "./img/4/663\n",
      "./img/2/664\n",
      "./img/4/665\n",
      "./img/9/666\n",
      "./img/3/667\n",
      "./img/10/668\n",
      "./img/6/669\n",
      "./img/4/670\n",
      "./img/9/671\n",
      "./img/8/672\n",
      "./img/3/673\n",
      "./img/9/674\n",
      "./img/3/675\n",
      "./img/1/676\n",
      "./img/7/677\n",
      "./img/7/678\n",
      "./img/4/679\n",
      "./img/5/680\n",
      "./img/2/681\n",
      "./img/3/682\n",
      "./img/8/683\n",
      "./img/4/684\n",
      "./img/8/685\n",
      "./img/1/686\n",
      "./img/3/687\n",
      "./img/10/688\n",
      "./img/1/689\n",
      "./img/6/690\n",
      "./img/6/691\n",
      "./img/7/692\n",
      "./img/9/693\n",
      "./img/1/694\n",
      "./img/1/695\n",
      "./img/2/696\n",
      "./img/2/697\n",
      "./img/8/698\n",
      "./img/5/699\n",
      "./img/10/700\n",
      "./img/7/701\n",
      "./img/8/702\n",
      "./img/5/703\n",
      "./img/10/704\n",
      "./img/10/705\n",
      "./img/3/706\n",
      "./img/8/707\n",
      "./img/1/708\n",
      "./img/6/709\n",
      "./img/5/710\n",
      "./img/1/711\n",
      "./img/3/712\n",
      "./img/8/713\n",
      "./img/10/714\n",
      "./img/6/715\n",
      "./img/5/716\n",
      "./img/5/717\n",
      "./img/9/718\n",
      "./img/1/719\n",
      "./img/6/720\n",
      "./img/7/721\n",
      "./img/5/722\n",
      "./img/9/723\n",
      "./img/2/724\n",
      "./img/3/725\n",
      "./img/1/726\n",
      "./img/10/727\n",
      "./img/4/728\n",
      "./img/2/729\n",
      "./img/1/730\n",
      "./img/9/731\n",
      "./img/3/732\n",
      "./img/1/733\n",
      "./img/8/734\n",
      "./img/5/735\n",
      "./img/1/736\n",
      "./img/5/737\n",
      "./img/7/738\n",
      "./img/4/739\n",
      "./img/1/740\n",
      "./img/4/741\n",
      "./img/5/742\n",
      "./img/7/743\n",
      "./img/1/744\n",
      "./img/8/745\n",
      "./img/6/746\n",
      "./img/6/747\n",
      "./img/1/748\n",
      "./img/6/749\n",
      "./img/3/750\n",
      "./img/9/751\n",
      "./img/7/752\n",
      "./img/2/753\n",
      "./img/9/754\n",
      "./img/6/755\n",
      "./img/8/756\n",
      "./img/4/757\n",
      "./img/2/758\n",
      "./img/4/759\n",
      "./img/10/760\n",
      "./img/7/761\n",
      "./img/2/762\n",
      "./img/8/763\n",
      "./img/8/764\n",
      "./img/5/765\n",
      "./img/2/766\n",
      "./img/3/767\n",
      "./img/1/768\n",
      "./img/8/769\n",
      "./img/3/770\n",
      "./img/8/771\n",
      "./img/3/772\n",
      "./img/8/773\n",
      "./img/8/774\n",
      "./img/6/775\n",
      "./img/2/776\n",
      "./img/4/777\n",
      "./img/10/778\n",
      "./img/1/779\n",
      "./img/2/780\n",
      "./img/1/781\n",
      "./img/8/782\n",
      "./img/4/783\n",
      "./img/10/784\n",
      "./img/2/785\n",
      "./img/3/786\n",
      "./img/3/787\n",
      "./img/5/788\n",
      "./img/10/789\n",
      "./img/9/790\n",
      "./img/10/791\n",
      "./img/5/792\n",
      "./img/7/793\n",
      "./img/4/794\n",
      "./img/10/795\n",
      "./img/6/796\n",
      "./img/5/797\n",
      "./img/4/798\n",
      "./img/3/799\n",
      "./img/2/800\n",
      "./img/8/801\n",
      "./img/4/802\n",
      "./img/3/803\n",
      "./img/4/804\n",
      "./img/8/805\n",
      "./img/2/806\n",
      "./img/9/807\n",
      "./img/4/808\n",
      "./img/10/809\n",
      "./img/4/810\n",
      "./img/10/811\n",
      "./img/9/812\n",
      "./img/9/813\n",
      "./img/1/814\n",
      "./img/8/815\n",
      "./img/8/816\n",
      "./img/2/817\n",
      "./img/3/818\n",
      "./img/3/819\n",
      "./img/8/820\n",
      "./img/10/821\n",
      "./img/9/822\n",
      "./img/6/823\n",
      "./img/10/824\n",
      "./img/1/825\n",
      "./img/2/826\n",
      "./img/3/827\n",
      "./img/6/828\n",
      "./img/7/829\n",
      "./img/4/830\n",
      "./img/3/831\n",
      "./img/4/832\n",
      "./img/4/833\n",
      "./img/6/834\n",
      "./img/2/835\n",
      "./img/3/836\n",
      "./img/7/837\n",
      "./img/2/838\n",
      "./img/8/839\n",
      "./img/9/840\n",
      "./img/8/841\n",
      "./img/5/842\n",
      "./img/9/843\n",
      "./img/7/844\n",
      "./img/7/845\n",
      "./img/4/846\n",
      "./img/3/847\n",
      "./img/3/848\n",
      "./img/6/849\n",
      "./img/4/850\n",
      "./img/9/851\n",
      "./img/4/852\n",
      "./img/6/853\n",
      "./img/10/854\n",
      "./img/8/855\n",
      "./img/2/856\n",
      "./img/9/857\n",
      "./img/1/858\n",
      "./img/4/859\n",
      "./img/7/860\n",
      "./img/9/861\n",
      "./img/7/862\n",
      "./img/8/863\n",
      "./img/10/864\n",
      "./img/2/865\n",
      "./img/6/866\n",
      "./img/6/867\n",
      "./img/6/868\n",
      "./img/8/869\n",
      "./img/7/870\n",
      "./img/2/871\n",
      "./img/2/872\n",
      "./img/7/873\n",
      "./img/8/874\n",
      "./img/2/875\n",
      "./img/7/876\n",
      "./img/2/877\n",
      "./img/6/878\n",
      "./img/3/879\n",
      "./img/8/880\n",
      "./img/6/881\n",
      "./img/9/882\n",
      "./img/9/883\n",
      "./img/10/884\n",
      "./img/1/885\n",
      "./img/2/886\n",
      "./img/4/887\n",
      "./img/6/888\n",
      "./img/8/889\n",
      "./img/9/890\n",
      "./img/3/891\n",
      "./img/6/892\n",
      "./img/4/893\n",
      "./img/1/894\n",
      "./img/7/895\n",
      "./img/4/896\n",
      "./img/9/897\n",
      "./img/2/898\n",
      "./img/2/899\n",
      "./img/6/900\n",
      "./img/2/901\n",
      "./img/4/902\n",
      "./img/5/903\n",
      "./img/4/904\n",
      "./img/6/905\n",
      "./img/3/906\n",
      "./img/6/907\n",
      "./img/5/908\n",
      "./img/9/909\n",
      "./img/3/910\n",
      "./img/1/911\n",
      "./img/2/912\n",
      "./img/2/913\n",
      "./img/7/914\n",
      "./img/10/915\n",
      "./img/2/916\n",
      "./img/9/917\n",
      "./img/7/918\n",
      "./img/10/919\n",
      "./img/3/920\n",
      "./img/4/921\n",
      "./img/4/922\n",
      "./img/10/923\n",
      "./img/9/924\n",
      "./img/2/925\n",
      "./img/9/926\n",
      "./img/7/927\n",
      "./img/6/928\n",
      "./img/2/929\n",
      "./img/6/930\n",
      "./img/10/931\n",
      "./img/3/932\n",
      "./img/1/933\n",
      "./img/1/934\n",
      "./img/7/935\n",
      "./img/6/936\n",
      "./img/8/937\n",
      "./img/1/938\n",
      "./img/10/939\n",
      "./img/10/940\n",
      "./img/5/941\n",
      "./img/7/942\n",
      "./img/7/943\n",
      "./img/10/944\n",
      "./img/2/945\n",
      "./img/9/946\n",
      "./img/8/947\n",
      "./img/9/948\n",
      "./img/9/949\n",
      "./img/7/950\n",
      "./img/3/951\n",
      "./img/4/952\n",
      "./img/2/953\n",
      "./img/4/954\n",
      "./img/5/955\n",
      "./img/4/956\n",
      "./img/9/957\n",
      "./img/10/958\n",
      "./img/8/959\n",
      "./img/3/960\n",
      "./img/4/961\n",
      "./img/2/962\n",
      "./img/1/963\n",
      "./img/6/964\n",
      "./img/5/965\n",
      "./img/6/966\n",
      "./img/4/967\n",
      "./img/5/968\n",
      "./img/10/969\n",
      "./img/4/970\n",
      "./img/7/971\n",
      "./img/7/972\n",
      "./img/7/973\n",
      "./img/9/974\n",
      "./img/1/975\n",
      "./img/4/976\n",
      "./img/6/977\n",
      "./img/8/978\n",
      "./img/9/979\n",
      "./img/1/980\n",
      "./img/8/981\n",
      "./img/6/982\n",
      "./img/9/983\n",
      "./img/5/984\n",
      "./img/5/985\n",
      "./img/6/986\n",
      "./img/6/987\n",
      "./img/10/988\n",
      "./img/8/989\n",
      "./img/8/990\n",
      "./img/8/991\n",
      "./img/10/992\n",
      "./img/3/993\n",
      "./img/3/994\n",
      "./img/2/995\n",
      "./img/8/996\n",
      "./img/1/997\n",
      "./img/1/998\n",
      "./img/1/999\n",
      "./img/3/1000\n",
      "./img/4/1001\n",
      "./img/2/1002\n",
      "./img/2/1003\n",
      "./img/2/1004\n",
      "./img/10/1005\n",
      "./img/1/1006\n",
      "./img/10/1007\n",
      "./img/4/1008\n",
      "./img/3/1009\n",
      "./img/8/1010\n",
      "./img/8/1011\n",
      "./img/1/1012\n",
      "./img/10/1013\n",
      "./img/9/1014\n",
      "./img/6/1015\n",
      "./img/10/1016\n",
      "./img/8/1017\n",
      "./img/2/1018\n",
      "./img/6/1019\n",
      "./img/4/1020\n",
      "./img/5/1021\n",
      "./img/10/1022\n",
      "./img/7/1023\n",
      "./img/6/1024\n",
      "./img/9/1025\n",
      "./img/2/1026\n",
      "./img/3/1027\n",
      "./img/4/1028\n",
      "./img/10/1029\n",
      "./img/1/1030\n",
      "./img/2/1031\n",
      "./img/8/1032\n",
      "./img/2/1033\n",
      "./img/4/1034\n",
      "./img/10/1035\n",
      "./img/7/1036\n",
      "./img/1/1037\n",
      "./img/2/1038\n",
      "./img/1/1039\n",
      "./img/2/1040\n",
      "./img/10/1041\n",
      "./img/5/1042\n",
      "./img/4/1043\n",
      "./img/3/1044\n",
      "./img/9/1045\n",
      "./img/3/1046\n",
      "./img/2/1047\n",
      "./img/6/1048\n",
      "./img/10/1049\n",
      "./img/4/1050\n",
      "./img/7/1051\n",
      "./img/2/1052\n",
      "./img/3/1053\n",
      "./img/2/1054\n",
      "./img/1/1055\n",
      "./img/1/1056\n",
      "./img/4/1057\n",
      "./img/7/1058\n",
      "./img/4/1059\n",
      "./img/5/1060\n",
      "./img/2/1061\n",
      "./img/6/1062\n",
      "./img/4/1063\n",
      "./img/10/1064\n",
      "./img/9/1065\n",
      "./img/3/1066\n",
      "./img/10/1067\n",
      "./img/3/1068\n",
      "./img/10/1069\n",
      "./img/10/1070\n",
      "./img/2/1071\n",
      "./img/10/1072\n",
      "./img/2/1073\n",
      "./img/3/1074\n",
      "./img/8/1075\n",
      "./img/5/1076\n",
      "./img/4/1077\n",
      "./img/4/1078\n",
      "./img/3/1079\n",
      "./img/10/1080\n",
      "./img/3/1081\n",
      "./img/6/1082\n",
      "./img/10/1083\n",
      "./img/4/1084\n",
      "./img/8/1085\n",
      "./img/5/1086\n",
      "./img/2/1087\n",
      "./img/2/1088\n",
      "./img/1/1089\n",
      "./img/1/1090\n",
      "./img/8/1091\n",
      "./img/6/1092\n",
      "./img/8/1093\n",
      "./img/6/1094\n",
      "./img/4/1095\n",
      "./img/7/1096\n",
      "./img/10/1097\n",
      "./img/7/1098\n",
      "./img/9/1099\n",
      "./img/4/1100\n",
      "./img/4/1101\n",
      "./img/7/1102\n",
      "./img/6/1103\n",
      "./img/2/1104\n",
      "./img/4/1105\n",
      "./img/1/1106\n",
      "./img/6/1107\n",
      "./img/3/1108\n",
      "./img/5/1109\n",
      "./img/5/1110\n",
      "./img/8/1111\n",
      "./img/5/1112\n",
      "./img/3/1113\n",
      "./img/7/1114\n",
      "./img/5/1115\n",
      "./img/9/1116\n",
      "./img/1/1117\n",
      "./img/3/1118\n",
      "./img/4/1119\n",
      "./img/2/1120\n",
      "./img/8/1121\n",
      "./img/5/1122\n",
      "./img/7/1123\n",
      "./img/1/1124\n",
      "./img/4/1125\n",
      "./img/9/1126\n",
      "./img/9/1127\n",
      "./img/7/1128\n",
      "./img/7/1129\n",
      "./img/3/1130\n",
      "./img/1/1131\n",
      "./img/10/1132\n",
      "./img/6/1133\n",
      "./img/2/1134\n",
      "./img/7/1135\n",
      "./img/1/1136\n",
      "./img/4/1137\n",
      "./img/8/1138\n",
      "./img/10/1139\n",
      "./img/6/1140\n",
      "./img/8/1141\n",
      "./img/7/1142\n",
      "./img/3/1143\n",
      "./img/7/1144\n",
      "./img/8/1145\n",
      "./img/4/1146\n",
      "./img/3/1147\n",
      "./img/9/1148\n",
      "./img/6/1149\n",
      "./img/10/1150\n",
      "./img/9/1151\n",
      "./img/1/1152\n",
      "./img/1/1153\n",
      "./img/4/1154\n",
      "./img/6/1155\n",
      "./img/4/1156\n",
      "./img/9/1157\n",
      "./img/3/1158\n",
      "./img/10/1159\n",
      "./img/4/1160\n",
      "./img/9/1161\n",
      "./img/2/1162\n",
      "./img/4/1163\n",
      "./img/7/1164\n",
      "./img/10/1165\n",
      "./img/2/1166\n",
      "./img/9/1167\n",
      "./img/3/1168\n",
      "./img/9/1169\n",
      "./img/1/1170\n",
      "./img/8/1171\n",
      "./img/9/1172\n",
      "./img/4/1173\n",
      "./img/10/1174\n",
      "./img/2/1175\n",
      "./img/5/1176\n",
      "./img/7/1177\n",
      "./img/4/1178\n",
      "./img/2/1179\n",
      "./img/10/1180\n",
      "./img/7/1181\n",
      "./img/1/1182\n",
      "./img/8/1183\n",
      "./img/3/1184\n",
      "./img/10/1185\n",
      "./img/9/1186\n",
      "./img/7/1187\n",
      "./img/2/1188\n",
      "./img/9/1189\n",
      "./img/9/1190\n",
      "./img/9/1191\n",
      "./img/5/1192\n",
      "./img/4/1193\n",
      "./img/2/1194\n",
      "./img/10/1195\n",
      "./img/9/1196\n",
      "./img/2/1197\n",
      "./img/7/1198\n",
      "./img/4/1199\n",
      "./img/4/1200\n",
      "./img/4/1201\n",
      "./img/9/1202\n",
      "./img/8/1203\n",
      "./img/7/1204\n",
      "./img/6/1205\n",
      "./img/9/1206\n",
      "./img/5/1207\n",
      "./img/10/1208\n",
      "./img/7/1209\n",
      "./img/3/1210\n",
      "./img/8/1211\n",
      "./img/5/1212\n",
      "./img/1/1213\n",
      "./img/9/1214\n",
      "./img/1/1215\n",
      "./img/6/1216\n",
      "./img/7/1217\n",
      "./img/6/1218\n",
      "./img/2/1219\n",
      "./img/6/1220\n",
      "./img/1/1221\n",
      "./img/1/1222\n",
      "./img/5/1223\n",
      "./img/8/1224\n",
      "./img/10/1225\n",
      "./img/5/1226\n",
      "./img/2/1227\n",
      "./img/3/1228\n",
      "./img/7/1229\n",
      "./img/5/1230\n",
      "./img/3/1231\n",
      "./img/2/1232\n",
      "./img/4/1233\n",
      "./img/10/1234\n",
      "./img/6/1235\n",
      "./img/2/1236\n",
      "./img/1/1237\n",
      "./img/4/1238\n",
      "./img/8/1239\n",
      "./img/8/1240\n",
      "./img/7/1241\n",
      "./img/2/1242\n",
      "./img/10/1243\n",
      "./img/4/1244\n",
      "./img/4/1245\n",
      "./img/2/1246\n",
      "./img/7/1247\n",
      "./img/7/1248\n",
      "./img/5/1249\n",
      "./img/6/1250\n",
      "./img/8/1251\n",
      "./img/8/1252\n",
      "./img/9/1253\n",
      "./img/10/1254\n",
      "./img/6/1255\n",
      "./img/10/1256\n",
      "./img/4/1257\n",
      "./img/6/1258\n",
      "./img/8/1259\n",
      "./img/10/1260\n",
      "./img/9/1261\n",
      "./img/9/1262\n",
      "./img/1/1263\n",
      "./img/3/1264\n",
      "./img/5/1265\n",
      "./img/4/1266\n",
      "./img/1/1267\n",
      "./img/9/1268\n",
      "./img/4/1269\n",
      "./img/6/1270\n",
      "./img/6/1271\n",
      "./img/6/1272\n",
      "./img/2/1273\n",
      "./img/7/1274\n",
      "./img/8/1275\n",
      "./img/7/1276\n",
      "./img/4/1277\n",
      "./img/1/1278\n",
      "./img/8/1279\n",
      "./img/9/1280\n",
      "./img/1/1281\n",
      "./img/7/1282\n",
      "./img/9/1283\n",
      "./img/7/1284\n",
      "./img/3/1285\n",
      "./img/5/1286\n",
      "./img/4/1287\n",
      "./img/5/1288\n",
      "./img/2/1289\n",
      "./img/8/1290\n",
      "./img/4/1291\n",
      "./img/7/1292\n",
      "./img/9/1293\n",
      "./img/5/1294\n",
      "./img/8/1295\n",
      "./img/5/1296\n",
      "./img/1/1297\n",
      "./img/10/1298\n",
      "./img/3/1299\n",
      "./img/2/1300\n",
      "./img/7/1301\n",
      "./img/5/1302\n",
      "./img/10/1303\n",
      "./img/3/1304\n",
      "./img/2/1305\n",
      "./img/9/1306\n",
      "./img/1/1307\n",
      "./img/2/1308\n",
      "./img/7/1309\n",
      "./img/5/1310\n",
      "./img/8/1311\n",
      "./img/7/1312\n",
      "./img/7/1313\n",
      "./img/6/1314\n",
      "./img/3/1315\n",
      "./img/2/1316\n",
      "./img/9/1317\n",
      "./img/10/1318\n",
      "./img/3/1319\n",
      "./img/3/1320\n",
      "./img/9/1321\n",
      "./img/10/1322\n",
      "./img/6/1323\n",
      "./img/7/1324\n",
      "./img/10/1325\n",
      "./img/3/1326\n",
      "./img/9/1327\n",
      "./img/4/1328\n",
      "./img/4/1329\n",
      "./img/5/1330\n",
      "./img/5/1331\n",
      "./img/1/1332\n",
      "./img/9/1333\n",
      "./img/7/1334\n",
      "./img/9/1335\n",
      "./img/9/1336\n",
      "./img/8/1337\n",
      "./img/4/1338\n",
      "./img/4/1339\n",
      "./img/9/1340\n",
      "./img/3/1341\n",
      "./img/5/1342\n",
      "./img/2/1343\n",
      "./img/9/1344\n",
      "./img/5/1345\n",
      "./img/9/1346\n",
      "./img/7/1347\n",
      "./img/3/1348\n",
      "./img/8/1349\n",
      "./img/2/1350\n",
      "./img/9/1351\n",
      "./img/6/1352\n",
      "./img/2/1353\n",
      "./img/2/1354\n",
      "./img/4/1355\n",
      "./img/8/1356\n",
      "./img/4/1357\n",
      "./img/2/1358\n",
      "./img/2/1359\n",
      "./img/6/1360\n",
      "./img/9/1361\n",
      "./img/7/1362\n",
      "./img/9/1363\n",
      "./img/4/1364\n",
      "./img/8/1365\n",
      "./img/5/1366\n",
      "./img/7/1367\n",
      "./img/9/1368\n",
      "./img/4/1369\n",
      "./img/6/1370\n",
      "./img/3/1371\n",
      "./img/5/1372\n",
      "./img/10/1373\n",
      "./img/4/1374\n",
      "./img/6/1375\n",
      "./img/7/1376\n",
      "./img/7/1377\n",
      "./img/9/1378\n",
      "./img/10/1379\n",
      "./img/6/1380\n",
      "./img/5/1381\n",
      "./img/1/1382\n",
      "./img/10/1383\n",
      "./img/5/1384\n",
      "./img/1/1385\n",
      "./img/6/1386\n",
      "./img/5/1387\n",
      "./img/8/1388\n",
      "./img/6/1389\n",
      "./img/5/1390\n",
      "./img/2/1391\n",
      "./img/6/1392\n",
      "./img/8/1393\n",
      "./img/8/1394\n",
      "./img/5/1395\n",
      "./img/6/1396\n",
      "./img/8/1397\n",
      "./img/7/1398\n",
      "./img/3/1399\n",
      "./img/3/1400\n",
      "./img/6/1401\n",
      "./img/7/1402\n",
      "./img/1/1403\n",
      "./img/10/1404\n",
      "./img/5/1405\n",
      "./img/6/1406\n",
      "./img/1/1407\n",
      "./img/6/1408\n",
      "./img/7/1409\n",
      "./img/6/1410\n",
      "./img/1/1411\n",
      "./img/1/1412\n",
      "./img/8/1413\n",
      "./img/5/1414\n",
      "./img/6/1415\n",
      "./img/9/1416\n",
      "./img/7/1417\n",
      "./img/7/1418\n",
      "./img/3/1419\n",
      "./img/2/1420\n",
      "./img/6/1421\n",
      "./img/5/1422\n",
      "./img/9/1423\n",
      "./img/8/1424\n",
      "./img/7/1425\n",
      "./img/6/1426\n",
      "./img/2/1427\n",
      "./img/10/1428\n",
      "./img/8/1429\n",
      "./img/10/1430\n",
      "./img/9/1431\n",
      "./img/6/1432\n",
      "./img/7/1433\n",
      "./img/7/1434\n",
      "./img/8/1435\n",
      "./img/3/1436\n",
      "./img/3/1437\n",
      "./img/8/1438\n",
      "./img/7/1439\n",
      "./img/8/1440\n",
      "./img/10/1441\n",
      "./img/7/1442\n",
      "./img/10/1443\n",
      "./img/1/1444\n",
      "./img/2/1445\n",
      "./img/4/1446\n",
      "./img/6/1447\n",
      "./img/10/1448\n",
      "./img/1/1449\n",
      "./img/5/1450\n",
      "./img/1/1451\n",
      "./img/1/1452\n",
      "./img/9/1453\n",
      "./img/3/1454\n",
      "./img/6/1455\n",
      "./img/1/1456\n",
      "./img/3/1457\n",
      "./img/9/1458\n",
      "./img/2/1459\n",
      "./img/6/1460\n",
      "./img/4/1461\n",
      "./img/4/1462\n",
      "./img/8/1463\n",
      "./img/4/1464\n",
      "./img/2/1465\n",
      "./img/9/1466\n",
      "./img/8/1467\n",
      "./img/5/1468\n",
      "./img/9/1469\n",
      "./img/5/1470\n",
      "./img/10/1471\n",
      "./img/6/1472\n",
      "./img/5/1473\n",
      "./img/2/1474\n",
      "./img/1/1475\n",
      "./img/10/1476\n",
      "./img/1/1477\n",
      "./img/5/1478\n",
      "./img/5/1479\n",
      "./img/10/1480\n",
      "./img/9/1481\n",
      "./img/6/1482\n",
      "./img/9/1483\n",
      "./img/1/1484\n",
      "./img/2/1485\n",
      "./img/8/1486\n",
      "./img/5/1487\n",
      "./img/8/1488\n",
      "./img/8/1489\n",
      "./img/1/1490\n",
      "./img/8/1491\n",
      "./img/10/1492\n",
      "./img/8/1493\n",
      "./img/8/1494\n",
      "./img/7/1495\n",
      "./img/9/1496\n",
      "./img/6/1497\n",
      "./img/7/1498\n",
      "./img/3/1499\n",
      "./img/2/1500\n",
      "./img/6/1501\n",
      "./img/4/1502\n",
      "./img/8/1503\n",
      "./img/10/1504\n",
      "./img/8/1505\n",
      "./img/6/1506\n",
      "./img/10/1507\n",
      "./img/9/1508\n",
      "./img/7/1509\n",
      "./img/4/1510\n",
      "./img/5/1511\n",
      "./img/10/1512\n",
      "./img/10/1513\n",
      "./img/7/1514\n",
      "./img/9/1515\n",
      "./img/3/1516\n",
      "./img/4/1517\n",
      "./img/7/1518\n",
      "./img/3/1519\n",
      "./img/2/1520\n",
      "./img/7/1521\n",
      "./img/9/1522\n",
      "./img/1/1523\n",
      "./img/8/1524\n",
      "./img/6/1525\n",
      "./img/8/1526\n",
      "./img/6/1527\n",
      "./img/2/1528\n",
      "./img/8/1529\n",
      "./img/2/1530\n",
      "./img/10/1531\n",
      "./img/5/1532\n",
      "./img/8/1533\n",
      "./img/3/1534\n",
      "./img/6/1535\n",
      "./img/8/1536\n",
      "./img/7/1537\n",
      "./img/5/1538\n",
      "./img/10/1539\n",
      "./img/7/1540\n",
      "./img/9/1541\n",
      "./img/2/1542\n",
      "./img/8/1543\n",
      "./img/8/1544\n",
      "./img/2/1545\n",
      "./img/9/1546\n",
      "./img/6/1547\n",
      "./img/6/1548\n",
      "./img/5/1549\n",
      "./img/9/1550\n",
      "./img/3/1551\n",
      "./img/4/1552\n",
      "./img/1/1553\n",
      "./img/5/1554\n",
      "./img/10/1555\n",
      "./img/7/1556\n",
      "./img/5/1557\n",
      "./img/8/1558\n",
      "./img/10/1559\n",
      "./img/10/1560\n",
      "./img/2/1561\n",
      "./img/10/1562\n",
      "./img/7/1563\n",
      "./img/1/1564\n",
      "./img/6/1565\n",
      "./img/7/1566\n",
      "./img/6/1567\n",
      "./img/6/1568\n",
      "./img/8/1569\n",
      "./img/5/1570\n",
      "./img/2/1571\n",
      "./img/6/1572\n",
      "./img/4/1573\n",
      "./img/6/1574\n",
      "./img/5/1575\n",
      "./img/1/1576\n",
      "./img/2/1577\n",
      "./img/9/1578\n",
      "./img/4/1579\n",
      "./img/6/1580\n",
      "./img/1/1581\n",
      "./img/10/1582\n",
      "./img/1/1583\n",
      "./img/9/1584\n",
      "./img/1/1585\n",
      "./img/7/1586\n",
      "./img/8/1587\n",
      "./img/1/1588\n",
      "./img/8/1589\n",
      "./img/3/1590\n",
      "./img/6/1591\n",
      "./img/9/1592\n",
      "./img/3/1593\n",
      "./img/5/1594\n",
      "./img/8/1595\n",
      "./img/10/1596\n",
      "./img/8/1597\n",
      "./img/6/1598\n",
      "./img/3/1599\n",
      "./img/9/1600\n",
      "./img/9/1601\n",
      "./img/9/1602\n",
      "./img/9/1603\n",
      "./img/10/1604\n",
      "./img/8/1605\n",
      "./img/5/1606\n",
      "./img/3/1607\n",
      "./img/1/1608\n",
      "./img/1/1609\n",
      "./img/10/1610\n",
      "./img/3/1611\n",
      "./img/10/1612\n",
      "./img/1/1613\n",
      "./img/7/1614\n",
      "./img/3/1615\n",
      "./img/2/1616\n",
      "./img/4/1617\n",
      "./img/3/1618\n",
      "./img/4/1619\n",
      "./img/1/1620\n",
      "./img/8/1621\n",
      "./img/9/1622\n",
      "./img/1/1623\n",
      "./img/4/1624\n",
      "./img/2/1625\n",
      "./img/7/1626\n",
      "./img/1/1627\n",
      "./img/7/1628\n",
      "./img/5/1629\n",
      "./img/6/1630\n",
      "./img/8/1631\n",
      "./img/3/1632\n",
      "./img/4/1633\n",
      "./img/10/1634\n",
      "./img/6/1635\n",
      "./img/4/1636\n",
      "./img/4/1637\n",
      "./img/1/1638\n",
      "./img/3/1639\n",
      "./img/10/1640\n",
      "./img/1/1641\n",
      "./img/3/1642\n",
      "./img/8/1643\n",
      "./img/9/1644\n",
      "./img/5/1645\n",
      "./img/9/1646\n",
      "./img/7/1647\n",
      "./img/7/1648\n",
      "./img/10/1649\n",
      "./img/4/1650\n",
      "./img/7/1651\n",
      "./img/6/1652\n",
      "./img/1/1653\n",
      "./img/4/1654\n",
      "./img/6/1655\n",
      "./img/2/1656\n",
      "./img/10/1657\n",
      "./img/9/1658\n",
      "./img/6/1659\n",
      "./img/4/1660\n",
      "./img/1/1661\n",
      "./img/8/1662\n",
      "./img/7/1663\n",
      "./img/4/1664\n",
      "./img/10/1665\n",
      "./img/6/1666\n",
      "./img/6/1667\n",
      "./img/4/1668\n",
      "./img/4/1669\n",
      "./img/7/1670\n",
      "./img/1/1671\n",
      "./img/2/1672\n",
      "./img/10/1673\n",
      "./img/6/1674\n",
      "./img/4/1675\n",
      "./img/10/1676\n",
      "./img/6/1677\n",
      "./img/6/1678\n",
      "./img/1/1679\n",
      "./img/2/1680\n",
      "./img/10/1681\n",
      "./img/5/1682\n",
      "./img/3/1683\n",
      "./img/2/1684\n",
      "./img/4/1685\n",
      "./img/5/1686\n",
      "./img/6/1687\n",
      "./img/5/1688\n",
      "./img/6/1689\n",
      "./img/6/1690\n",
      "./img/8/1691\n",
      "./img/7/1692\n",
      "./img/5/1693\n",
      "./img/9/1694\n",
      "./img/4/1695\n",
      "./img/5/1696\n",
      "./img/5/1697\n",
      "./img/5/1698\n",
      "./img/2/1699\n",
      "./img/5/1700\n",
      "./img/7/1701\n",
      "./img/6/1702\n",
      "./img/6/1703\n",
      "./img/10/1704\n",
      "./img/9/1705\n",
      "./img/3/1706\n",
      "./img/4/1707\n",
      "./img/5/1708\n",
      "./img/4/1709\n",
      "./img/7/1710\n",
      "./img/7/1711\n",
      "./img/8/1712\n",
      "./img/1/1713\n",
      "./img/8/1714\n",
      "./img/6/1715\n",
      "./img/2/1716\n",
      "./img/8/1717\n",
      "./img/2/1718\n",
      "./img/8/1719\n",
      "./img/9/1720\n",
      "./img/9/1721\n",
      "./img/3/1722\n",
      "./img/9/1723\n",
      "./img/4/1724\n",
      "./img/4/1725\n",
      "./img/8/1726\n",
      "./img/5/1727\n",
      "./img/6/1728\n",
      "./img/3/1729\n",
      "./img/7/1730\n",
      "./img/1/1731\n",
      "./img/4/1732\n",
      "./img/8/1733\n",
      "./img/3/1734\n",
      "./img/7/1735\n",
      "./img/1/1736\n",
      "./img/7/1737\n",
      "./img/2/1738\n",
      "./img/10/1739\n",
      "./img/10/1740\n",
      "./img/4/1741\n",
      "./img/3/1742\n",
      "./img/7/1743\n",
      "./img/4/1744\n",
      "./img/2/1745\n",
      "./img/6/1746\n",
      "./img/5/1747\n",
      "./img/3/1748\n",
      "./img/5/1749\n",
      "./img/5/1750\n",
      "./img/10/1751\n",
      "./img/5/1752\n",
      "./img/8/1753\n",
      "./img/1/1754\n",
      "./img/5/1755\n",
      "./img/5/1756\n",
      "./img/4/1757\n",
      "./img/2/1758\n",
      "./img/3/1759\n",
      "./img/8/1760\n",
      "./img/6/1761\n",
      "./img/5/1762\n",
      "./img/8/1763\n",
      "./img/6/1764\n",
      "./img/8/1765\n",
      "./img/1/1766\n",
      "./img/1/1767\n",
      "./img/9/1768\n",
      "./img/7/1769\n",
      "./img/10/1770\n",
      "./img/2/1771\n",
      "./img/10/1772\n",
      "./img/7/1773\n",
      "./img/4/1774\n",
      "./img/4/1775\n",
      "./img/10/1776\n",
      "./img/2/1777\n",
      "./img/7/1778\n",
      "./img/1/1779\n",
      "./img/9/1780\n",
      "./img/6/1781\n",
      "./img/9/1782\n",
      "./img/8/1783\n",
      "./img/7/1784\n",
      "./img/1/1785\n",
      "./img/3/1786\n",
      "./img/5/1787\n",
      "./img/2/1788\n",
      "./img/2/1789\n",
      "./img/10/1790\n",
      "./img/9/1791\n",
      "./img/6/1792\n",
      "./img/7/1793\n",
      "./img/3/1794\n",
      "./img/9/1795\n",
      "./img/5/1796\n",
      "./img/8/1797\n",
      "./img/4/1798\n",
      "./img/5/1799\n",
      "./img/4/1800\n",
      "./img/2/1801\n",
      "./img/9/1802\n",
      "./img/7/1803\n",
      "./img/8/1804\n",
      "./img/1/1805\n",
      "./img/7/1806\n",
      "./img/6/1807\n",
      "./img/10/1808\n",
      "./img/1/1809\n",
      "./img/7/1810\n",
      "./img/8/1811\n",
      "./img/7/1812\n",
      "./img/8/1813\n",
      "./img/8/1814\n",
      "./img/8/1815\n",
      "./img/5/1816\n",
      "./img/4/1817\n",
      "./img/10/1818\n",
      "./img/2/1819\n",
      "./img/1/1820\n",
      "./img/10/1821\n",
      "./img/6/1822\n",
      "./img/5/1823\n",
      "./img/1/1824\n",
      "./img/6/1825\n",
      "./img/5/1826\n",
      "./img/3/1827\n",
      "./img/2/1828\n",
      "./img/8/1829\n",
      "./img/2/1830\n",
      "./img/10/1831\n",
      "./img/6/1832\n",
      "./img/3/1833\n",
      "./img/8/1834\n",
      "./img/6/1835\n",
      "./img/2/1836\n",
      "./img/2/1837\n",
      "./img/8/1838\n",
      "./img/5/1839\n",
      "./img/5/1840\n",
      "./img/1/1841\n",
      "./img/5/1842\n",
      "./img/3/1843\n",
      "./img/5/1844\n",
      "./img/1/1845\n",
      "./img/9/1846\n",
      "./img/10/1847\n",
      "./img/7/1848\n",
      "./img/3/1849\n",
      "./img/6/1850\n",
      "./img/9/1851\n",
      "./img/9/1852\n",
      "./img/2/1853\n",
      "./img/10/1854\n",
      "./img/3/1855\n",
      "./img/9/1856\n",
      "./img/8/1857\n",
      "./img/5/1858\n",
      "./img/2/1859\n",
      "./img/8/1860\n",
      "./img/6/1861\n",
      "./img/9/1862\n",
      "./img/6/1863\n",
      "./img/4/1864\n",
      "./img/7/1865\n",
      "./img/6/1866\n",
      "./img/5/1867\n",
      "./img/10/1868\n",
      "./img/1/1869\n",
      "./img/4/1870\n",
      "./img/5/1871\n",
      "./img/7/1872\n",
      "./img/10/1873\n",
      "./img/6/1874\n",
      "./img/1/1875\n",
      "./img/4/1876\n",
      "./img/10/1877\n",
      "./img/2/1878\n",
      "./img/9/1879\n",
      "./img/1/1880\n",
      "./img/2/1881\n",
      "./img/4/1882\n",
      "./img/6/1883\n",
      "./img/1/1884\n",
      "./img/3/1885\n",
      "./img/2/1886\n",
      "./img/8/1887\n",
      "./img/9/1888\n",
      "./img/6/1889\n",
      "./img/4/1890\n",
      "./img/1/1891\n",
      "./img/8/1892\n",
      "./img/3/1893\n",
      "./img/1/1894\n",
      "./img/2/1895\n",
      "./img/4/1896\n",
      "./img/9/1897\n",
      "./img/7/1898\n",
      "./img/10/1899\n",
      "./img/8/1900\n",
      "./img/7/1901\n",
      "./img/7/1902\n",
      "./img/8/1903\n",
      "./img/5/1904\n",
      "./img/10/1905\n",
      "./img/4/1906\n",
      "./img/6/1907\n",
      "./img/3/1908\n",
      "./img/8/1909\n",
      "./img/3/1910\n",
      "./img/8/1911\n",
      "./img/1/1912\n",
      "./img/10/1913\n",
      "./img/8/1914\n",
      "./img/10/1915\n",
      "./img/3/1916\n",
      "./img/4/1917\n",
      "./img/9/1918\n",
      "./img/4/1919\n",
      "./img/1/1920\n",
      "./img/6/1921\n",
      "./img/1/1922\n",
      "./img/4/1923\n",
      "./img/4/1924\n",
      "./img/4/1925\n",
      "./img/1/1926\n",
      "./img/4/1927\n",
      "./img/6/1928\n",
      "./img/9/1929\n",
      "./img/5/1930\n",
      "./img/8/1931\n",
      "./img/3/1932\n",
      "./img/7/1933\n",
      "./img/4/1934\n",
      "./img/7/1935\n",
      "./img/10/1936\n",
      "./img/2/1937\n",
      "./img/10/1938\n",
      "./img/1/1939\n",
      "./img/2/1940\n",
      "./img/4/1941\n",
      "./img/8/1942\n",
      "./img/3/1943\n",
      "./img/6/1944\n",
      "./img/8/1945\n",
      "./img/3/1946\n",
      "./img/10/1947\n",
      "./img/6/1948\n",
      "./img/5/1949\n",
      "./img/2/1950\n",
      "./img/4/1951\n",
      "./img/5/1952\n",
      "./img/10/1953\n",
      "./img/4/1954\n",
      "./img/4/1955\n",
      "./img/7/1956\n",
      "./img/4/1957\n",
      "./img/5/1958\n",
      "./img/5/1959\n",
      "./img/4/1960\n",
      "./img/5/1961\n",
      "./img/10/1962\n",
      "./img/1/1963\n",
      "./img/7/1964\n",
      "./img/5/1965\n",
      "./img/7/1966\n",
      "./img/9/1967\n",
      "./img/8/1968\n",
      "./img/9/1969\n",
      "./img/9/1970\n",
      "./img/4/1971\n",
      "./img/7/1972\n",
      "./img/8/1973\n",
      "./img/4/1974\n",
      "./img/4/1975\n",
      "./img/4/1976\n",
      "./img/4/1977\n",
      "./img/1/1978\n",
      "./img/7/1979\n",
      "./img/8/1980\n",
      "./img/9/1981\n",
      "./img/8/1982\n",
      "./img/5/1983\n",
      "./img/2/1984\n",
      "./img/4/1985\n",
      "./img/4/1986\n",
      "./img/10/1987\n",
      "./img/4/1988\n",
      "./img/10/1989\n",
      "./img/6/1990\n",
      "./img/5/1991\n",
      "./img/3/1992\n",
      "./img/7/1993\n",
      "./img/1/1994\n",
      "./img/1/1995\n",
      "./img/5/1996\n",
      "./img/5/1997\n",
      "./img/1/1998\n",
      "./img/2/1999\n",
      "./img/1/2000\n",
      "./img/3/2001\n",
      "./img/10/2002\n",
      "./img/7/2003\n",
      "./img/9/2004\n",
      "./img/9/2005\n",
      "./img/6/2006\n",
      "./img/2/2007\n",
      "./img/10/2008\n",
      "./img/4/2009\n",
      "./img/4/2010\n",
      "./img/10/2011\n",
      "./img/6/2012\n",
      "./img/2/2013\n",
      "./img/8/2014\n",
      "./img/1/2015\n",
      "./img/4/2016\n",
      "./img/2/2017\n",
      "./img/4/2018\n",
      "./img/8/2019\n",
      "./img/2/2020\n",
      "./img/9/2021\n",
      "./img/6/2022\n",
      "./img/10/2023\n",
      "./img/6/2024\n",
      "./img/3/2025\n",
      "./img/1/2026\n",
      "./img/4/2027\n",
      "./img/2/2028\n",
      "./img/3/2029\n",
      "./img/8/2030\n",
      "./img/2/2031\n",
      "./img/8/2032\n",
      "./img/1/2033\n",
      "./img/7/2034\n",
      "./img/3/2035\n",
      "./img/9/2036\n",
      "./img/5/2037\n",
      "./img/1/2038\n",
      "./img/5/2039\n",
      "./img/1/2040\n",
      "./img/3/2041\n",
      "./img/4/2042\n",
      "./img/3/2043\n",
      "./img/9/2044\n",
      "./img/8/2045\n",
      "./img/5/2046\n",
      "./img/1/2047\n",
      "./img/3/2048\n",
      "./img/3/2049\n",
      "./img/2/2050\n",
      "./img/3/2051\n",
      "./img/3/2052\n",
      "./img/4/2053\n",
      "./img/1/2054\n",
      "./img/4/2055\n",
      "./img/1/2056\n",
      "./img/7/2057\n",
      "./img/6/2058\n",
      "./img/10/2059\n",
      "./img/5/2060\n",
      "./img/10/2061\n",
      "./img/6/2062\n",
      "./img/8/2063\n",
      "./img/5/2064\n",
      "./img/6/2065\n",
      "./img/2/2066\n",
      "./img/6/2067\n",
      "./img/3/2068\n",
      "./img/9/2069\n",
      "./img/10/2070\n",
      "./img/1/2071\n",
      "./img/5/2072\n",
      "./img/4/2073\n",
      "./img/3/2074\n",
      "./img/5/2075\n",
      "./img/1/2076\n",
      "./img/3/2077\n",
      "./img/9/2078\n",
      "./img/1/2079\n",
      "./img/10/2080\n",
      "./img/9/2081\n",
      "./img/8/2082\n",
      "./img/7/2083\n",
      "./img/10/2084\n",
      "./img/3/2085\n",
      "./img/10/2086\n",
      "./img/3/2087\n",
      "./img/7/2088\n",
      "./img/8/2089\n",
      "./img/9/2090\n",
      "./img/8/2091\n",
      "./img/7/2092\n",
      "./img/10/2093\n",
      "./img/1/2094\n",
      "./img/4/2095\n",
      "./img/5/2096\n",
      "./img/10/2097\n",
      "./img/5/2098\n",
      "./img/10/2099\n",
      "./img/1/2100\n",
      "./img/1/2101\n",
      "./img/4/2102\n",
      "./img/4/2103\n",
      "./img/7/2104\n",
      "./img/6/2105\n",
      "./img/3/2106\n",
      "./img/10/2107\n",
      "./img/5/2108\n",
      "./img/6/2109\n",
      "./img/3/2110\n",
      "./img/6/2111\n",
      "./img/6/2112\n",
      "./img/1/2113\n",
      "./img/5/2114\n",
      "./img/5/2115\n",
      "./img/5/2116\n",
      "./img/7/2117\n",
      "./img/3/2118\n",
      "./img/1/2119\n",
      "./img/9/2120\n",
      "./img/8/2121\n",
      "./img/7/2122\n",
      "./img/7/2123\n",
      "./img/3/2124\n",
      "./img/5/2125\n",
      "./img/2/2126\n",
      "./img/6/2127\n",
      "./img/7/2128\n",
      "./img/3/2129\n",
      "./img/7/2130\n",
      "./img/5/2131\n",
      "./img/1/2132\n",
      "./img/3/2133\n",
      "./img/10/2134\n",
      "./img/1/2135\n",
      "./img/8/2136\n",
      "./img/5/2137\n",
      "./img/4/2138\n",
      "./img/7/2139\n",
      "./img/1/2140\n",
      "./img/4/2141\n",
      "./img/8/2142\n",
      "./img/8/2143\n",
      "./img/8/2144\n",
      "./img/10/2145\n",
      "./img/8/2146\n",
      "./img/9/2147\n",
      "./img/2/2148\n",
      "./img/3/2149\n",
      "./img/4/2150\n",
      "./img/9/2151\n",
      "./img/5/2152\n",
      "./img/4/2153\n",
      "./img/6/2154\n",
      "./img/1/2155\n",
      "./img/10/2156\n",
      "./img/3/2157\n",
      "./img/3/2158\n",
      "./img/9/2159\n",
      "./img/5/2160\n",
      "./img/1/2161\n",
      "./img/7/2162\n",
      "./img/2/2163\n",
      "./img/3/2164\n",
      "./img/3/2165\n",
      "./img/1/2166\n",
      "./img/10/2167\n",
      "./img/8/2168\n",
      "./img/5/2169\n",
      "./img/10/2170\n",
      "./img/9/2171\n",
      "./img/4/2172\n",
      "./img/2/2173\n",
      "./img/4/2174\n",
      "./img/9/2175\n",
      "./img/7/2176\n",
      "./img/7/2177\n",
      "./img/5/2178\n",
      "./img/5/2179\n",
      "./img/5/2180\n",
      "./img/7/2181\n",
      "./img/4/2182\n",
      "./img/6/2183\n",
      "./img/2/2184\n",
      "./img/5/2185\n",
      "./img/4/2186\n",
      "./img/7/2187\n",
      "./img/5/2188\n",
      "./img/2/2189\n",
      "./img/8/2190\n",
      "./img/1/2191\n",
      "./img/3/2192\n",
      "./img/5/2193\n",
      "./img/5/2194\n",
      "./img/5/2195\n",
      "./img/1/2196\n",
      "./img/10/2197\n",
      "./img/7/2198\n",
      "./img/1/2199\n",
      "./img/1/2200\n",
      "./img/9/2201\n",
      "./img/3/2202\n",
      "./img/9/2203\n",
      "./img/5/2204\n",
      "./img/4/2205\n",
      "./img/10/2206\n",
      "./img/6/2207\n",
      "./img/3/2208\n",
      "./img/10/2209\n",
      "./img/8/2210\n",
      "./img/10/2211\n",
      "./img/5/2212\n",
      "./img/4/2213\n",
      "./img/5/2214\n",
      "./img/1/2215\n",
      "./img/3/2216\n",
      "./img/5/2217\n",
      "./img/4/2218\n",
      "./img/7/2219\n",
      "./img/3/2220\n",
      "./img/6/2221\n",
      "./img/8/2222\n",
      "./img/5/2223\n",
      "./img/2/2224\n",
      "./img/10/2225\n",
      "./img/9/2226\n",
      "./img/10/2227\n",
      "./img/6/2228\n",
      "./img/4/2229\n",
      "./img/6/2230\n",
      "./img/10/2231\n",
      "./img/3/2232\n",
      "./img/10/2233\n",
      "./img/2/2234\n",
      "./img/6/2235\n",
      "./img/6/2236\n",
      "./img/1/2237\n",
      "./img/3/2238\n",
      "./img/2/2239\n",
      "./img/5/2240\n",
      "./img/7/2241\n",
      "./img/5/2242\n",
      "./img/5/2243\n",
      "./img/10/2244\n",
      "./img/1/2245\n",
      "./img/1/2246\n",
      "./img/10/2247\n",
      "./img/10/2248\n",
      "./img/10/2249\n",
      "./img/4/2250\n",
      "./img/7/2251\n",
      "./img/1/2252\n",
      "./img/10/2253\n",
      "./img/2/2254\n",
      "./img/8/2255\n",
      "./img/9/2256\n",
      "./img/9/2257\n",
      "./img/7/2258\n",
      "./img/10/2259\n",
      "./img/3/2260\n",
      "./img/4/2261\n",
      "./img/8/2262\n",
      "./img/9/2263\n",
      "./img/9/2264\n",
      "./img/2/2265\n",
      "./img/5/2266\n",
      "./img/4/2267\n",
      "./img/5/2268\n",
      "./img/5/2269\n",
      "./img/10/2270\n",
      "./img/3/2271\n",
      "./img/9/2272\n",
      "./img/4/2273\n",
      "./img/6/2274\n",
      "./img/8/2275\n",
      "./img/1/2276\n",
      "./img/7/2277\n",
      "./img/6/2278\n",
      "./img/3/2279\n",
      "./img/3/2280\n",
      "./img/1/2281\n",
      "./img/9/2282\n",
      "./img/7/2283\n",
      "./img/2/2284\n",
      "./img/5/2285\n",
      "./img/7/2286\n",
      "./img/9/2287\n",
      "./img/3/2288\n",
      "./img/8/2289\n",
      "./img/7/2290\n",
      "./img/4/2291\n",
      "./img/3/2292\n",
      "./img/5/2293\n",
      "./img/7/2294\n",
      "./img/5/2295\n",
      "./img/1/2296\n",
      "./img/8/2297\n",
      "./img/9/2298\n",
      "./img/10/2299\n",
      "./img/5/2300\n",
      "./img/7/2301\n",
      "./img/1/2302\n",
      "./img/2/2303\n",
      "./img/8/2304\n",
      "./img/6/2305\n",
      "./img/9/2306\n",
      "./img/2/2307\n",
      "./img/8/2308\n",
      "./img/6/2309\n",
      "./img/4/2310\n",
      "./img/10/2311\n",
      "./img/3/2312\n",
      "./img/3/2313\n",
      "./img/5/2314\n",
      "./img/3/2315\n",
      "./img/4/2316\n",
      "./img/2/2317\n",
      "./img/8/2318\n",
      "./img/3/2319\n",
      "./img/7/2320\n",
      "./img/10/2321\n",
      "./img/4/2322\n",
      "./img/8/2323\n",
      "./img/1/2324\n",
      "./img/10/2325\n",
      "./img/6/2326\n",
      "./img/3/2327\n",
      "./img/9/2328\n",
      "./img/8/2329\n",
      "./img/4/2330\n",
      "./img/8/2331\n",
      "./img/7/2332\n",
      "./img/1/2333\n",
      "./img/7/2334\n",
      "./img/3/2335\n",
      "./img/8/2336\n",
      "./img/9/2337\n",
      "./img/5/2338\n",
      "./img/7/2339\n",
      "./img/7/2340\n",
      "./img/10/2341\n",
      "./img/4/2342\n",
      "./img/3/2343\n",
      "./img/4/2344\n",
      "./img/1/2345\n",
      "./img/2/2346\n",
      "./img/10/2347\n",
      "./img/4/2348\n",
      "./img/4/2349\n",
      "./img/8/2350\n",
      "./img/1/2351\n",
      "./img/6/2352\n",
      "./img/6/2353\n",
      "./img/1/2354\n",
      "./img/3/2355\n",
      "./img/5/2356\n",
      "./img/7/2357\n",
      "./img/8/2358\n",
      "./img/5/2359\n",
      "./img/4/2360\n",
      "./img/8/2361\n",
      "./img/5/2362\n",
      "./img/3/2363\n",
      "./img/6/2364\n",
      "./img/1/2365\n",
      "./img/9/2366\n",
      "./img/5/2367\n",
      "./img/2/2368\n",
      "./img/9/2369\n",
      "./img/4/2370\n",
      "./img/7/2371\n",
      "./img/6/2372\n",
      "./img/7/2373\n",
      "./img/2/2374\n",
      "./img/1/2375\n",
      "./img/7/2376\n",
      "./img/6/2377\n",
      "./img/9/2378\n",
      "./img/3/2379\n",
      "./img/1/2380\n",
      "./img/5/2381\n",
      "./img/7/2382\n",
      "./img/5/2383\n",
      "./img/2/2384\n",
      "./img/5/2385\n",
      "./img/8/2386\n",
      "./img/1/2387\n",
      "./img/8/2388\n",
      "./img/9/2389\n",
      "./img/10/2390\n",
      "./img/3/2391\n",
      "./img/6/2392\n",
      "./img/3/2393\n",
      "./img/10/2394\n",
      "./img/9/2395\n",
      "./img/1/2396\n",
      "./img/3/2397\n",
      "./img/10/2398\n",
      "./img/4/2399\n",
      "./img/3/2400\n",
      "./img/3/2401\n",
      "./img/2/2402\n",
      "./img/5/2403\n",
      "./img/5/2404\n",
      "./img/8/2405\n",
      "./img/4/2406\n",
      "./img/9/2407\n",
      "./img/6/2408\n",
      "./img/7/2409\n",
      "./img/8/2410\n",
      "./img/10/2411\n",
      "./img/9/2412\n",
      "./img/2/2413\n",
      "./img/1/2414\n",
      "./img/6/2415\n",
      "./img/9/2416\n",
      "./img/6/2417\n",
      "./img/3/2418\n",
      "./img/6/2419\n",
      "./img/1/2420\n",
      "./img/10/2421\n",
      "./img/1/2422\n",
      "./img/8/2423\n",
      "./img/4/2424\n",
      "./img/7/2425\n",
      "./img/8/2426\n",
      "./img/2/2427\n",
      "./img/2/2428\n",
      "./img/5/2429\n",
      "./img/10/2430\n",
      "./img/8/2431\n",
      "./img/7/2432\n",
      "./img/9/2433\n",
      "./img/1/2434\n",
      "./img/4/2435\n",
      "./img/10/2436\n",
      "./img/1/2437\n",
      "./img/8/2438\n",
      "./img/2/2439\n",
      "./img/1/2440\n",
      "./img/8/2441\n",
      "./img/1/2442\n",
      "./img/9/2443\n",
      "./img/6/2444\n",
      "./img/10/2445\n",
      "./img/9/2446\n",
      "./img/1/2447\n",
      "./img/10/2448\n",
      "./img/1/2449\n",
      "./img/1/2450\n",
      "./img/1/2451\n",
      "./img/10/2452\n",
      "./img/9/2453\n",
      "./img/4/2454\n",
      "./img/6/2455\n",
      "./img/2/2456\n",
      "./img/5/2457\n",
      "./img/6/2458\n",
      "./img/1/2459\n",
      "./img/7/2460\n",
      "./img/4/2461\n",
      "./img/4/2462\n",
      "./img/2/2463\n",
      "./img/6/2464\n",
      "./img/9/2465\n",
      "./img/8/2466\n",
      "./img/10/2467\n",
      "./img/4/2468\n",
      "./img/4/2469\n",
      "./img/7/2470\n",
      "./img/10/2471\n",
      "./img/4/2472\n",
      "./img/9/2473\n",
      "./img/10/2474\n",
      "./img/5/2475\n",
      "./img/2/2476\n",
      "./img/6/2477\n",
      "./img/6/2478\n",
      "./img/1/2479\n",
      "./img/2/2480\n",
      "./img/1/2481\n",
      "./img/9/2482\n",
      "./img/6/2483\n",
      "./img/4/2484\n",
      "./img/7/2485\n",
      "./img/8/2486\n",
      "./img/4/2487\n",
      "./img/7/2488\n",
      "./img/9/2489\n",
      "./img/9/2490\n",
      "./img/3/2491\n",
      "./img/9/2492\n",
      "./img/10/2493\n",
      "./img/4/2494\n",
      "./img/2/2495\n",
      "./img/1/2496\n",
      "./img/8/2497\n",
      "./img/10/2498\n",
      "./img/3/2499\n",
      "./img/3/2500\n",
      "./img/5/2501\n",
      "./img/6/2502\n",
      "./img/5/2503\n",
      "./img/5/2504\n",
      "./img/5/2505\n",
      "./img/10/2506\n",
      "./img/5/2507\n",
      "./img/3/2508\n",
      "./img/6/2509\n",
      "./img/9/2510\n",
      "./img/2/2511\n",
      "./img/5/2512\n",
      "./img/2/2513\n",
      "./img/4/2514\n",
      "./img/10/2515\n",
      "./img/5/2516\n",
      "./img/5/2517\n",
      "./img/6/2518\n",
      "./img/3/2519\n",
      "./img/9/2520\n",
      "./img/3/2521\n",
      "./img/6/2522\n",
      "./img/6/2523\n",
      "./img/8/2524\n",
      "./img/7/2525\n",
      "./img/2/2526\n",
      "./img/8/2527\n",
      "./img/9/2528\n",
      "./img/1/2529\n",
      "./img/2/2530\n",
      "./img/1/2531\n",
      "./img/2/2532\n",
      "./img/4/2533\n",
      "./img/6/2534\n",
      "./img/5/2535\n",
      "./img/6/2536\n",
      "./img/6/2537\n",
      "./img/7/2538\n",
      "./img/6/2539\n",
      "./img/2/2540\n",
      "./img/8/2541\n",
      "./img/1/2542\n",
      "./img/6/2543\n",
      "./img/2/2544\n",
      "./img/2/2545\n",
      "./img/3/2546\n",
      "./img/9/2547\n",
      "./img/10/2548\n",
      "./img/10/2549\n",
      "./img/9/2550\n",
      "./img/7/2551\n",
      "./img/4/2552\n",
      "./img/6/2553\n",
      "./img/7/2554\n",
      "./img/6/2555\n",
      "./img/8/2556\n",
      "./img/2/2557\n",
      "./img/9/2558\n",
      "./img/7/2559\n",
      "./img/7/2560\n",
      "./img/8/2561\n",
      "./img/1/2562\n",
      "./img/7/2563\n",
      "./img/7/2564\n",
      "./img/8/2565\n",
      "./img/9/2566\n",
      "./img/9/2567\n",
      "./img/4/2568\n",
      "./img/6/2569\n",
      "./img/7/2570\n",
      "./img/6/2571\n",
      "./img/1/2572\n",
      "./img/8/2573\n",
      "./img/10/2574\n",
      "./img/10/2575\n",
      "./img/9/2576\n",
      "./img/7/2577\n",
      "./img/1/2578\n",
      "./img/3/2579\n",
      "./img/9/2580\n",
      "./img/9/2581\n",
      "./img/3/2582\n",
      "./img/6/2583\n",
      "./img/3/2584\n",
      "./img/5/2585\n",
      "./img/5/2586\n",
      "./img/10/2587\n",
      "./img/1/2588\n",
      "./img/7/2589\n",
      "./img/1/2590\n",
      "./img/6/2591\n",
      "./img/5/2592\n",
      "./img/5/2593\n",
      "./img/5/2594\n",
      "./img/8/2595\n",
      "./img/8/2596\n",
      "./img/7/2597\n",
      "./img/2/2598\n",
      "./img/4/2599\n",
      "./img/4/2600\n",
      "./img/4/2601\n",
      "./img/10/2602\n",
      "./img/3/2603\n",
      "./img/6/2604\n",
      "./img/10/2605\n",
      "./img/8/2606\n",
      "./img/3/2607\n",
      "./img/8/2608\n",
      "./img/1/2609\n",
      "./img/1/2610\n",
      "./img/7/2611\n",
      "./img/10/2612\n",
      "./img/3/2613\n",
      "./img/9/2614\n",
      "./img/4/2615\n",
      "./img/3/2616\n",
      "./img/9/2617\n",
      "./img/10/2618\n",
      "./img/3/2619\n",
      "./img/9/2620\n",
      "./img/7/2621\n",
      "./img/5/2622\n",
      "./img/7/2623\n",
      "./img/5/2624\n",
      "./img/7/2625\n",
      "./img/5/2626\n",
      "./img/5/2627\n",
      "./img/8/2628\n",
      "./img/8/2629\n",
      "./img/10/2630\n",
      "./img/9/2631\n",
      "./img/5/2632\n",
      "./img/3/2633\n",
      "./img/5/2634\n",
      "./img/1/2635\n",
      "./img/10/2636\n",
      "./img/7/2637\n",
      "./img/6/2638\n",
      "./img/6/2639\n",
      "./img/3/2640\n",
      "./img/9/2641\n",
      "./img/9/2642\n",
      "./img/3/2643\n",
      "./img/4/2644\n",
      "./img/3/2645\n",
      "./img/5/2646\n",
      "./img/4/2647\n",
      "./img/3/2648\n",
      "./img/8/2649\n",
      "./img/2/2650\n",
      "./img/5/2651\n",
      "./img/7/2652\n",
      "./img/4/2653\n",
      "./img/10/2654\n",
      "./img/7/2655\n",
      "./img/5/2656\n",
      "./img/6/2657\n",
      "./img/5/2658\n",
      "./img/2/2659\n",
      "./img/5/2660\n",
      "./img/8/2661\n",
      "./img/7/2662\n",
      "./img/2/2663\n",
      "./img/7/2664\n",
      "./img/3/2665\n",
      "./img/6/2666\n",
      "./img/2/2667\n",
      "./img/1/2668\n",
      "./img/2/2669\n",
      "./img/6/2670\n",
      "./img/6/2671\n",
      "./img/3/2672\n",
      "./img/8/2673\n",
      "./img/6/2674\n",
      "./img/4/2675\n",
      "./img/6/2676\n",
      "./img/1/2677\n",
      "./img/1/2678\n",
      "./img/1/2679\n",
      "./img/4/2680\n",
      "./img/4/2681\n",
      "./img/1/2682\n",
      "./img/5/2683\n",
      "./img/10/2684\n",
      "./img/6/2685\n",
      "./img/9/2686\n",
      "./img/5/2687\n",
      "./img/6/2688\n",
      "./img/5/2689\n",
      "./img/5/2690\n",
      "./img/2/2691\n",
      "./img/5/2692\n",
      "./img/8/2693\n",
      "./img/10/2694\n",
      "./img/1/2695\n",
      "./img/4/2696\n",
      "./img/3/2697\n",
      "./img/4/2698\n",
      "./img/6/2699\n",
      "./img/4/2700\n",
      "./img/2/2701\n",
      "./img/4/2702\n",
      "./img/5/2703\n",
      "./img/7/2704\n",
      "./img/6/2705\n",
      "./img/6/2706\n",
      "./img/6/2707\n",
      "./img/7/2708\n",
      "./img/7/2709\n",
      "./img/1/2710\n",
      "./img/8/2711\n",
      "./img/8/2712\n",
      "./img/9/2713\n",
      "./img/4/2714\n",
      "./img/10/2715\n",
      "./img/7/2716\n",
      "./img/4/2717\n",
      "./img/8/2718\n",
      "./img/1/2719\n",
      "./img/8/2720\n",
      "./img/4/2721\n",
      "./img/10/2722\n",
      "./img/1/2723\n",
      "./img/10/2724\n",
      "./img/8/2725\n",
      "./img/4/2726\n",
      "./img/3/2727\n",
      "./img/6/2728\n",
      "./img/2/2729\n",
      "./img/7/2730\n",
      "./img/2/2731\n",
      "./img/6/2732\n",
      "./img/7/2733\n",
      "./img/5/2734\n",
      "./img/2/2735\n",
      "./img/2/2736\n",
      "./img/5/2737\n",
      "./img/10/2738\n",
      "./img/2/2739\n",
      "./img/5/2740\n",
      "./img/1/2741\n",
      "./img/9/2742\n",
      "./img/2/2743\n",
      "./img/8/2744\n",
      "./img/3/2745\n",
      "./img/9/2746\n",
      "./img/8/2747\n",
      "./img/8/2748\n",
      "./img/7/2749\n",
      "./img/6/2750\n",
      "./img/6/2751\n",
      "./img/3/2752\n",
      "./img/6/2753\n",
      "./img/7/2754\n",
      "./img/1/2755\n",
      "./img/7/2756\n",
      "./img/4/2757\n",
      "./img/5/2758\n",
      "./img/3/2759\n",
      "./img/3/2760\n",
      "./img/3/2761\n",
      "./img/2/2762\n",
      "./img/7/2763\n",
      "./img/3/2764\n",
      "./img/5/2765\n",
      "./img/4/2766\n",
      "./img/7/2767\n",
      "./img/4/2768\n",
      "./img/10/2769\n",
      "./img/5/2770\n",
      "./img/6/2771\n",
      "./img/3/2772\n",
      "./img/2/2773\n",
      "./img/6/2774\n",
      "./img/10/2775\n",
      "./img/8/2776\n",
      "./img/10/2777\n",
      "./img/10/2778\n",
      "./img/5/2779\n",
      "./img/5/2780\n",
      "./img/1/2781\n",
      "./img/5/2782\n",
      "./img/10/2783\n",
      "./img/3/2784\n",
      "./img/7/2785\n",
      "./img/8/2786\n",
      "./img/5/2787\n",
      "./img/9/2788\n",
      "./img/3/2789\n",
      "./img/5/2790\n",
      "./img/1/2791\n",
      "./img/7/2792\n",
      "./img/10/2793\n",
      "./img/1/2794\n",
      "./img/9/2795\n",
      "./img/9/2796\n",
      "./img/1/2797\n",
      "./img/5/2798\n",
      "./img/3/2799\n",
      "./img/10/2800\n",
      "./img/5/2801\n",
      "./img/3/2802\n",
      "./img/10/2803\n",
      "./img/9/2804\n",
      "./img/8/2805\n",
      "./img/3/2806\n",
      "./img/9/2807\n",
      "./img/5/2808\n",
      "./img/5/2809\n",
      "./img/2/2810\n",
      "./img/7/2811\n",
      "./img/5/2812\n",
      "./img/9/2813\n",
      "./img/5/2814\n",
      "./img/10/2815\n",
      "./img/7/2816\n",
      "./img/1/2817\n",
      "./img/2/2818\n",
      "./img/1/2819\n",
      "./img/7/2820\n",
      "./img/7/2821\n",
      "./img/7/2822\n",
      "./img/6/2823\n",
      "./img/8/2824\n",
      "./img/7/2825\n",
      "./img/2/2826\n",
      "./img/6/2827\n",
      "./img/3/2828\n",
      "./img/3/2829\n",
      "./img/8/2830\n",
      "./img/3/2831\n",
      "./img/10/2832\n",
      "./img/9/2833\n",
      "./img/6/2834\n",
      "./img/3/2835\n",
      "./img/9/2836\n",
      "./img/4/2837\n",
      "./img/6/2838\n",
      "./img/1/2839\n",
      "./img/9/2840\n",
      "./img/7/2841\n",
      "./img/10/2842\n",
      "./img/7/2843\n",
      "./img/6/2844\n",
      "./img/7/2845\n",
      "./img/2/2846\n",
      "./img/1/2847\n",
      "./img/4/2848\n",
      "./img/8/2849\n",
      "./img/7/2850\n",
      "./img/10/2851\n",
      "./img/5/2852\n",
      "./img/5/2853\n",
      "./img/5/2854\n",
      "./img/7/2855\n",
      "./img/6/2856\n",
      "./img/9/2857\n",
      "./img/2/2858\n",
      "./img/9/2859\n",
      "./img/6/2860\n",
      "./img/8/2861\n",
      "./img/4/2862\n",
      "./img/5/2863\n",
      "./img/4/2864\n",
      "./img/4/2865\n",
      "./img/6/2866\n",
      "./img/2/2867\n",
      "./img/9/2868\n",
      "./img/3/2869\n",
      "./img/5/2870\n",
      "./img/7/2871\n",
      "./img/5/2872\n",
      "./img/9/2873\n",
      "./img/7/2874\n",
      "./img/5/2875\n",
      "./img/2/2876\n",
      "./img/7/2877\n",
      "./img/8/2878\n",
      "./img/4/2879\n",
      "./img/9/2880\n",
      "./img/7/2881\n",
      "./img/5/2882\n",
      "./img/9/2883\n",
      "./img/8/2884\n",
      "./img/10/2885\n",
      "./img/4/2886\n",
      "./img/10/2887\n",
      "./img/9/2888\n",
      "./img/6/2889\n",
      "./img/9/2890\n",
      "./img/3/2891\n",
      "./img/1/2892\n",
      "./img/6/2893\n",
      "./img/5/2894\n",
      "./img/1/2895\n",
      "./img/9/2896\n",
      "./img/9/2897\n",
      "./img/2/2898\n",
      "./img/8/2899\n",
      "./img/10/2900\n",
      "./img/2/2901\n",
      "./img/5/2902\n",
      "./img/3/2903\n",
      "./img/4/2904\n",
      "./img/2/2905\n",
      "./img/6/2906\n",
      "./img/3/2907\n",
      "./img/8/2908\n",
      "./img/1/2909\n",
      "./img/1/2910\n",
      "./img/10/2911\n",
      "./img/3/2912\n",
      "./img/7/2913\n",
      "./img/8/2914\n",
      "./img/8/2915\n",
      "./img/8/2916\n",
      "./img/8/2917\n",
      "./img/1/2918\n",
      "./img/9/2919\n",
      "./img/5/2920\n",
      "./img/10/2921\n",
      "./img/6/2922\n",
      "./img/5/2923\n",
      "./img/9/2924\n",
      "./img/5/2925\n",
      "./img/3/2926\n",
      "./img/7/2927\n",
      "./img/4/2928\n",
      "./img/9/2929\n",
      "./img/1/2930\n",
      "./img/2/2931\n",
      "./img/1/2932\n",
      "./img/10/2933\n",
      "./img/1/2934\n",
      "./img/8/2935\n",
      "./img/10/2936\n",
      "./img/8/2937\n",
      "./img/5/2938\n",
      "./img/5/2939\n",
      "./img/2/2940\n",
      "./img/6/2941\n",
      "./img/10/2942\n",
      "./img/9/2943\n",
      "./img/10/2944\n",
      "./img/2/2945\n",
      "./img/2/2946\n",
      "./img/7/2947\n",
      "./img/5/2948\n",
      "./img/8/2949\n",
      "./img/6/2950\n",
      "./img/2/2951\n",
      "./img/3/2952\n",
      "./img/1/2953\n",
      "./img/9/2954\n",
      "./img/9/2955\n",
      "./img/6/2956\n",
      "./img/6/2957\n",
      "./img/2/2958\n",
      "./img/7/2959\n",
      "./img/9/2960\n",
      "./img/5/2961\n",
      "./img/2/2962\n",
      "./img/9/2963\n",
      "./img/2/2964\n",
      "./img/2/2965\n",
      "./img/9/2966\n",
      "./img/5/2967\n",
      "./img/1/2968\n",
      "./img/6/2969\n",
      "./img/3/2970\n",
      "./img/7/2971\n",
      "./img/10/2972\n",
      "./img/9/2973\n",
      "./img/7/2974\n",
      "./img/3/2975\n",
      "./img/6/2976\n",
      "./img/8/2977\n",
      "./img/1/2978\n",
      "./img/10/2979\n",
      "./img/9/2980\n",
      "./img/3/2981\n",
      "./img/3/2982\n",
      "./img/9/2983\n",
      "./img/7/2984\n",
      "./img/6/2985\n",
      "./img/6/2986\n",
      "./img/2/2987\n",
      "./img/8/2988\n",
      "./img/5/2989\n",
      "./img/6/2990\n",
      "./img/10/2991\n",
      "./img/9/2992\n",
      "./img/2/2993\n",
      "./img/4/2994\n",
      "./img/9/2995\n",
      "./img/8/2996\n",
      "./img/7/2997\n",
      "./img/4/2998\n",
      "./img/7/2999\n",
      "./img/7/3000\n",
      "./img/10/3001\n",
      "./img/3/3002\n",
      "./img/2/3003\n",
      "./img/2/3004\n",
      "./img/3/3005\n",
      "./img/9/3006\n",
      "./img/10/3007\n",
      "./img/8/3008\n",
      "./img/2/3009\n",
      "./img/10/3010\n",
      "./img/5/3011\n",
      "./img/1/3012\n",
      "./img/8/3013\n",
      "./img/2/3014\n",
      "./img/9/3015\n",
      "./img/2/3016\n",
      "./img/10/3017\n",
      "./img/5/3018\n",
      "./img/4/3019\n",
      "./img/10/3020\n",
      "./img/5/3021\n",
      "./img/1/3022\n",
      "./img/5/3023\n",
      "./img/1/3024\n",
      "./img/1/3025\n",
      "./img/2/3026\n",
      "./img/10/3027\n",
      "./img/8/3028\n",
      "./img/10/3029\n",
      "./img/5/3030\n",
      "./img/3/3031\n",
      "./img/7/3032\n",
      "./img/7/3033\n",
      "./img/4/3034\n",
      "./img/2/3035\n",
      "./img/10/3036\n",
      "./img/1/3037\n",
      "./img/1/3038\n",
      "./img/7/3039\n",
      "./img/6/3040\n",
      "./img/6/3041\n",
      "./img/5/3042\n",
      "./img/4/3043\n",
      "./img/9/3044\n",
      "./img/3/3045\n",
      "./img/8/3046\n",
      "./img/3/3047\n",
      "./img/10/3048\n",
      "./img/8/3049\n",
      "./img/1/3050\n",
      "./img/2/3051\n",
      "./img/3/3052\n",
      "./img/6/3053\n",
      "./img/5/3054\n",
      "./img/7/3055\n",
      "./img/1/3056\n",
      "./img/7/3057\n",
      "./img/1/3058\n",
      "./img/6/3059\n",
      "./img/5/3060\n",
      "./img/1/3061\n",
      "./img/4/3062\n",
      "./img/8/3063\n",
      "./img/10/3064\n",
      "./img/9/3065\n",
      "./img/6/3066\n",
      "./img/7/3067\n",
      "./img/3/3068\n",
      "./img/8/3069\n",
      "./img/9/3070\n",
      "./img/4/3071\n",
      "./img/7/3072\n",
      "./img/10/3073\n",
      "./img/3/3074\n",
      "./img/6/3075\n",
      "./img/7/3076\n",
      "./img/3/3077\n",
      "./img/9/3078\n",
      "./img/7/3079\n",
      "./img/9/3080\n",
      "./img/1/3081\n",
      "./img/7/3082\n",
      "./img/4/3083\n",
      "./img/3/3084\n",
      "./img/2/3085\n",
      "./img/7/3086\n",
      "./img/9/3087\n",
      "./img/9/3088\n",
      "./img/2/3089\n",
      "./img/5/3090\n",
      "./img/4/3091\n",
      "./img/1/3092\n",
      "./img/7/3093\n",
      "./img/7/3094\n",
      "./img/4/3095\n",
      "./img/7/3096\n",
      "./img/1/3097\n",
      "./img/9/3098\n",
      "./img/2/3099\n",
      "./img/9/3100\n",
      "./img/9/3101\n",
      "./img/9/3102\n",
      "./img/7/3103\n",
      "./img/5/3104\n",
      "./img/4/3105\n",
      "./img/3/3106\n",
      "./img/7/3107\n",
      "./img/4/3108\n",
      "./img/9/3109\n",
      "./img/1/3110\n",
      "./img/6/3111\n",
      "./img/7/3112\n",
      "./img/1/3113\n",
      "./img/9/3114\n",
      "./img/9/3115\n",
      "./img/5/3116\n",
      "./img/7/3117\n",
      "./img/3/3118\n",
      "./img/6/3119\n",
      "./img/4/3120\n",
      "./img/6/3121\n",
      "./img/6/3122\n",
      "./img/9/3123\n",
      "./img/4/3124\n",
      "./img/1/3125\n",
      "./img/5/3126\n",
      "./img/7/3127\n",
      "./img/1/3128\n",
      "./img/5/3129\n",
      "./img/8/3130\n",
      "./img/6/3131\n",
      "./img/3/3132\n",
      "./img/7/3133\n",
      "./img/2/3134\n",
      "./img/3/3135\n",
      "./img/3/3136\n",
      "./img/5/3137\n",
      "./img/6/3138\n",
      "./img/5/3139\n",
      "./img/8/3140\n",
      "./img/3/3141\n",
      "./img/6/3142\n",
      "./img/2/3143\n",
      "./img/9/3144\n",
      "./img/2/3145\n",
      "./img/4/3146\n",
      "./img/5/3147\n",
      "./img/4/3148\n",
      "./img/7/3149\n",
      "./img/1/3150\n",
      "./img/3/3151\n",
      "./img/5/3152\n",
      "./img/10/3153\n",
      "./img/4/3154\n",
      "./img/9/3155\n",
      "./img/8/3156\n",
      "./img/7/3157\n",
      "./img/6/3158\n",
      "./img/10/3159\n",
      "./img/7/3160\n",
      "./img/1/3161\n",
      "./img/3/3162\n",
      "./img/5/3163\n",
      "./img/7/3164\n",
      "./img/9/3165\n",
      "./img/7/3166\n",
      "./img/6/3167\n",
      "./img/10/3168\n",
      "./img/4/3169\n",
      "./img/9/3170\n",
      "./img/2/3171\n",
      "./img/4/3172\n",
      "./img/6/3173\n",
      "./img/3/3174\n",
      "./img/9/3175\n",
      "./img/2/3176\n",
      "./img/7/3177\n",
      "./img/4/3178\n",
      "./img/7/3179\n",
      "./img/3/3180\n",
      "./img/1/3181\n",
      "./img/4/3182\n",
      "./img/10/3183\n",
      "./img/1/3184\n",
      "./img/6/3185\n",
      "./img/3/3186\n",
      "./img/5/3187\n",
      "./img/4/3188\n",
      "./img/9/3189\n",
      "./img/9/3190\n",
      "./img/3/3191\n",
      "./img/2/3192\n",
      "./img/5/3193\n",
      "./img/2/3194\n",
      "./img/4/3195\n",
      "./img/6/3196\n",
      "./img/7/3197\n",
      "./img/3/3198\n",
      "./img/10/3199\n",
      "./img/2/3200\n",
      "./img/3/3201\n",
      "./img/8/3202\n",
      "./img/4/3203\n",
      "./img/7/3204\n",
      "./img/5/3205\n",
      "./img/9/3206\n",
      "./img/10/3207\n",
      "./img/2/3208\n",
      "./img/10/3209\n",
      "./img/7/3210\n",
      "./img/4/3211\n",
      "./img/9/3212\n",
      "./img/5/3213\n",
      "./img/10/3214\n",
      "./img/9/3215\n",
      "./img/6/3216\n",
      "./img/8/3217\n",
      "./img/9/3218\n",
      "./img/1/3219\n",
      "./img/4/3220\n",
      "./img/3/3221\n",
      "./img/4/3222\n",
      "./img/9/3223\n",
      "./img/5/3224\n",
      "./img/9/3225\n",
      "./img/3/3226\n",
      "./img/4/3227\n",
      "./img/1/3228\n",
      "./img/4/3229\n",
      "./img/5/3230\n",
      "./img/5/3231\n",
      "./img/2/3232\n",
      "./img/1/3233\n",
      "./img/1/3234\n",
      "./img/3/3235\n",
      "./img/8/3236\n",
      "./img/10/3237\n",
      "./img/7/3238\n",
      "./img/8/3239\n",
      "./img/1/3240\n",
      "./img/4/3241\n",
      "./img/3/3242\n",
      "./img/3/3243\n",
      "./img/8/3244\n",
      "./img/6/3245\n",
      "./img/4/3246\n",
      "./img/1/3247\n",
      "./img/2/3248\n",
      "./img/2/3249\n",
      "./img/8/3250\n",
      "./img/7/3251\n",
      "./img/3/3252\n",
      "./img/3/3253\n",
      "./img/6/3254\n",
      "./img/6/3255\n",
      "./img/1/3256\n",
      "./img/7/3257\n",
      "./img/2/3258\n",
      "./img/1/3259\n",
      "./img/6/3260\n",
      "./img/10/3261\n",
      "./img/6/3262\n",
      "./img/8/3263\n",
      "./img/10/3264\n",
      "./img/8/3265\n",
      "./img/9/3266\n",
      "./img/1/3267\n",
      "./img/7/3268\n",
      "./img/8/3269\n",
      "./img/2/3270\n",
      "./img/2/3271\n",
      "./img/10/3272\n",
      "./img/8/3273\n",
      "./img/3/3274\n",
      "./img/9/3275\n",
      "./img/10/3276\n",
      "./img/4/3277\n",
      "./img/8/3278\n",
      "./img/5/3279\n",
      "./img/1/3280\n",
      "./img/10/3281\n",
      "./img/2/3282\n",
      "./img/3/3283\n",
      "./img/1/3284\n",
      "./img/8/3285\n",
      "./img/9/3286\n",
      "./img/3/3287\n",
      "./img/3/3288\n",
      "./img/3/3289\n",
      "./img/10/3290\n",
      "./img/10/3291\n",
      "./img/4/3292\n",
      "./img/2/3293\n",
      "./img/4/3294\n",
      "./img/2/3295\n",
      "./img/8/3296\n",
      "./img/1/3297\n",
      "./img/3/3298\n",
      "./img/2/3299\n",
      "./img/4/3300\n",
      "./img/6/3301\n",
      "./img/8/3302\n",
      "./img/2/3303\n",
      "./img/9/3304\n",
      "./img/5/3305\n",
      "./img/10/3306\n",
      "./img/5/3307\n",
      "./img/7/3308\n",
      "./img/10/3309\n",
      "./img/8/3310\n",
      "./img/3/3311\n",
      "./img/4/3312\n",
      "./img/7/3313\n",
      "./img/1/3314\n",
      "./img/4/3315\n",
      "./img/10/3316\n",
      "./img/6/3317\n",
      "./img/10/3318\n",
      "./img/8/3319\n",
      "./img/7/3320\n",
      "./img/4/3321\n",
      "./img/7/3322\n",
      "./img/5/3323\n",
      "./img/10/3324\n",
      "./img/3/3325\n",
      "./img/2/3326\n",
      "./img/6/3327\n",
      "./img/8/3328\n",
      "./img/8/3329\n",
      "./img/2/3330\n",
      "./img/8/3331\n",
      "./img/1/3332\n",
      "./img/2/3333\n",
      "./img/4/3334\n",
      "./img/9/3335\n",
      "./img/4/3336\n",
      "./img/7/3337\n",
      "./img/5/3338\n",
      "./img/10/3339\n",
      "./img/3/3340\n",
      "./img/1/3341\n",
      "./img/8/3342\n",
      "./img/7/3343\n",
      "./img/6/3344\n",
      "./img/3/3345\n",
      "./img/5/3346\n",
      "./img/9/3347\n",
      "./img/8/3348\n",
      "./img/6/3349\n",
      "./img/6/3350\n",
      "./img/10/3351\n",
      "./img/2/3352\n",
      "./img/9/3353\n",
      "./img/5/3354\n",
      "./img/7/3355\n",
      "./img/1/3356\n",
      "./img/7/3357\n",
      "./img/2/3358\n",
      "./img/2/3359\n",
      "./img/10/3360\n",
      "./img/9/3361\n",
      "./img/7/3362\n",
      "./img/2/3363\n",
      "./img/7/3364\n",
      "./img/1/3365\n",
      "./img/8/3366\n",
      "./img/7/3367\n",
      "./img/3/3368\n",
      "./img/7/3369\n",
      "./img/6/3370\n",
      "./img/3/3371\n",
      "./img/3/3372\n",
      "./img/1/3373\n",
      "./img/5/3374\n",
      "./img/2/3375\n",
      "./img/5/3376\n",
      "./img/3/3377\n",
      "./img/1/3378\n",
      "./img/10/3379\n",
      "./img/5/3380\n",
      "./img/3/3381\n",
      "./img/8/3382\n",
      "./img/3/3383\n",
      "./img/10/3384\n",
      "./img/8/3385\n",
      "./img/2/3386\n",
      "./img/3/3387\n",
      "./img/7/3388\n",
      "./img/9/3389\n",
      "./img/5/3390\n",
      "./img/8/3391\n",
      "./img/8/3392\n",
      "./img/8/3393\n",
      "./img/8/3394\n",
      "./img/1/3395\n",
      "./img/2/3396\n",
      "./img/9/3397\n",
      "./img/10/3398\n",
      "./img/9/3399\n",
      "./img/9/3400\n",
      "./img/9/3401\n",
      "./img/6/3402\n",
      "./img/4/3403\n",
      "./img/2/3404\n",
      "./img/8/3405\n",
      "./img/5/3406\n",
      "./img/7/3407\n",
      "./img/7/3408\n",
      "./img/4/3409\n",
      "./img/9/3410\n",
      "./img/5/3411\n",
      "./img/4/3412\n",
      "./img/1/3413\n",
      "./img/6/3414\n",
      "./img/2/3415\n",
      "./img/4/3416\n",
      "./img/10/3417\n",
      "./img/9/3418\n",
      "./img/7/3419\n",
      "./img/7/3420\n",
      "./img/3/3421\n",
      "./img/5/3422\n",
      "./img/8/3423\n",
      "./img/1/3424\n",
      "./img/8/3425\n",
      "./img/2/3426\n",
      "./img/2/3427\n",
      "./img/4/3428\n",
      "./img/8/3429\n",
      "./img/10/3430\n",
      "./img/8/3431\n",
      "./img/1/3432\n",
      "./img/8/3433\n",
      "./img/3/3434\n",
      "./img/10/3435\n",
      "./img/1/3436\n",
      "./img/9/3437\n",
      "./img/1/3438\n",
      "./img/5/3439\n",
      "./img/5/3440\n",
      "./img/5/3441\n",
      "./img/8/3442\n",
      "./img/8/3443\n",
      "./img/10/3444\n",
      "./img/9/3445\n",
      "./img/3/3446\n",
      "./img/1/3447\n",
      "./img/7/3448\n",
      "./img/2/3449\n",
      "./img/3/3450\n",
      "./img/4/3451\n",
      "./img/2/3452\n",
      "./img/8/3453\n",
      "./img/10/3454\n",
      "./img/4/3455\n",
      "./img/10/3456\n",
      "./img/9/3457\n",
      "./img/7/3458\n",
      "./img/4/3459\n",
      "./img/3/3460\n",
      "./img/4/3461\n",
      "./img/9/3462\n",
      "./img/4/3463\n",
      "./img/10/3464\n",
      "./img/4/3465\n",
      "./img/3/3466\n",
      "./img/3/3467\n",
      "./img/4/3468\n",
      "./img/1/3469\n",
      "./img/1/3470\n",
      "./img/10/3471\n",
      "./img/4/3472\n",
      "./img/7/3473\n",
      "./img/2/3474\n",
      "./img/10/3475\n",
      "./img/10/3476\n",
      "./img/6/3477\n",
      "./img/6/3478\n",
      "./img/1/3479\n",
      "./img/5/3480\n",
      "./img/1/3481\n",
      "./img/1/3482\n",
      "./img/9/3483\n",
      "./img/5/3484\n",
      "./img/3/3485\n",
      "./img/9/3486\n",
      "./img/9/3487\n",
      "./img/7/3488\n",
      "./img/5/3489\n",
      "./img/6/3490\n",
      "./img/8/3491\n",
      "./img/6/3492\n",
      "./img/7/3493\n",
      "./img/9/3494\n",
      "./img/3/3495\n",
      "./img/9/3496\n",
      "./img/4/3497\n",
      "./img/10/3498\n",
      "./img/10/3499\n",
      "./img/5/3500\n",
      "./img/9/3501\n",
      "./img/5/3502\n",
      "./img/7/3503\n",
      "./img/2/3504\n",
      "./img/10/3505\n",
      "./img/1/3506\n",
      "./img/10/3507\n",
      "./img/7/3508\n",
      "./img/1/3509\n",
      "./img/3/3510\n",
      "./img/3/3511\n",
      "./img/2/3512\n",
      "./img/9/3513\n",
      "./img/4/3514\n",
      "./img/3/3515\n",
      "./img/10/3516\n",
      "./img/2/3517\n",
      "./img/3/3518\n",
      "./img/7/3519\n",
      "./img/7/3520\n",
      "./img/7/3521\n",
      "./img/2/3522\n",
      "./img/10/3523\n",
      "./img/6/3524\n",
      "./img/10/3525\n",
      "./img/4/3526\n",
      "./img/9/3527\n",
      "./img/4/3528\n",
      "./img/7/3529\n",
      "./img/10/3530\n",
      "./img/2/3531\n",
      "./img/10/3532\n",
      "./img/2/3533\n",
      "./img/3/3534\n",
      "./img/6/3535\n",
      "./img/3/3536\n",
      "./img/4/3537\n",
      "./img/8/3538\n",
      "./img/10/3539\n",
      "./img/8/3540\n",
      "./img/5/3541\n",
      "./img/3/3542\n",
      "./img/3/3543\n",
      "./img/9/3544\n",
      "./img/2/3545\n",
      "./img/3/3546\n",
      "./img/6/3547\n",
      "./img/3/3548\n",
      "./img/4/3549\n",
      "./img/9/3550\n",
      "./img/9/3551\n",
      "./img/1/3552\n",
      "./img/8/3553\n",
      "./img/9/3554\n",
      "./img/7/3555\n",
      "./img/2/3556\n",
      "./img/7/3557\n",
      "./img/8/3558\n",
      "./img/9/3559\n",
      "./img/2/3560\n",
      "./img/2/3561\n",
      "./img/7/3562\n",
      "./img/8/3563\n",
      "./img/9/3564\n",
      "./img/7/3565\n",
      "./img/4/3566\n",
      "./img/9/3567\n",
      "./img/3/3568\n",
      "./img/2/3569\n",
      "./img/3/3570\n",
      "./img/7/3571\n",
      "./img/6/3572\n",
      "./img/10/3573\n",
      "./img/10/3574\n",
      "./img/3/3575\n",
      "./img/9/3576\n",
      "./img/1/3577\n",
      "./img/10/3578\n",
      "./img/6/3579\n",
      "./img/3/3580\n",
      "./img/7/3581\n",
      "./img/1/3582\n",
      "./img/2/3583\n",
      "./img/6/3584\n",
      "./img/6/3585\n",
      "./img/5/3586\n",
      "./img/5/3587\n",
      "./img/1/3588\n",
      "./img/1/3589\n",
      "./img/10/3590\n",
      "./img/8/3591\n",
      "./img/3/3592\n",
      "./img/3/3593\n",
      "./img/2/3594\n",
      "./img/2/3595\n",
      "./img/4/3596\n",
      "./img/2/3597\n",
      "./img/5/3598\n",
      "./img/4/3599\n",
      "./img/8/3600\n",
      "./img/6/3601\n",
      "./img/6/3602\n",
      "./img/1/3603\n",
      "./img/8/3604\n",
      "./img/6/3605\n",
      "./img/4/3606\n",
      "./img/5/3607\n",
      "./img/1/3608\n",
      "./img/8/3609\n",
      "./img/9/3610\n",
      "./img/10/3611\n",
      "./img/9/3612\n",
      "./img/5/3613\n",
      "./img/7/3614\n",
      "./img/1/3615\n",
      "./img/1/3616\n",
      "./img/7/3617\n",
      "./img/1/3618\n",
      "./img/8/3619\n",
      "./img/9/3620\n",
      "./img/9/3621\n",
      "./img/8/3622\n",
      "./img/7/3623\n",
      "./img/8/3624\n",
      "./img/2/3625\n",
      "./img/4/3626\n",
      "./img/2/3627\n",
      "./img/7/3628\n",
      "./img/5/3629\n",
      "./img/8/3630\n",
      "./img/6/3631\n",
      "./img/2/3632\n",
      "./img/3/3633\n",
      "./img/10/3634\n",
      "./img/4/3635\n",
      "./img/5/3636\n",
      "./img/6/3637\n",
      "./img/10/3638\n",
      "./img/4/3639\n",
      "./img/7/3640\n",
      "./img/6/3641\n",
      "./img/10/3642\n",
      "./img/8/3643\n",
      "./img/7/3644\n",
      "./img/7/3645\n",
      "./img/5/3646\n",
      "./img/9/3647\n",
      "./img/10/3648\n",
      "./img/6/3649\n",
      "./img/4/3650\n",
      "./img/1/3651\n",
      "./img/1/3652\n",
      "./img/4/3653\n",
      "./img/10/3654\n",
      "./img/9/3655\n",
      "./img/4/3656\n",
      "./img/8/3657\n",
      "./img/8/3658\n",
      "./img/10/3659\n",
      "./img/9/3660\n",
      "./img/9/3661\n",
      "./img/7/3662\n",
      "./img/9/3663\n",
      "./img/6/3664\n",
      "./img/6/3665\n",
      "./img/3/3666\n",
      "./img/3/3667\n",
      "./img/3/3668\n",
      "./img/7/3669\n",
      "./img/3/3670\n",
      "./img/1/3671\n",
      "./img/8/3672\n",
      "./img/1/3673\n",
      "./img/3/3674\n",
      "./img/5/3675\n",
      "./img/6/3676\n",
      "./img/9/3677\n",
      "./img/4/3678\n",
      "./img/3/3679\n",
      "./img/9/3680\n",
      "./img/1/3681\n",
      "./img/1/3682\n",
      "./img/6/3683\n",
      "./img/6/3684\n",
      "./img/2/3685\n",
      "./img/10/3686\n",
      "./img/3/3687\n",
      "./img/4/3688\n",
      "./img/5/3689\n",
      "./img/9/3690\n",
      "./img/2/3691\n",
      "./img/8/3692\n",
      "./img/1/3693\n",
      "./img/4/3694\n",
      "./img/10/3695\n",
      "./img/7/3696\n",
      "./img/1/3697\n",
      "./img/6/3698\n",
      "./img/8/3699\n",
      "./img/7/3700\n",
      "./img/5/3701\n",
      "./img/7/3702\n",
      "./img/4/3703\n",
      "./img/7/3704\n",
      "./img/1/3705\n",
      "./img/2/3706\n",
      "./img/9/3707\n",
      "./img/7/3708\n",
      "./img/6/3709\n",
      "./img/2/3710\n",
      "./img/8/3711\n",
      "./img/2/3712\n",
      "./img/2/3713\n",
      "./img/10/3714\n",
      "./img/4/3715\n",
      "./img/3/3716\n",
      "./img/7/3717\n",
      "./img/10/3718\n",
      "./img/3/3719\n",
      "./img/10/3720\n",
      "./img/4/3721\n",
      "./img/8/3722\n",
      "./img/7/3723\n",
      "./img/7/3724\n",
      "./img/10/3725\n",
      "./img/4/3726\n",
      "./img/8/3727\n",
      "./img/6/3728\n",
      "./img/2/3729\n",
      "./img/5/3730\n",
      "./img/5/3731\n",
      "./img/9/3732\n",
      "./img/10/3733\n",
      "./img/2/3734\n",
      "./img/9/3735\n",
      "./img/1/3736\n",
      "./img/2/3737\n",
      "./img/6/3738\n",
      "./img/1/3739\n",
      "./img/5/3740\n",
      "./img/10/3741\n",
      "./img/1/3742\n",
      "./img/5/3743\n",
      "./img/6/3744\n",
      "./img/4/3745\n",
      "./img/5/3746\n",
      "./img/8/3747\n",
      "./img/2/3748\n",
      "./img/10/3749\n",
      "./img/7/3750\n",
      "./img/10/3751\n",
      "./img/10/3752\n",
      "./img/5/3753\n",
      "./img/10/3754\n",
      "./img/9/3755\n",
      "./img/8/3756\n",
      "./img/9/3757\n",
      "./img/2/3758\n",
      "./img/8/3759\n",
      "./img/3/3760\n",
      "./img/2/3761\n",
      "./img/9/3762\n",
      "./img/2/3763\n",
      "./img/7/3764\n",
      "./img/1/3765\n",
      "./img/9/3766\n",
      "./img/2/3767\n",
      "./img/6/3768\n",
      "./img/8/3769\n",
      "./img/2/3770\n",
      "./img/4/3771\n",
      "./img/10/3772\n",
      "./img/6/3773\n",
      "./img/8/3774\n",
      "./img/4/3775\n",
      "./img/4/3776\n",
      "./img/5/3777\n",
      "./img/9/3778\n",
      "./img/3/3779\n",
      "./img/5/3780\n",
      "./img/7/3781\n",
      "./img/6/3782\n",
      "./img/1/3783\n",
      "./img/6/3784\n",
      "./img/2/3785\n",
      "./img/7/3786\n",
      "./img/7/3787\n",
      "./img/10/3788\n",
      "./img/8/3789\n",
      "./img/9/3790\n",
      "./img/3/3791\n",
      "./img/6/3792\n",
      "./img/4/3793\n",
      "./img/3/3794\n",
      "./img/6/3795\n",
      "./img/8/3796\n",
      "./img/2/3797\n",
      "./img/5/3798\n",
      "./img/8/3799\n",
      "./img/1/3800\n",
      "./img/5/3801\n",
      "./img/10/3802\n",
      "./img/5/3803\n",
      "./img/5/3804\n",
      "./img/10/3805\n",
      "./img/6/3806\n",
      "./img/8/3807\n",
      "./img/9/3808\n",
      "./img/7/3809\n",
      "./img/4/3810\n",
      "./img/5/3811\n",
      "./img/7/3812\n",
      "./img/4/3813\n",
      "./img/9/3814\n",
      "./img/6/3815\n",
      "./img/5/3816\n",
      "./img/10/3817\n",
      "./img/9/3818\n",
      "./img/8/3819\n",
      "./img/2/3820\n",
      "./img/10/3821\n",
      "./img/1/3822\n",
      "./img/5/3823\n",
      "./img/9/3824\n",
      "./img/3/3825\n",
      "./img/8/3826\n",
      "./img/4/3827\n",
      "./img/6/3828\n",
      "./img/3/3829\n",
      "./img/7/3830\n",
      "./img/5/3831\n",
      "./img/9/3832\n",
      "./img/6/3833\n",
      "./img/2/3834\n",
      "./img/5/3835\n",
      "./img/8/3836\n",
      "./img/9/3837\n",
      "./img/10/3838\n",
      "./img/9/3839\n",
      "./img/1/3840\n",
      "./img/3/3841\n",
      "./img/8/3842\n",
      "./img/1/3843\n",
      "./img/8/3844\n",
      "./img/5/3845\n",
      "./img/8/3846\n",
      "./img/3/3847\n",
      "./img/1/3848\n",
      "./img/1/3849\n",
      "./img/4/3850\n",
      "./img/8/3851\n",
      "./img/1/3852\n",
      "./img/1/3853\n",
      "./img/7/3854\n",
      "./img/6/3855\n",
      "./img/7/3856\n",
      "./img/2/3857\n",
      "./img/4/3858\n",
      "./img/1/3859\n",
      "./img/9/3860\n",
      "./img/4/3861\n",
      "./img/7/3862\n",
      "./img/10/3863\n",
      "./img/4/3864\n",
      "./img/8/3865\n",
      "./img/1/3866\n",
      "./img/4/3867\n",
      "./img/2/3868\n",
      "./img/2/3869\n",
      "./img/6/3870\n",
      "./img/5/3871\n",
      "./img/7/3872\n",
      "./img/8/3873\n",
      "./img/5/3874\n",
      "./img/1/3875\n",
      "./img/6/3876\n",
      "./img/2/3877\n",
      "./img/10/3878\n",
      "./img/4/3879\n",
      "./img/5/3880\n",
      "./img/8/3881\n",
      "./img/3/3882\n",
      "./img/7/3883\n",
      "./img/6/3884\n",
      "./img/6/3885\n",
      "./img/5/3886\n",
      "./img/5/3887\n",
      "./img/4/3888\n",
      "./img/2/3889\n",
      "./img/4/3890\n",
      "./img/8/3891\n",
      "./img/6/3892\n",
      "./img/3/3893\n",
      "./img/9/3894\n",
      "./img/6/3895\n",
      "./img/5/3896\n",
      "./img/4/3897\n",
      "./img/10/3898\n",
      "./img/7/3899\n",
      "./img/3/3900\n",
      "./img/5/3901\n",
      "./img/5/3902\n",
      "./img/8/3903\n",
      "./img/5/3904\n",
      "./img/8/3905\n",
      "./img/4/3906\n",
      "./img/1/3907\n",
      "./img/6/3908\n",
      "./img/7/3909\n",
      "./img/7/3910\n",
      "./img/3/3911\n",
      "./img/3/3912\n",
      "./img/8/3913\n",
      "./img/10/3914\n",
      "./img/6/3915\n",
      "./img/7/3916\n",
      "./img/7/3917\n",
      "./img/8/3918\n",
      "./img/4/3919\n",
      "./img/1/3920\n",
      "./img/9/3921\n",
      "./img/4/3922\n",
      "./img/3/3923\n",
      "./img/5/3924\n",
      "./img/10/3925\n",
      "./img/10/3926\n",
      "./img/9/3927\n",
      "./img/2/3928\n",
      "./img/1/3929\n",
      "./img/5/3930\n",
      "./img/10/3931\n",
      "./img/6/3932\n",
      "./img/2/3933\n",
      "./img/9/3934\n",
      "./img/9/3935\n",
      "./img/9/3936\n",
      "./img/6/3937\n",
      "./img/2/3938\n",
      "./img/8/3939\n",
      "./img/9/3940\n",
      "./img/1/3941\n",
      "./img/5/3942\n",
      "./img/7/3943\n",
      "./img/9/3944\n",
      "./img/10/3945\n",
      "./img/4/3946\n",
      "./img/1/3947\n",
      "./img/10/3948\n",
      "./img/4/3949\n",
      "./img/2/3950\n",
      "./img/1/3951\n",
      "./img/9/3952\n",
      "./img/9/3953\n",
      "./img/10/3954\n",
      "./img/5/3955\n",
      "./img/4/3956\n",
      "./img/8/3957\n",
      "./img/7/3958\n",
      "./img/4/3959\n",
      "./img/2/3960\n",
      "./img/4/3961\n",
      "./img/1/3962\n",
      "./img/10/3963\n",
      "./img/1/3964\n",
      "./img/6/3965\n",
      "./img/3/3966\n",
      "./img/1/3967\n",
      "./img/8/3968\n",
      "./img/10/3969\n",
      "./img/6/3970\n",
      "./img/1/3971\n",
      "./img/7/3972\n",
      "./img/1/3973\n",
      "./img/10/3974\n",
      "./img/2/3975\n",
      "./img/6/3976\n",
      "./img/5/3977\n",
      "./img/6/3978\n",
      "./img/9/3979\n",
      "./img/6/3980\n",
      "./img/4/3981\n",
      "./img/4/3982\n",
      "./img/4/3983\n",
      "./img/10/3984\n",
      "./img/3/3985\n",
      "./img/1/3986\n",
      "./img/10/3987\n",
      "./img/3/3988\n",
      "./img/8/3989\n",
      "./img/8/3990\n",
      "./img/4/3991\n",
      "./img/4/3992\n",
      "./img/6/3993\n",
      "./img/8/3994\n",
      "./img/2/3995\n",
      "./img/6/3996\n",
      "./img/3/3997\n",
      "./img/3/3998\n",
      "./img/4/3999\n",
      "./img/4/4000\n",
      "./img/6/4001\n",
      "./img/1/4002\n",
      "./img/1/4003\n",
      "./img/10/4004\n",
      "./img/8/4005\n",
      "./img/10/4006\n",
      "./img/2/4007\n",
      "./img/10/4008\n",
      "./img/5/4009\n",
      "./img/3/4010\n",
      "./img/7/4011\n",
      "./img/2/4012\n",
      "./img/1/4013\n",
      "./img/9/4014\n",
      "./img/3/4015\n",
      "./img/2/4016\n",
      "./img/3/4017\n",
      "./img/6/4018\n",
      "./img/7/4019\n",
      "./img/5/4020\n",
      "./img/4/4021\n",
      "./img/2/4022\n",
      "./img/3/4023\n",
      "./img/6/4024\n",
      "./img/1/4025\n",
      "./img/7/4026\n",
      "./img/3/4027\n",
      "./img/6/4028\n",
      "./img/2/4029\n",
      "./img/8/4030\n",
      "./img/6/4031\n",
      "./img/7/4032\n",
      "./img/7/4033\n",
      "./img/2/4034\n",
      "./img/9/4035\n",
      "./img/5/4036\n",
      "./img/1/4037\n",
      "./img/7/4038\n",
      "./img/3/4039\n",
      "./img/3/4040\n",
      "./img/1/4041\n",
      "./img/7/4042\n",
      "./img/1/4043\n",
      "./img/3/4044\n",
      "./img/3/4045\n",
      "./img/8/4046\n",
      "./img/4/4047\n",
      "./img/2/4048\n",
      "./img/6/4049\n",
      "./img/3/4050\n",
      "./img/2/4051\n",
      "./img/3/4052\n",
      "./img/3/4053\n",
      "./img/9/4054\n",
      "./img/10/4055\n",
      "./img/10/4056\n",
      "./img/3/4057\n",
      "./img/10/4058\n",
      "./img/6/4059\n",
      "./img/6/4060\n",
      "./img/5/4061\n",
      "./img/4/4062\n",
      "./img/3/4063\n",
      "./img/10/4064\n",
      "./img/9/4065\n",
      "./img/2/4066\n",
      "./img/2/4067\n",
      "./img/9/4068\n",
      "./img/8/4069\n",
      "./img/6/4070\n",
      "./img/4/4071\n",
      "./img/3/4072\n",
      "./img/3/4073\n",
      "./img/6/4074\n",
      "./img/4/4075\n",
      "./img/2/4076\n",
      "./img/4/4077\n",
      "./img/5/4078\n",
      "./img/2/4079\n",
      "./img/10/4080\n",
      "./img/8/4081\n",
      "./img/4/4082\n",
      "./img/9/4083\n",
      "./img/9/4084\n",
      "./img/8/4085\n",
      "./img/2/4086\n",
      "./img/8/4087\n",
      "./img/5/4088\n",
      "./img/4/4089\n",
      "./img/3/4090\n",
      "./img/10/4091\n",
      "./img/2/4092\n",
      "./img/4/4093\n",
      "./img/10/4094\n",
      "./img/8/4095\n",
      "./img/5/4096\n",
      "./img/4/4097\n",
      "./img/10/4098\n",
      "./img/4/4099\n",
      "./img/8/4100\n",
      "./img/4/4101\n",
      "./img/10/4102\n",
      "./img/3/4103\n",
      "./img/2/4104\n",
      "./img/7/4105\n",
      "./img/8/4106\n",
      "./img/2/4107\n",
      "./img/8/4108\n",
      "./img/2/4109\n",
      "./img/7/4110\n",
      "./img/9/4111\n",
      "./img/2/4112\n",
      "./img/3/4113\n",
      "./img/6/4114\n",
      "./img/2/4115\n",
      "./img/8/4116\n",
      "./img/10/4117\n",
      "./img/1/4118\n",
      "./img/4/4119\n",
      "./img/1/4120\n",
      "./img/3/4121\n",
      "./img/10/4122\n",
      "./img/9/4123\n",
      "./img/8/4124\n",
      "./img/4/4125\n",
      "./img/7/4126\n",
      "./img/10/4127\n",
      "./img/5/4128\n",
      "./img/7/4129\n",
      "./img/10/4130\n",
      "./img/6/4131\n",
      "./img/9/4132\n",
      "./img/1/4133\n",
      "./img/2/4134\n",
      "./img/2/4135\n",
      "./img/2/4136\n",
      "./img/4/4137\n",
      "./img/9/4138\n",
      "./img/3/4139\n",
      "./img/4/4140\n",
      "./img/10/4141\n",
      "./img/8/4142\n",
      "./img/10/4143\n",
      "./img/7/4144\n",
      "./img/2/4145\n",
      "./img/5/4146\n",
      "./img/7/4147\n",
      "./img/10/4148\n",
      "./img/5/4149\n",
      "./img/1/4150\n",
      "./img/3/4151\n",
      "./img/3/4152\n",
      "./img/3/4153\n",
      "./img/7/4154\n",
      "./img/1/4155\n",
      "./img/7/4156\n",
      "./img/5/4157\n",
      "./img/3/4158\n",
      "./img/4/4159\n",
      "./img/5/4160\n",
      "./img/5/4161\n",
      "./img/6/4162\n",
      "./img/9/4163\n",
      "./img/5/4164\n",
      "./img/1/4165\n",
      "./img/10/4166\n",
      "./img/3/4167\n",
      "./img/4/4168\n",
      "./img/10/4169\n",
      "./img/3/4170\n",
      "./img/3/4171\n",
      "./img/10/4172\n",
      "./img/8/4173\n",
      "./img/7/4174\n",
      "./img/8/4175\n",
      "./img/3/4176\n",
      "./img/3/4177\n",
      "./img/7/4178\n",
      "./img/9/4179\n",
      "./img/6/4180\n",
      "./img/9/4181\n",
      "./img/4/4182\n",
      "./img/9/4183\n",
      "./img/10/4184\n",
      "./img/7/4185\n",
      "./img/1/4186\n",
      "./img/3/4187\n",
      "./img/4/4188\n",
      "./img/8/4189\n",
      "./img/4/4190\n",
      "./img/4/4191\n",
      "./img/9/4192\n",
      "./img/9/4193\n",
      "./img/2/4194\n",
      "./img/10/4195\n",
      "./img/5/4196\n",
      "./img/8/4197\n",
      "./img/4/4198\n",
      "./img/6/4199\n",
      "./img/4/4200\n",
      "./img/5/4201\n",
      "./img/7/4202\n",
      "./img/6/4203\n",
      "./img/8/4204\n",
      "./img/10/4205\n",
      "./img/8/4206\n",
      "./img/8/4207\n",
      "./img/8/4208\n",
      "./img/8/4209\n",
      "./img/3/4210\n",
      "./img/6/4211\n",
      "./img/5/4212\n",
      "./img/8/4213\n",
      "./img/4/4214\n",
      "./img/1/4215\n",
      "./img/2/4216\n",
      "./img/10/4217\n",
      "./img/7/4218\n",
      "./img/9/4219\n",
      "./img/9/4220\n",
      "./img/10/4221\n",
      "./img/1/4222\n",
      "./img/9/4223\n",
      "./img/6/4224\n",
      "./img/5/4225\n",
      "./img/8/4226\n",
      "./img/5/4227\n",
      "./img/8/4228\n",
      "./img/10/4229\n",
      "./img/2/4230\n",
      "./img/5/4231\n",
      "./img/8/4232\n",
      "./img/3/4233\n",
      "./img/10/4234\n",
      "./img/8/4235\n",
      "./img/8/4236\n",
      "./img/1/4237\n",
      "./img/1/4238\n",
      "./img/4/4239\n",
      "./img/8/4240\n",
      "./img/5/4241\n",
      "./img/3/4242\n",
      "./img/4/4243\n",
      "./img/2/4244\n",
      "./img/1/4245\n",
      "./img/9/4246\n",
      "./img/6/4247\n",
      "./img/2/4248\n",
      "./img/9/4249\n",
      "./img/4/4250\n",
      "./img/5/4251\n",
      "./img/2/4252\n",
      "./img/8/4253\n",
      "./img/2/4254\n",
      "./img/1/4255\n",
      "./img/8/4256\n",
      "./img/10/4257\n",
      "./img/10/4258\n",
      "./img/3/4259\n",
      "./img/9/4260\n",
      "./img/4/4261\n",
      "./img/2/4262\n",
      "./img/2/4263\n",
      "./img/5/4264\n",
      "./img/7/4265\n",
      "./img/2/4266\n",
      "./img/3/4267\n",
      "./img/3/4268\n",
      "./img/2/4269\n",
      "./img/1/4270\n",
      "./img/4/4271\n",
      "./img/6/4272\n",
      "./img/2/4273\n",
      "./img/3/4274\n",
      "./img/4/4275\n",
      "./img/8/4276\n",
      "./img/10/4277\n",
      "./img/1/4278\n",
      "./img/9/4279\n",
      "./img/2/4280\n",
      "./img/5/4281\n",
      "./img/7/4282\n",
      "./img/1/4283\n",
      "./img/8/4284\n",
      "./img/4/4285\n",
      "./img/7/4286\n",
      "./img/5/4287\n",
      "./img/10/4288\n",
      "./img/6/4289\n",
      "./img/5/4290\n",
      "./img/10/4291\n",
      "./img/3/4292\n",
      "./img/4/4293\n",
      "./img/8/4294\n",
      "./img/1/4295\n",
      "./img/7/4296\n",
      "./img/7/4297\n",
      "./img/8/4298\n",
      "./img/1/4299\n",
      "./img/7/4300\n",
      "./img/10/4301\n",
      "./img/5/4302\n",
      "./img/6/4303\n",
      "./img/6/4304\n",
      "./img/5/4305\n",
      "./img/10/4306\n",
      "./img/5/4307\n",
      "./img/2/4308\n",
      "./img/4/4309\n",
      "./img/1/4310\n",
      "./img/2/4311\n",
      "./img/8/4312\n",
      "./img/3/4313\n",
      "./img/3/4314\n",
      "./img/10/4315\n",
      "./img/9/4316\n",
      "./img/8/4317\n",
      "./img/3/4318\n",
      "./img/2/4319\n",
      "./img/9/4320\n",
      "./img/6/4321\n",
      "./img/1/4322\n",
      "./img/9/4323\n",
      "./img/7/4324\n",
      "./img/2/4325\n",
      "./img/8/4326\n",
      "./img/4/4327\n",
      "./img/8/4328\n",
      "./img/3/4329\n",
      "./img/1/4330\n",
      "./img/10/4331\n",
      "./img/10/4332\n",
      "./img/5/4333\n",
      "./img/8/4334\n",
      "./img/5/4335\n",
      "./img/5/4336\n",
      "./img/3/4337\n",
      "./img/6/4338\n",
      "./img/7/4339\n",
      "./img/7/4340\n",
      "./img/4/4341\n",
      "./img/10/4342\n",
      "./img/6/4343\n",
      "./img/4/4344\n",
      "./img/1/4345\n",
      "./img/1/4346\n",
      "./img/2/4347\n",
      "./img/3/4348\n",
      "./img/4/4349\n",
      "./img/6/4350\n",
      "./img/7/4351\n",
      "./img/1/4352\n",
      "./img/7/4353\n",
      "./img/4/4354\n",
      "./img/5/4355\n",
      "./img/8/4356\n",
      "./img/3/4357\n",
      "./img/4/4358\n",
      "./img/5/4359\n",
      "./img/1/4360\n",
      "./img/2/4361\n",
      "./img/5/4362\n",
      "./img/4/4363\n",
      "./img/10/4364\n",
      "./img/10/4365\n",
      "./img/9/4366\n",
      "./img/9/4367\n",
      "./img/6/4368\n",
      "./img/10/4369\n",
      "./img/1/4370\n",
      "./img/2/4371\n",
      "./img/3/4372\n",
      "./img/10/4373\n",
      "./img/7/4374\n",
      "./img/1/4375\n",
      "./img/9/4376\n",
      "./img/4/4377\n",
      "./img/1/4378\n",
      "./img/1/4379\n",
      "./img/3/4380\n",
      "./img/9/4381\n",
      "./img/5/4382\n",
      "./img/6/4383\n",
      "./img/1/4384\n",
      "./img/1/4385\n",
      "./img/1/4386\n",
      "./img/3/4387\n",
      "./img/8/4388\n",
      "./img/1/4389\n",
      "./img/7/4390\n",
      "./img/2/4391\n",
      "./img/7/4392\n",
      "./img/10/4393\n",
      "./img/5/4394\n",
      "./img/1/4395\n",
      "./img/5/4396\n",
      "./img/7/4397\n",
      "./img/3/4398\n",
      "./img/10/4399\n",
      "./img/4/4400\n",
      "./img/6/4401\n",
      "./img/10/4402\n",
      "./img/9/4403\n",
      "./img/8/4404\n",
      "./img/9/4405\n",
      "./img/10/4406\n",
      "./img/7/4407\n",
      "./img/8/4408\n",
      "./img/3/4409\n",
      "./img/3/4410\n",
      "./img/5/4411\n",
      "./img/4/4412\n",
      "./img/2/4413\n",
      "./img/9/4414\n",
      "./img/7/4415\n",
      "./img/4/4416\n",
      "./img/9/4417\n",
      "./img/9/4418\n",
      "./img/1/4419\n",
      "./img/6/4420\n",
      "./img/1/4421\n",
      "./img/2/4422\n",
      "./img/4/4423\n",
      "./img/6/4424\n",
      "./img/5/4425\n",
      "./img/4/4426\n",
      "./img/3/4427\n",
      "./img/4/4428\n",
      "./img/1/4429\n",
      "./img/9/4430\n",
      "./img/5/4431\n",
      "./img/1/4432\n",
      "./img/9/4433\n",
      "./img/2/4434\n",
      "./img/1/4435\n",
      "./img/6/4436\n",
      "./img/9/4437\n",
      "./img/7/4438\n",
      "./img/9/4439\n",
      "./img/8/4440\n",
      "./img/8/4441\n",
      "./img/7/4442\n",
      "./img/5/4443\n",
      "./img/10/4444\n",
      "./img/3/4445\n",
      "./img/10/4446\n",
      "./img/8/4447\n",
      "./img/1/4448\n",
      "./img/10/4449\n",
      "./img/2/4450\n",
      "./img/1/4451\n",
      "./img/3/4452\n",
      "./img/2/4453\n",
      "./img/1/4454\n",
      "./img/3/4455\n",
      "./img/2/4456\n",
      "./img/8/4457\n",
      "./img/8/4458\n",
      "./img/9/4459\n",
      "./img/10/4460\n",
      "./img/2/4461\n",
      "./img/4/4462\n",
      "./img/4/4463\n",
      "./img/5/4464\n",
      "./img/6/4465\n",
      "./img/9/4466\n",
      "./img/5/4467\n",
      "./img/2/4468\n",
      "./img/6/4469\n",
      "./img/1/4470\n",
      "./img/3/4471\n",
      "./img/7/4472\n",
      "./img/2/4473\n",
      "./img/8/4474\n",
      "./img/7/4475\n",
      "./img/4/4476\n",
      "./img/3/4477\n",
      "./img/8/4478\n",
      "./img/2/4479\n",
      "./img/9/4480\n",
      "./img/4/4481\n",
      "./img/9/4482\n",
      "./img/1/4483\n",
      "./img/10/4484\n",
      "./img/9/4485\n",
      "./img/7/4486\n",
      "./img/7/4487\n",
      "./img/6/4488\n",
      "./img/5/4489\n",
      "./img/8/4490\n",
      "./img/2/4491\n",
      "./img/7/4492\n",
      "./img/2/4493\n",
      "./img/8/4494\n",
      "./img/4/4495\n",
      "./img/9/4496\n",
      "./img/4/4497\n",
      "./img/5/4498\n",
      "./img/10/4499\n",
      "./img/8/4500\n",
      "./img/2/4501\n",
      "./img/1/4502\n",
      "./img/7/4503\n",
      "./img/3/4504\n",
      "./img/2/4505\n",
      "./img/6/4506\n",
      "./img/9/4507\n",
      "./img/1/4508\n",
      "./img/1/4509\n",
      "./img/8/4510\n",
      "./img/10/4511\n",
      "./img/1/4512\n",
      "./img/2/4513\n",
      "./img/9/4514\n",
      "./img/6/4515\n",
      "./img/4/4516\n",
      "./img/1/4517\n",
      "./img/7/4518\n",
      "./img/5/4519\n",
      "./img/5/4520\n",
      "./img/4/4521\n",
      "./img/10/4522\n",
      "./img/1/4523\n",
      "./img/6/4524\n",
      "./img/7/4525\n",
      "./img/1/4526\n",
      "./img/5/4527\n",
      "./img/6/4528\n",
      "./img/1/4529\n",
      "./img/2/4530\n",
      "./img/8/4531\n",
      "./img/4/4532\n",
      "./img/6/4533\n",
      "./img/6/4534\n",
      "./img/7/4535\n",
      "./img/2/4536\n",
      "./img/7/4537\n",
      "./img/5/4538\n",
      "./img/2/4539\n",
      "./img/7/4540\n",
      "./img/4/4541\n",
      "./img/7/4542\n",
      "./img/5/4543\n",
      "./img/8/4544\n",
      "./img/2/4545\n",
      "./img/3/4546\n",
      "./img/7/4547\n",
      "./img/8/4548\n",
      "./img/2/4549\n",
      "./img/5/4550\n",
      "./img/2/4551\n",
      "./img/1/4552\n",
      "./img/9/4553\n",
      "./img/10/4554\n",
      "./img/9/4555\n",
      "./img/9/4556\n",
      "./img/2/4557\n",
      "./img/10/4558\n",
      "./img/6/4559\n",
      "./img/3/4560\n",
      "./img/3/4561\n",
      "./img/6/4562\n",
      "./img/2/4563\n",
      "./img/1/4564\n",
      "./img/3/4565\n",
      "./img/10/4566\n",
      "./img/1/4567\n",
      "./img/6/4568\n",
      "./img/2/4569\n",
      "./img/2/4570\n",
      "./img/1/4571\n",
      "./img/10/4572\n",
      "./img/1/4573\n",
      "./img/9/4574\n",
      "./img/6/4575\n",
      "./img/3/4576\n",
      "./img/4/4577\n",
      "./img/5/4578\n",
      "./img/4/4579\n",
      "./img/9/4580\n",
      "./img/7/4581\n",
      "./img/7/4582\n",
      "./img/10/4583\n",
      "./img/10/4584\n",
      "./img/6/4585\n",
      "./img/2/4586\n",
      "./img/5/4587\n",
      "./img/9/4588\n",
      "./img/9/4589\n",
      "./img/10/4590\n",
      "./img/3/4591\n",
      "./img/5/4592\n",
      "./img/10/4593\n",
      "./img/4/4594\n",
      "./img/10/4595\n",
      "./img/9/4596\n",
      "./img/10/4597\n",
      "./img/8/4598\n",
      "./img/8/4599\n",
      "./img/2/4600\n",
      "./img/5/4601\n",
      "./img/7/4602\n",
      "./img/8/4603\n",
      "./img/2/4604\n",
      "./img/4/4605\n",
      "./img/9/4606\n",
      "./img/10/4607\n",
      "./img/5/4608\n",
      "./img/3/4609\n",
      "./img/6/4610\n",
      "./img/10/4611\n",
      "./img/2/4612\n",
      "./img/5/4613\n",
      "./img/10/4614\n",
      "./img/5/4615\n",
      "./img/4/4616\n",
      "./img/9/4617\n",
      "./img/3/4618\n",
      "./img/5/4619\n",
      "./img/7/4620\n",
      "./img/3/4621\n",
      "./img/5/4622\n",
      "./img/4/4623\n",
      "./img/10/4624\n",
      "./img/2/4625\n",
      "./img/6/4626\n",
      "./img/1/4627\n",
      "./img/3/4628\n",
      "./img/9/4629\n",
      "./img/9/4630\n",
      "./img/4/4631\n",
      "./img/1/4632\n",
      "./img/5/4633\n",
      "./img/5/4634\n",
      "./img/5/4635\n",
      "./img/5/4636\n",
      "./img/6/4637\n",
      "./img/9/4638\n",
      "./img/7/4639\n",
      "./img/10/4640\n",
      "./img/10/4641\n",
      "./img/8/4642\n",
      "./img/1/4643\n",
      "./img/1/4644\n",
      "./img/10/4645\n",
      "./img/10/4646\n",
      "./img/9/4647\n",
      "./img/9/4648\n",
      "./img/6/4649\n",
      "./img/8/4650\n",
      "./img/2/4651\n",
      "./img/1/4652\n",
      "./img/1/4653\n",
      "./img/1/4654\n",
      "./img/8/4655\n",
      "./img/4/4656\n",
      "./img/4/4657\n",
      "./img/10/4658\n",
      "./img/6/4659\n",
      "./img/3/4660\n",
      "./img/6/4661\n",
      "./img/8/4662\n",
      "./img/9/4663\n",
      "./img/2/4664\n",
      "./img/4/4665\n",
      "./img/6/4666\n",
      "./img/4/4667\n",
      "./img/5/4668\n",
      "./img/10/4669\n",
      "./img/4/4670\n",
      "./img/6/4671\n",
      "./img/9/4672\n",
      "./img/8/4673\n",
      "./img/8/4674\n",
      "./img/6/4675\n",
      "./img/2/4676\n",
      "./img/9/4677\n",
      "./img/8/4678\n",
      "./img/7/4679\n",
      "./img/2/4680\n",
      "./img/10/4681\n",
      "./img/10/4682\n",
      "./img/10/4683\n",
      "./img/5/4684\n",
      "./img/4/4685\n",
      "./img/5/4686\n",
      "./img/1/4687\n",
      "./img/2/4688\n",
      "./img/6/4689\n",
      "./img/2/4690\n",
      "./img/5/4691\n",
      "./img/3/4692\n",
      "./img/9/4693\n",
      "./img/5/4694\n",
      "./img/1/4695\n",
      "./img/10/4696\n",
      "./img/9/4697\n",
      "./img/2/4698\n",
      "./img/5/4699\n",
      "./img/5/4700\n",
      "./img/9/4701\n",
      "./img/2/4702\n",
      "./img/9/4703\n",
      "./img/8/4704\n",
      "./img/10/4705\n",
      "./img/6/4706\n",
      "./img/3/4707\n",
      "./img/7/4708\n",
      "./img/2/4709\n",
      "./img/2/4710\n",
      "./img/5/4711\n",
      "./img/8/4712\n",
      "./img/2/4713\n",
      "./img/6/4714\n",
      "./img/3/4715\n",
      "./img/7/4716\n",
      "./img/6/4717\n",
      "./img/10/4718\n",
      "./img/9/4719\n",
      "./img/4/4720\n",
      "./img/2/4721\n",
      "./img/5/4722\n",
      "./img/1/4723\n",
      "./img/10/4724\n",
      "./img/8/4725\n",
      "./img/7/4726\n",
      "./img/10/4727\n",
      "./img/2/4728\n",
      "./img/3/4729\n",
      "./img/4/4730\n",
      "./img/5/4731\n",
      "./img/6/4732\n",
      "./img/5/4733\n",
      "./img/10/4734\n",
      "./img/10/4735\n",
      "./img/4/4736\n",
      "./img/5/4737\n",
      "./img/4/4738\n",
      "./img/3/4739\n",
      "./img/7/4740\n",
      "./img/5/4741\n",
      "./img/7/4742\n",
      "./img/3/4743\n",
      "./img/9/4744\n",
      "./img/5/4745\n",
      "./img/10/4746\n",
      "./img/1/4747\n",
      "./img/3/4748\n",
      "./img/5/4749\n",
      "./img/3/4750\n",
      "./img/7/4751\n",
      "./img/9/4752\n",
      "./img/1/4753\n",
      "./img/7/4754\n",
      "./img/3/4755\n",
      "./img/8/4756\n",
      "./img/6/4757\n",
      "./img/3/4758\n",
      "./img/6/4759\n",
      "./img/1/4760\n",
      "./img/9/4761\n",
      "./img/7/4762\n",
      "./img/3/4763\n",
      "./img/2/4764\n",
      "./img/3/4765\n",
      "./img/7/4766\n",
      "./img/10/4767\n",
      "./img/8/4768\n",
      "./img/5/4769\n",
      "./img/5/4770\n",
      "./img/8/4771\n",
      "./img/10/4772\n",
      "./img/2/4773\n",
      "./img/5/4774\n",
      "./img/6/4775\n",
      "./img/4/4776\n",
      "./img/8/4777\n",
      "./img/6/4778\n",
      "./img/1/4779\n",
      "./img/3/4780\n",
      "./img/1/4781\n",
      "./img/6/4782\n",
      "./img/4/4783\n",
      "./img/3/4784\n",
      "./img/1/4785\n",
      "./img/1/4786\n",
      "./img/6/4787\n",
      "./img/9/4788\n",
      "./img/3/4789\n",
      "./img/6/4790\n",
      "./img/10/4791\n",
      "./img/5/4792\n",
      "./img/6/4793\n",
      "./img/8/4794\n",
      "./img/3/4795\n",
      "./img/10/4796\n",
      "./img/1/4797\n",
      "./img/6/4798\n",
      "./img/10/4799\n",
      "./img/8/4800\n",
      "./img/4/4801\n",
      "./img/6/4802\n",
      "./img/9/4803\n",
      "./img/5/4804\n",
      "./img/10/4805\n",
      "./img/9/4806\n",
      "./img/3/4807\n",
      "./img/8/4808\n",
      "./img/3/4809\n",
      "./img/9/4810\n",
      "./img/7/4811\n",
      "./img/6/4812\n",
      "./img/9/4813\n",
      "./img/10/4814\n",
      "./img/7/4815\n",
      "./img/7/4816\n",
      "./img/4/4817\n",
      "./img/7/4818\n",
      "./img/10/4819\n",
      "./img/2/4820\n",
      "./img/8/4821\n",
      "./img/8/4822\n",
      "./img/2/4823\n",
      "./img/6/4824\n",
      "./img/10/4825\n",
      "./img/6/4826\n",
      "./img/7/4827\n",
      "./img/1/4828\n",
      "./img/4/4829\n",
      "./img/8/4830\n",
      "./img/7/4831\n",
      "./img/6/4832\n",
      "./img/1/4833\n",
      "./img/10/4834\n",
      "./img/8/4835\n",
      "./img/1/4836\n",
      "./img/1/4837\n",
      "./img/9/4838\n",
      "./img/3/4839\n",
      "./img/4/4840\n",
      "./img/4/4841\n",
      "./img/4/4842\n",
      "./img/4/4843\n",
      "./img/4/4844\n",
      "./img/10/4845\n",
      "./img/7/4846\n",
      "./img/9/4847\n",
      "./img/1/4848\n",
      "./img/5/4849\n",
      "./img/4/4850\n",
      "./img/1/4851\n",
      "./img/2/4852\n",
      "./img/5/4853\n",
      "./img/1/4854\n",
      "./img/10/4855\n",
      "./img/3/4856\n",
      "./img/2/4857\n",
      "./img/9/4858\n",
      "./img/7/4859\n",
      "./img/3/4860\n",
      "./img/3/4861\n",
      "./img/7/4862\n",
      "./img/3/4863\n",
      "./img/9/4864\n",
      "./img/3/4865\n",
      "./img/3/4866\n",
      "./img/5/4867\n",
      "./img/4/4868\n",
      "./img/3/4869\n",
      "./img/8/4870\n",
      "./img/2/4871\n",
      "./img/1/4872\n",
      "./img/4/4873\n",
      "./img/9/4874\n",
      "./img/6/4875\n",
      "./img/3/4876\n",
      "./img/5/4877\n",
      "./img/10/4878\n",
      "./img/8/4879\n",
      "./img/9/4880\n",
      "./img/2/4881\n",
      "./img/9/4882\n",
      "./img/5/4883\n",
      "./img/8/4884\n",
      "./img/10/4885\n",
      "./img/7/4886\n",
      "./img/2/4887\n",
      "./img/7/4888\n",
      "./img/9/4889\n",
      "./img/1/4890\n",
      "./img/4/4891\n",
      "./img/5/4892\n",
      "./img/6/4893\n",
      "./img/2/4894\n",
      "./img/2/4895\n",
      "./img/5/4896\n",
      "./img/3/4897\n",
      "./img/3/4898\n",
      "./img/7/4899\n",
      "./img/4/4900\n",
      "./img/2/4901\n",
      "./img/7/4902\n",
      "./img/2/4903\n",
      "./img/10/4904\n",
      "./img/6/4905\n",
      "./img/6/4906\n",
      "./img/6/4907\n",
      "./img/7/4908\n",
      "./img/5/4909\n",
      "./img/8/4910\n",
      "./img/8/4911\n",
      "./img/6/4912\n",
      "./img/2/4913\n",
      "./img/5/4914\n",
      "./img/3/4915\n",
      "./img/7/4916\n",
      "./img/1/4917\n",
      "./img/6/4918\n",
      "./img/9/4919\n",
      "./img/8/4920\n",
      "./img/5/4921\n",
      "./img/4/4922\n",
      "./img/2/4923\n",
      "./img/7/4924\n",
      "./img/5/4925\n",
      "./img/7/4926\n",
      "./img/6/4927\n",
      "./img/10/4928\n",
      "./img/9/4929\n",
      "./img/9/4930\n",
      "./img/8/4931\n",
      "./img/5/4932\n",
      "./img/4/4933\n",
      "./img/8/4934\n",
      "./img/9/4935\n",
      "./img/2/4936\n",
      "./img/3/4937\n",
      "./img/2/4938\n",
      "./img/3/4939\n",
      "./img/4/4940\n",
      "./img/3/4941\n",
      "./img/1/4942\n",
      "./img/3/4943\n",
      "./img/2/4944\n",
      "./img/1/4945\n",
      "./img/9/4946\n",
      "./img/5/4947\n",
      "./img/1/4948\n",
      "./img/4/4949\n",
      "./img/2/4950\n",
      "./img/2/4951\n",
      "./img/6/4952\n",
      "./img/6/4953\n",
      "./img/3/4954\n",
      "./img/5/4955\n",
      "./img/9/4956\n",
      "./img/1/4957\n",
      "./img/8/4958\n",
      "./img/6/4959\n",
      "./img/8/4960\n",
      "./img/2/4961\n",
      "./img/9/4962\n",
      "./img/6/4963\n",
      "./img/6/4964\n",
      "./img/3/4965\n",
      "./img/1/4966\n",
      "./img/4/4967\n",
      "./img/1/4968\n",
      "./img/7/4969\n",
      "./img/5/4970\n",
      "./img/3/4971\n",
      "./img/8/4972\n",
      "./img/9/4973\n",
      "./img/2/4974\n",
      "./img/7/4975\n",
      "./img/7/4976\n",
      "./img/8/4977\n",
      "./img/6/4978\n",
      "./img/2/4979\n",
      "./img/9/4980\n",
      "./img/5/4981\n",
      "./img/10/4982\n",
      "./img/4/4983\n",
      "./img/8/4984\n",
      "./img/6/4985\n",
      "./img/6/4986\n",
      "./img/4/4987\n",
      "./img/5/4988\n",
      "./img/6/4989\n",
      "./img/2/4990\n",
      "./img/7/4991\n",
      "./img/10/4992\n",
      "./img/4/4993\n",
      "./img/5/4994\n",
      "./img/2/4995\n",
      "./img/6/4996\n",
      "./img/2/4997\n",
      "./img/8/4998\n",
      "./img/6/4999\n"
     ]
    }
   ],
   "source": [
    "# Use the following code if necessary\n",
    "\n",
    "# download data if needed\n",
    "download_and_extract()\n",
    "\n",
    "# test to check if the image is read correctly\n",
    "with open(DATA_PATH) as f:\n",
    "    image = read_single_image(f)\n",
    "    plot_image(image)\n",
    "\n",
    "# test to check if the whole dataset is read correctly\n",
    "images = read_all_images(DATA_PATH)\n",
    "print(images.shape)\n",
    "\n",
    "labels = read_labels(LABEL_PATH)\n",
    "print(labels.shape)\n",
    "\n",
    "# save images to disk\n",
    "save_images(images, labels)"
   ]
  },
  {
   "cell_type": "markdown",
   "metadata": {
    "id": "pW0p0R6d99iA"
   },
   "source": [
    "#### **`Q2.1 Create the STL10_Dataset (5-pts)`**\n",
    "In this Section, download STL-10 and extract 5 classes from STL-10 training dataset. The the labels of images will be defined as:\n",
    "\n",
    "`{1: 'car', 2:'deer', 3:'horse', 4:'monkey', 5:'truck'}`\n",
    "\n",
    " Extract mentioned 5 classes of images from STL-10. Complement *`STL10_Dataset`* class and match each class with the label accordingly. __Hint__: You can use the code above to help to complement *`STL10_Dataset`* class. (5-pts)\n"
   ]
  },
  {
   "cell_type": "code",
   "execution_count": 29,
   "metadata": {
    "id": "lPhepFAq99iA"
   },
   "outputs": [],
   "source": [
    "class STL10_Dataset(Dataset):\n",
    "    def __init__(self, root='data/', train=True, transform=None):\n",
    "        # Mapping provided\n",
    "        self.labels_map = {1: 'car', 2: 'deer', 3: 'horse', 4: 'monkey', 5: 'truck'}\n",
    "        \n",
    "        # Note: Assuming the 'train' flag will be used in the future, but it's set to True for now\n",
    "        data_path = os.path.join(root, 'stl10_binary/train_X.bin') if train else os.path.join(root, 'stl10_binary/test_X.bin')\n",
    "        label_path = os.path.join(root, 'stl10_binary/train_y.bin') if train else os.path.join(root, 'stl10_binary/test_y.bin')\n",
    "        \n",
    "        # Load all images and labels\n",
    "        self.data = read_all_images(data_path)\n",
    "        self.labels = read_labels(label_path)\n",
    "        \n",
    "        # Filter only the required classes' data and labels\n",
    "        indices = [i for i, label in enumerate(self.labels) if label in self.labels_map.keys()]\n",
    "        self.data = self.data[indices]\n",
    "        self.labels = self.labels[indices] - 1\n",
    "        \n",
    "        self.transform = transform\n",
    "\n",
    "    def __len__(self):\n",
    "        return len(self.data)\n",
    "\n",
    "    def __getitem__(self, item):\n",
    "        img = self.data[item]\n",
    "        target = self.labels[item]  \n",
    "        \n",
    "        # Convert the numpy array to PIL Image so that we can apply transformations\n",
    "        img = Image.fromarray(img)\n",
    "        \n",
    "        if self.transform:\n",
    "            img = self.transform(img)\n",
    "        \n",
    "        return img, target\n"
   ]
  },
  {
   "cell_type": "code",
   "execution_count": 34,
   "metadata": {},
   "outputs": [],
   "source": [
    "transform_train = transforms.Compose([\n",
    "    transforms.RandomResizedCrop(32, scale=(0.7, 1)), \n",
    "    transforms.RandomHorizontalFlip(),  \n",
    "    transforms.RandomVerticalFlip(p=0.2),  \n",
    "    transforms.ColorJitter(brightness=0.2, contrast=0.2, saturation=0.2, hue=0.1), \n",
    "    transforms.RandomAffine(degrees=10, translate=(0.1, 0.1)),  \n",
    "    transforms.RandomPerspective(distortion_scale=0.2, p=0.5, interpolation=3), \n",
    "    transforms.RandomGrayscale(p=0.2), \n",
    "    transforms.ToTensor(),\n",
    "    transforms.Normalize((0.5, 0.5, 0.5), (0.5, 0.5, 0.5)) \n",
    "])\n",
    "\n",
    "transform_test = transforms.Compose([\n",
    "    transforms.Resize(32),\n",
    "    transforms.ToTensor(),\n",
    "    transforms.Normalize((0.5, 0.5, 0.5), (0.5, 0.5, 0.5))\n",
    "])\n",
    "\n",
    "# Datasets\n",
    "train_set = STL10_Dataset('./data', True, transform_train)\n",
    "test_set = STL10_Dataset('./data', False, transform_test)\n",
    "\n",
    "# Initialize the dataloaders\n",
    "train_data_loader = DataLoader(train_set, batch_size=64, shuffle=True, num_workers=0)\n",
    "test_data_loader = DataLoader(test_set, batch_size=32, shuffle=False, num_workers=0)"
   ]
  },
  {
   "cell_type": "code",
   "execution_count": 35,
   "metadata": {},
   "outputs": [],
   "source": [
    "state_dict = torch.load('best.pt')\n",
    "model = ConvNet()\n",
    "model.load_state_dict(state_dict)\n",
    "model.fc3 = nn.Linear(512, 5)\n",
    "model.to('cuda');"
   ]
  },
  {
   "cell_type": "code",
   "execution_count": 38,
   "metadata": {
    "scrolled": true
   },
   "outputs": [
    {
     "name": "stdout",
     "output_type": "stream",
     "text": [
      "Training on cuda\n"
     ]
    },
    {
     "data": {
      "application/vnd.jupyter.widget-view+json": {
       "model_id": "e988a914ea49492cbdb5b6369f6ed3d4",
       "version_major": 2,
       "version_minor": 0
      },
      "text/plain": [
       "  0%|          | 0/10 [00:00<?, ?it/s]"
      ]
     },
     "metadata": {},
     "output_type": "display_data"
    },
    {
     "data": {
      "application/vnd.jupyter.widget-view+json": {
       "model_id": "",
       "version_major": 2,
       "version_minor": 0
      },
      "text/plain": [
       "  0%|          | 0/40 [00:00<?, ?it/s]"
      ]
     },
     "metadata": {},
     "output_type": "display_data"
    },
    {
     "name": "stdout",
     "output_type": "stream",
     "text": [
      "Epoch 1 || train accuracy: 59.24% || test sccuracy: 71.25%\n"
     ]
    },
    {
     "data": {
      "application/vnd.jupyter.widget-view+json": {
       "model_id": "",
       "version_major": 2,
       "version_minor": 0
      },
      "text/plain": [
       "  0%|          | 0/40 [00:00<?, ?it/s]"
      ]
     },
     "metadata": {},
     "output_type": "display_data"
    },
    {
     "name": "stdout",
     "output_type": "stream",
     "text": [
      "Epoch 2 || train accuracy: 71.2% || test sccuracy: 77.775%\n"
     ]
    },
    {
     "data": {
      "application/vnd.jupyter.widget-view+json": {
       "model_id": "",
       "version_major": 2,
       "version_minor": 0
      },
      "text/plain": [
       "  0%|          | 0/40 [00:00<?, ?it/s]"
      ]
     },
     "metadata": {},
     "output_type": "display_data"
    },
    {
     "name": "stdout",
     "output_type": "stream",
     "text": [
      "Epoch 3 || train accuracy: 72.8% || test sccuracy: 79.85%\n"
     ]
    },
    {
     "data": {
      "application/vnd.jupyter.widget-view+json": {
       "model_id": "",
       "version_major": 2,
       "version_minor": 0
      },
      "text/plain": [
       "  0%|          | 0/40 [00:00<?, ?it/s]"
      ]
     },
     "metadata": {},
     "output_type": "display_data"
    },
    {
     "name": "stdout",
     "output_type": "stream",
     "text": [
      "Epoch 4 || train accuracy: 75.32% || test sccuracy: 80.6%\n"
     ]
    },
    {
     "data": {
      "application/vnd.jupyter.widget-view+json": {
       "model_id": "",
       "version_major": 2,
       "version_minor": 0
      },
      "text/plain": [
       "  0%|          | 0/40 [00:00<?, ?it/s]"
      ]
     },
     "metadata": {},
     "output_type": "display_data"
    },
    {
     "name": "stdout",
     "output_type": "stream",
     "text": [
      "Epoch 5 || train accuracy: 76.6% || test sccuracy: 80.575%\n"
     ]
    },
    {
     "data": {
      "application/vnd.jupyter.widget-view+json": {
       "model_id": "",
       "version_major": 2,
       "version_minor": 0
      },
      "text/plain": [
       "  0%|          | 0/40 [00:00<?, ?it/s]"
      ]
     },
     "metadata": {},
     "output_type": "display_data"
    },
    {
     "name": "stdout",
     "output_type": "stream",
     "text": [
      "Epoch 6 || train accuracy: 78.0% || test sccuracy: 81.7%\n"
     ]
    },
    {
     "data": {
      "application/vnd.jupyter.widget-view+json": {
       "model_id": "",
       "version_major": 2,
       "version_minor": 0
      },
      "text/plain": [
       "  0%|          | 0/40 [00:00<?, ?it/s]"
      ]
     },
     "metadata": {},
     "output_type": "display_data"
    },
    {
     "name": "stdout",
     "output_type": "stream",
     "text": [
      "Epoch 7 || train accuracy: 79.52% || test sccuracy: 81.0%\n"
     ]
    },
    {
     "data": {
      "application/vnd.jupyter.widget-view+json": {
       "model_id": "",
       "version_major": 2,
       "version_minor": 0
      },
      "text/plain": [
       "  0%|          | 0/40 [00:00<?, ?it/s]"
      ]
     },
     "metadata": {},
     "output_type": "display_data"
    },
    {
     "name": "stdout",
     "output_type": "stream",
     "text": [
      "Epoch 8 || train accuracy: 80.36% || test sccuracy: 81.225%\n"
     ]
    },
    {
     "data": {
      "application/vnd.jupyter.widget-view+json": {
       "model_id": "",
       "version_major": 2,
       "version_minor": 0
      },
      "text/plain": [
       "  0%|          | 0/40 [00:00<?, ?it/s]"
      ]
     },
     "metadata": {},
     "output_type": "display_data"
    },
    {
     "name": "stdout",
     "output_type": "stream",
     "text": [
      "Epoch 9 || train accuracy: 80.88% || test sccuracy: 82.3%\n"
     ]
    },
    {
     "data": {
      "application/vnd.jupyter.widget-view+json": {
       "model_id": "",
       "version_major": 2,
       "version_minor": 0
      },
      "text/plain": [
       "  0%|          | 0/40 [00:00<?, ?it/s]"
      ]
     },
     "metadata": {},
     "output_type": "display_data"
    },
    {
     "name": "stdout",
     "output_type": "stream",
     "text": [
      "Epoch 10 || train accuracy: 81.32% || test sccuracy: 82.225%\n",
      "Finished Training\n"
     ]
    }
   ],
   "source": [
    "train(model, train_data_loader, test_data_loader, epochs=10)"
   ]
  },
  {
   "cell_type": "code",
   "execution_count": 39,
   "metadata": {},
   "outputs": [
    {
     "name": "stdout",
     "output_type": "stream",
     "text": [
      "Accuracy of the network on the 10000 test images: 82 %\n"
     ]
    },
    {
     "data": {
      "text/plain": [
       "82.225"
      ]
     },
     "execution_count": 39,
     "metadata": {},
     "output_type": "execute_result"
    }
   ],
   "source": [
    "valid(model, test_data_loader)"
   ]
  },
  {
   "cell_type": "code",
   "execution_count": 42,
   "metadata": {},
   "outputs": [
    {
     "name": "stdout",
     "output_type": "stream",
     "text": [
      "Accuracy of   car : 91 %\n",
      "Accuracy of  deer : 78 %\n",
      "Accuracy of horse : 92 %\n",
      "Accuracy of monkey : 62 %\n",
      "Accuracy of truck : 86 %\n"
     ]
    }
   ],
   "source": [
    "valid_class(model, test_data_loader, ('car', 'deer', 'horse', 'monkey', 'truck'))"
   ]
  },
  {
   "cell_type": "markdown",
   "metadata": {
    "id": "pNLyFVEWw3Ge"
   },
   "source": [
    "### 2.2 Fine-tuning ConvNet\n",
    "You should load the pre-trained parameters and modify the output layer of pre-trained ConvNet from 100 to 5. You can either load the pre-trained parameters and then modify the output layer, or change the output layer firstly and then load the matched pre-trained parameters. The examples can be found at [link1](https://pytorch.org/tutorials/intermediate/torchvision_tutorial.html) and [link2](https://pytorch.org/tutorials/beginner/transfer_learning_tutorial.html).\n"
   ]
  },
  {
   "cell_type": "markdown",
   "metadata": {
    "id": "AC3ipaYR99iB"
   },
   "source": [
    "#### **`Q2.2  Finetuning from ConvNet (10-pts)`**\n",
    "1. Load the pre-trained parameters (pretrained on CIFAR-100) and modify the ConvNet. (5-pts)\n",
    "2. Train the model and show the results (settings of hyperparameters, accuracy, learning curve). (5-pts)\n",
    "\n",
    "**Hint**:  Once the network is trained, it is a good practice to understand the feature space by visualization techniques. There are several techniques to visualize the feature space. [**t-sne**](https://lvdmaaten.github.io/tsne/) is a dimensionality reduction method which can help you better understand the feature learning process."
   ]
  },
  {
   "cell_type": "code",
   "execution_count": null,
   "metadata": {
    "id": "tp94zmaw3bnl",
    "scrolled": true
   },
   "outputs": [],
   "source": [
    "################################\n",
    "# Load the pre-trained parameters (pretrained on CIFAR-100) and modify the ConvNet. (5-pts)\n",
    "# Todo: finish the code\n",
    "################################"
   ]
  },
  {
   "cell_type": "code",
   "execution_count": null,
   "metadata": {
    "id": "PN_l_WX199iB",
    "scrolled": true
   },
   "outputs": [],
   "source": [
    "################################\n",
    "# Train the model and show the results (settings of hyperparameters, accuracy, learning curve). (5-pts)\n",
    "# Todo: finish the code\n",
    "################################"
   ]
  },
  {
   "cell_type": "markdown",
   "metadata": {
    "id": "nDUT9jtY99iB"
   },
   "source": [
    "#  **3. Bonus (optional)**\n",
    "Play with your code and try to get a higher accuracy on the test dataset (5 class from STL-10), as high as you can. The teams with the highest accuracy will get extra points, that will go on top of their average lab grade (weighed sum of all lab assignments) (your final grade can not exceed 10):\n",
    "\n",
    "**1st place:** *5%*\n",
    "\n",
    "**2nd and 3rd place:** *4%*\n",
    "\n",
    "**4th and 5th place:** *3%*\n",
    "\n",
    "**6th and 7th place:** *2%*\n",
    "\n",
    "**8th-10th place:** *1%*.\n",
    "\n",
    "You can adjust the hyperparameters and changing structures. Your strategies should be described and explained in your report.\n",
    "\n",
    "**Note:** Please do not use external well-defined networks and please do not add more than 3 additional (beyond the original network) convolutional layers.\n",
    "\n",
    "**Note:** The only data you can use is from CIFAR-100 and SLT-10.\n",
    "\n",
    "**Hints**:\n",
    "*   Data augmentation\n",
    "*   Grid Search\n",
    "*   Freezing early layers\n",
    "*   Modifying Architecture\n",
    "*   Modifying hyperparameters, *etc*.\n",
    "*   [Other advice](https://cs231n.github.io/transfer-learning/)"
   ]
  },
  {
   "cell_type": "code",
   "execution_count": null,
   "metadata": {
    "id": "P1YsjfP199iB"
   },
   "outputs": [],
   "source": [
    "################################\n",
    "# Todo: finish the code\n",
    "################################"
   ]
  },
  {
   "cell_type": "markdown",
   "metadata": {
    "id": "grbC046Fgcs0"
   },
   "source": [
    " # Individual Contribution Report *(Mandatory)*\n",
    "\n",
    "Because we want each student to contribute fairly to the submitted work, we ask you to fill out the textcells below. Write down your contribution to each of the assignment components in percentages. Naturally, percentages for one particular component should add up to 100% (e.g. 30% - 30% - 40%). No further explanation has to be given."
   ]
  },
  {
   "cell_type": "markdown",
   "metadata": {
    "id": "_I5rcHbegcs0"
   },
   "source": [
    "Name:\n",
    "\n",
    "Contribution on research: \\\n",
    "Contribution on programming: \\\n",
    "Contribution on writing:"
   ]
  },
  {
   "cell_type": "markdown",
   "metadata": {
    "id": "CkrptmyK5n4U"
   },
   "source": [
    "Name:\n",
    "\n",
    "Contribution on research: \\\n",
    "Contribution on programming: \\\n",
    "Contribution on writing:"
   ]
  },
  {
   "cell_type": "markdown",
   "metadata": {
    "id": "iZ7N7CXO5n68"
   },
   "source": [
    "Name:\n",
    "\n",
    "Contribution on research: \\\n",
    "Contribution on programming: \\\n",
    "Contribution on writing:"
   ]
  },
  {
   "cell_type": "markdown",
   "metadata": {
    "id": "WLFxLJZg5oPk"
   },
   "source": [
    "Name:\n",
    "\n",
    "Contribution on research: \\\n",
    "Contribution on programming: \\\n",
    "Contribution on writing:"
   ]
  },
  {
   "cell_type": "markdown",
   "metadata": {
    "id": "RctQ8Z1Cgcs0"
   },
   "source": [
    " # -End of Notebook-"
   ]
  }
 ],
 "metadata": {
  "colab": {
   "provenance": []
  },
  "kernelspec": {
   "display_name": "Python 3 (ipykernel)",
   "language": "python",
   "name": "python3"
  },
  "language_info": {
   "codemirror_mode": {
    "name": "ipython",
    "version": 3
   },
   "file_extension": ".py",
   "mimetype": "text/x-python",
   "name": "python",
   "nbconvert_exporter": "python",
   "pygments_lexer": "ipython3",
   "version": "3.10.13"
  }
 },
 "nbformat": 4,
 "nbformat_minor": 4
}
